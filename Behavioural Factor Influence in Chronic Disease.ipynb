{
  "cells": [
    {
      "cell_type": "markdown",
      "id": "39250972",
      "metadata": {
        "id": "39250972"
      },
      "source": [
        "# Data Import"
      ]
    },
    {
      "cell_type": "markdown",
      "id": "f1773aa4",
      "metadata": {
        "id": "f1773aa4"
      },
      "source": [
        "The dataset has been taken from \"Public Health Ontario\". Dataset related to chronic diseased \"Hypertension\", \"COPD\" and \"diabetes\" and their behavioral risk factors are taken to analyze how these risk factors contribute to the chronic disease hospitalization.."
      ]
    },
    {
      "cell_type": "code",
      "execution_count": 1,
      "id": "d839d5c2",
      "metadata": {
        "id": "d839d5c2"
      },
      "outputs": [],
      "source": [
        "##importing necessary libraries for our analysis\n",
        "import pandas as pd\n",
        "import numpy as np\n",
        "import seaborn as sns\n",
        "import matplotlib.pyplot as plt\n",
        "import statsmodels.api as sm"
      ]
    },
    {
      "cell_type": "code",
      "execution_count": 2,
      "id": "9405348a",
      "metadata": {
        "id": "9405348a"
      },
      "outputs": [],
      "source": [
        "## now through read_excel reading our chronic disease dataset\n",
        "chronic = pd.read_excel('Chronic_Disease.xlsx', skiprows = 2)\n",
        "\n",
        "alcohol = pd.read_excel('Alcohol.xlsx', skiprows = 2)\n",
        "\n",
        "nutrition = pd.read_excel('Nutrition.xlsx',skiprows = 2)\n",
        "\n",
        "physical_activity = pd.read_excel('Physical_Activity.xlsx', skiprows = 2)\n",
        "\n",
        "smoking = pd.read_excel('Smoking.xlsx', skiprows = 2)\n",
        "\n",
        "## here we are skipping the first two rows from the excel file, as those rows consists of unwanted data for this analysis say description or the title of the data"
      ]
    },
    {
      "cell_type": "markdown",
      "id": "6059004d",
      "metadata": {
        "id": "6059004d"
      },
      "source": [
        "# Data Cleaning and Preprocessing"
      ]
    },
    {
      "cell_type": "markdown",
      "source": [
        "##Data Cleaning"
      ],
      "metadata": {
        "id": "OhjX6yH77hhp"
      },
      "id": "OhjX6yH77hhp"
    },
    {
      "cell_type": "code",
      "execution_count": 3,
      "id": "e053d6c3",
      "metadata": {
        "colab": {
          "base_uri": "https://localhost:8080/",
          "height": 678
        },
        "id": "e053d6c3",
        "outputId": "37d47d19-d12f-4c80-ea71-00d5a4e23b09"
      },
      "outputs": [
        {
          "output_type": "execute_result",
          "data": {
            "text/plain": [
              "             Indicator                             Measure  Year  \\\n",
              "0  Incidence of asthma  Age-standardized rate (both sexes)  2013   \n",
              "1  Incidence of asthma  Age-standardized rate (both sexes)  2014   \n",
              "2  Incidence of asthma  Age-standardized rate (both sexes)  2015   \n",
              "3  Incidence of asthma  Age-standardized rate (both sexes)  2016   \n",
              "4  Incidence of asthma  Age-standardized rate (both sexes)  2017   \n",
              "\n",
              "              Geography   Rate 95% Confidence Interval  Count  Population  \\\n",
              "0  Algoma Public Health  374.2           (337.2-411.2)  410.0    110890.0   \n",
              "1  Algoma Public Health  402.3           (363.9-440.6)  444.0    109695.0   \n",
              "2  Algoma Public Health  412.8           (373.3-452.2)  442.0    108738.0   \n",
              "3  Algoma Public Health  327.2           (292.0-362.4)  349.0    108295.0   \n",
              "4  Algoma Public Health  319.3           (284.7-353.8)  350.0    108127.0   \n",
              "\n",
              "  Significance Compared to Ontario  \\\n",
              "0                            Lower   \n",
              "1                            Lower   \n",
              "2                               No   \n",
              "3                            Lower   \n",
              "4                            Lower   \n",
              "\n",
              "  Suppression flag (§ = As per data sharing agreement, results with small case counts between 1 and 4 have been suppressed)  \n",
              "0                                                NaN                                                                         \n",
              "1                                                NaN                                                                         \n",
              "2                                                NaN                                                                         \n",
              "3                                                NaN                                                                         \n",
              "4                                                NaN                                                                         "
            ],
            "text/html": [
              "\n",
              "  <div id=\"df-43330ff5-b5c1-4255-8129-547386d12200\" class=\"colab-df-container\">\n",
              "    <div>\n",
              "<style scoped>\n",
              "    .dataframe tbody tr th:only-of-type {\n",
              "        vertical-align: middle;\n",
              "    }\n",
              "\n",
              "    .dataframe tbody tr th {\n",
              "        vertical-align: top;\n",
              "    }\n",
              "\n",
              "    .dataframe thead th {\n",
              "        text-align: right;\n",
              "    }\n",
              "</style>\n",
              "<table border=\"1\" class=\"dataframe\">\n",
              "  <thead>\n",
              "    <tr style=\"text-align: right;\">\n",
              "      <th></th>\n",
              "      <th>Indicator</th>\n",
              "      <th>Measure</th>\n",
              "      <th>Year</th>\n",
              "      <th>Geography</th>\n",
              "      <th>Rate</th>\n",
              "      <th>95% Confidence Interval</th>\n",
              "      <th>Count</th>\n",
              "      <th>Population</th>\n",
              "      <th>Significance Compared to Ontario</th>\n",
              "      <th>Suppression flag (§ = As per data sharing agreement, results with small case counts between 1 and 4 have been suppressed)</th>\n",
              "    </tr>\n",
              "  </thead>\n",
              "  <tbody>\n",
              "    <tr>\n",
              "      <th>0</th>\n",
              "      <td>Incidence of asthma</td>\n",
              "      <td>Age-standardized rate (both sexes)</td>\n",
              "      <td>2013</td>\n",
              "      <td>Algoma Public Health</td>\n",
              "      <td>374.2</td>\n",
              "      <td>(337.2-411.2)</td>\n",
              "      <td>410.0</td>\n",
              "      <td>110890.0</td>\n",
              "      <td>Lower</td>\n",
              "      <td>NaN</td>\n",
              "    </tr>\n",
              "    <tr>\n",
              "      <th>1</th>\n",
              "      <td>Incidence of asthma</td>\n",
              "      <td>Age-standardized rate (both sexes)</td>\n",
              "      <td>2014</td>\n",
              "      <td>Algoma Public Health</td>\n",
              "      <td>402.3</td>\n",
              "      <td>(363.9-440.6)</td>\n",
              "      <td>444.0</td>\n",
              "      <td>109695.0</td>\n",
              "      <td>Lower</td>\n",
              "      <td>NaN</td>\n",
              "    </tr>\n",
              "    <tr>\n",
              "      <th>2</th>\n",
              "      <td>Incidence of asthma</td>\n",
              "      <td>Age-standardized rate (both sexes)</td>\n",
              "      <td>2015</td>\n",
              "      <td>Algoma Public Health</td>\n",
              "      <td>412.8</td>\n",
              "      <td>(373.3-452.2)</td>\n",
              "      <td>442.0</td>\n",
              "      <td>108738.0</td>\n",
              "      <td>No</td>\n",
              "      <td>NaN</td>\n",
              "    </tr>\n",
              "    <tr>\n",
              "      <th>3</th>\n",
              "      <td>Incidence of asthma</td>\n",
              "      <td>Age-standardized rate (both sexes)</td>\n",
              "      <td>2016</td>\n",
              "      <td>Algoma Public Health</td>\n",
              "      <td>327.2</td>\n",
              "      <td>(292.0-362.4)</td>\n",
              "      <td>349.0</td>\n",
              "      <td>108295.0</td>\n",
              "      <td>Lower</td>\n",
              "      <td>NaN</td>\n",
              "    </tr>\n",
              "    <tr>\n",
              "      <th>4</th>\n",
              "      <td>Incidence of asthma</td>\n",
              "      <td>Age-standardized rate (both sexes)</td>\n",
              "      <td>2017</td>\n",
              "      <td>Algoma Public Health</td>\n",
              "      <td>319.3</td>\n",
              "      <td>(284.7-353.8)</td>\n",
              "      <td>350.0</td>\n",
              "      <td>108127.0</td>\n",
              "      <td>Lower</td>\n",
              "      <td>NaN</td>\n",
              "    </tr>\n",
              "  </tbody>\n",
              "</table>\n",
              "</div>\n",
              "    <div class=\"colab-df-buttons\">\n",
              "\n",
              "  <div class=\"colab-df-container\">\n",
              "    <button class=\"colab-df-convert\" onclick=\"convertToInteractive('df-43330ff5-b5c1-4255-8129-547386d12200')\"\n",
              "            title=\"Convert this dataframe to an interactive table.\"\n",
              "            style=\"display:none;\">\n",
              "\n",
              "  <svg xmlns=\"http://www.w3.org/2000/svg\" height=\"24px\" viewBox=\"0 -960 960 960\">\n",
              "    <path d=\"M120-120v-720h720v720H120Zm60-500h600v-160H180v160Zm220 220h160v-160H400v160Zm0 220h160v-160H400v160ZM180-400h160v-160H180v160Zm440 0h160v-160H620v160ZM180-180h160v-160H180v160Zm440 0h160v-160H620v160Z\"/>\n",
              "  </svg>\n",
              "    </button>\n",
              "\n",
              "  <style>\n",
              "    .colab-df-container {\n",
              "      display:flex;\n",
              "      gap: 12px;\n",
              "    }\n",
              "\n",
              "    .colab-df-convert {\n",
              "      background-color: #E8F0FE;\n",
              "      border: none;\n",
              "      border-radius: 50%;\n",
              "      cursor: pointer;\n",
              "      display: none;\n",
              "      fill: #1967D2;\n",
              "      height: 32px;\n",
              "      padding: 0 0 0 0;\n",
              "      width: 32px;\n",
              "    }\n",
              "\n",
              "    .colab-df-convert:hover {\n",
              "      background-color: #E2EBFA;\n",
              "      box-shadow: 0px 1px 2px rgba(60, 64, 67, 0.3), 0px 1px 3px 1px rgba(60, 64, 67, 0.15);\n",
              "      fill: #174EA6;\n",
              "    }\n",
              "\n",
              "    .colab-df-buttons div {\n",
              "      margin-bottom: 4px;\n",
              "    }\n",
              "\n",
              "    [theme=dark] .colab-df-convert {\n",
              "      background-color: #3B4455;\n",
              "      fill: #D2E3FC;\n",
              "    }\n",
              "\n",
              "    [theme=dark] .colab-df-convert:hover {\n",
              "      background-color: #434B5C;\n",
              "      box-shadow: 0px 1px 3px 1px rgba(0, 0, 0, 0.15);\n",
              "      filter: drop-shadow(0px 1px 2px rgba(0, 0, 0, 0.3));\n",
              "      fill: #FFFFFF;\n",
              "    }\n",
              "  </style>\n",
              "\n",
              "    <script>\n",
              "      const buttonEl =\n",
              "        document.querySelector('#df-43330ff5-b5c1-4255-8129-547386d12200 button.colab-df-convert');\n",
              "      buttonEl.style.display =\n",
              "        google.colab.kernel.accessAllowed ? 'block' : 'none';\n",
              "\n",
              "      async function convertToInteractive(key) {\n",
              "        const element = document.querySelector('#df-43330ff5-b5c1-4255-8129-547386d12200');\n",
              "        const dataTable =\n",
              "          await google.colab.kernel.invokeFunction('convertToInteractive',\n",
              "                                                    [key], {});\n",
              "        if (!dataTable) return;\n",
              "\n",
              "        const docLinkHtml = 'Like what you see? Visit the ' +\n",
              "          '<a target=\"_blank\" href=https://colab.research.google.com/notebooks/data_table.ipynb>data table notebook</a>'\n",
              "          + ' to learn more about interactive tables.';\n",
              "        element.innerHTML = '';\n",
              "        dataTable['output_type'] = 'display_data';\n",
              "        await google.colab.output.renderOutput(dataTable, element);\n",
              "        const docLink = document.createElement('div');\n",
              "        docLink.innerHTML = docLinkHtml;\n",
              "        element.appendChild(docLink);\n",
              "      }\n",
              "    </script>\n",
              "  </div>\n",
              "\n",
              "\n",
              "    <div id=\"df-8430070e-a162-43a1-92bf-fb5f411167c5\">\n",
              "      <button class=\"colab-df-quickchart\" onclick=\"quickchart('df-8430070e-a162-43a1-92bf-fb5f411167c5')\"\n",
              "                title=\"Suggest charts\"\n",
              "                style=\"display:none;\">\n",
              "\n",
              "<svg xmlns=\"http://www.w3.org/2000/svg\" height=\"24px\"viewBox=\"0 0 24 24\"\n",
              "     width=\"24px\">\n",
              "    <g>\n",
              "        <path d=\"M19 3H5c-1.1 0-2 .9-2 2v14c0 1.1.9 2 2 2h14c1.1 0 2-.9 2-2V5c0-1.1-.9-2-2-2zM9 17H7v-7h2v7zm4 0h-2V7h2v10zm4 0h-2v-4h2v4z\"/>\n",
              "    </g>\n",
              "</svg>\n",
              "      </button>\n",
              "\n",
              "<style>\n",
              "  .colab-df-quickchart {\n",
              "      --bg-color: #E8F0FE;\n",
              "      --fill-color: #1967D2;\n",
              "      --hover-bg-color: #E2EBFA;\n",
              "      --hover-fill-color: #174EA6;\n",
              "      --disabled-fill-color: #AAA;\n",
              "      --disabled-bg-color: #DDD;\n",
              "  }\n",
              "\n",
              "  [theme=dark] .colab-df-quickchart {\n",
              "      --bg-color: #3B4455;\n",
              "      --fill-color: #D2E3FC;\n",
              "      --hover-bg-color: #434B5C;\n",
              "      --hover-fill-color: #FFFFFF;\n",
              "      --disabled-bg-color: #3B4455;\n",
              "      --disabled-fill-color: #666;\n",
              "  }\n",
              "\n",
              "  .colab-df-quickchart {\n",
              "    background-color: var(--bg-color);\n",
              "    border: none;\n",
              "    border-radius: 50%;\n",
              "    cursor: pointer;\n",
              "    display: none;\n",
              "    fill: var(--fill-color);\n",
              "    height: 32px;\n",
              "    padding: 0;\n",
              "    width: 32px;\n",
              "  }\n",
              "\n",
              "  .colab-df-quickchart:hover {\n",
              "    background-color: var(--hover-bg-color);\n",
              "    box-shadow: 0 1px 2px rgba(60, 64, 67, 0.3), 0 1px 3px 1px rgba(60, 64, 67, 0.15);\n",
              "    fill: var(--button-hover-fill-color);\n",
              "  }\n",
              "\n",
              "  .colab-df-quickchart-complete:disabled,\n",
              "  .colab-df-quickchart-complete:disabled:hover {\n",
              "    background-color: var(--disabled-bg-color);\n",
              "    fill: var(--disabled-fill-color);\n",
              "    box-shadow: none;\n",
              "  }\n",
              "\n",
              "  .colab-df-spinner {\n",
              "    border: 2px solid var(--fill-color);\n",
              "    border-color: transparent;\n",
              "    border-bottom-color: var(--fill-color);\n",
              "    animation:\n",
              "      spin 1s steps(1) infinite;\n",
              "  }\n",
              "\n",
              "  @keyframes spin {\n",
              "    0% {\n",
              "      border-color: transparent;\n",
              "      border-bottom-color: var(--fill-color);\n",
              "      border-left-color: var(--fill-color);\n",
              "    }\n",
              "    20% {\n",
              "      border-color: transparent;\n",
              "      border-left-color: var(--fill-color);\n",
              "      border-top-color: var(--fill-color);\n",
              "    }\n",
              "    30% {\n",
              "      border-color: transparent;\n",
              "      border-left-color: var(--fill-color);\n",
              "      border-top-color: var(--fill-color);\n",
              "      border-right-color: var(--fill-color);\n",
              "    }\n",
              "    40% {\n",
              "      border-color: transparent;\n",
              "      border-right-color: var(--fill-color);\n",
              "      border-top-color: var(--fill-color);\n",
              "    }\n",
              "    60% {\n",
              "      border-color: transparent;\n",
              "      border-right-color: var(--fill-color);\n",
              "    }\n",
              "    80% {\n",
              "      border-color: transparent;\n",
              "      border-right-color: var(--fill-color);\n",
              "      border-bottom-color: var(--fill-color);\n",
              "    }\n",
              "    90% {\n",
              "      border-color: transparent;\n",
              "      border-bottom-color: var(--fill-color);\n",
              "    }\n",
              "  }\n",
              "</style>\n",
              "\n",
              "      <script>\n",
              "        async function quickchart(key) {\n",
              "          const quickchartButtonEl =\n",
              "            document.querySelector('#' + key + ' button');\n",
              "          quickchartButtonEl.disabled = true;  // To prevent multiple clicks.\n",
              "          quickchartButtonEl.classList.add('colab-df-spinner');\n",
              "          try {\n",
              "            const charts = await google.colab.kernel.invokeFunction(\n",
              "                'suggestCharts', [key], {});\n",
              "          } catch (error) {\n",
              "            console.error('Error during call to suggestCharts:', error);\n",
              "          }\n",
              "          quickchartButtonEl.classList.remove('colab-df-spinner');\n",
              "          quickchartButtonEl.classList.add('colab-df-quickchart-complete');\n",
              "        }\n",
              "        (() => {\n",
              "          let quickchartButtonEl =\n",
              "            document.querySelector('#df-8430070e-a162-43a1-92bf-fb5f411167c5 button');\n",
              "          quickchartButtonEl.style.display =\n",
              "            google.colab.kernel.accessAllowed ? 'block' : 'none';\n",
              "        })();\n",
              "      </script>\n",
              "    </div>\n",
              "\n",
              "    </div>\n",
              "  </div>\n"
            ],
            "application/vnd.google.colaboratory.intrinsic+json": {
              "type": "dataframe",
              "variable_name": "chronic",
              "summary": "{\n  \"name\": \"chronic\",\n  \"rows\": 44520,\n  \"fields\": [\n    {\n      \"column\": \"Indicator\",\n      \"properties\": {\n        \"dtype\": \"category\",\n        \"num_unique_values\": 8,\n        \"samples\": [\n          \"Prevalence of asthma\",\n          \"Prevalence of diabetes in adults 20+\",\n          \"Incidence of asthma\"\n        ],\n        \"semantic_type\": \"\",\n        \"description\": \"\"\n      }\n    },\n    {\n      \"column\": \"Measure\",\n      \"properties\": {\n        \"dtype\": \"category\",\n        \"num_unique_values\": 14,\n        \"samples\": [\n          \"Age-specific rate (0 to 19)\",\n          \"Age-specific rate (45 to 64)\",\n          \"Age-standardized rate (both sexes)\"\n        ],\n        \"semantic_type\": \"\",\n        \"description\": \"\"\n      }\n    },\n    {\n      \"column\": \"Year\",\n      \"properties\": {\n        \"dtype\": \"number\",\n        \"std\": 2,\n        \"min\": 2013,\n        \"max\": 2022,\n        \"num_unique_values\": 10,\n        \"samples\": [\n          2021,\n          2014,\n          2018\n        ],\n        \"semantic_type\": \"\",\n        \"description\": \"\"\n      }\n    },\n    {\n      \"column\": \"Geography\",\n      \"properties\": {\n        \"dtype\": \"category\",\n        \"num_unique_values\": 42,\n        \"samples\": [\n          \"Thunder Bay District Health Unit\",\n          \"Middlesex-London Health Unit\",\n          \"Hastings Prince Edward Public Health\"\n        ],\n        \"semantic_type\": \"\",\n        \"description\": \"\"\n      }\n    },\n    {\n      \"column\": \"Rate\",\n      \"properties\": {\n        \"dtype\": \"number\",\n        \"std\": 12812.093247790537,\n        \"min\": 0.32,\n        \"max\": 91281.8,\n        \"num_unique_values\": 27346,\n        \"samples\": [\n          8065.6,\n          2624.6,\n          12770.6\n        ],\n        \"semantic_type\": \"\",\n        \"description\": \"\"\n      }\n    },\n    {\n      \"column\": \"95% Confidence Interval\",\n      \"properties\": {\n        \"dtype\": \"string\",\n        \"num_unique_values\": 35880,\n        \"samples\": [\n          \"(858.7-1108.6)\",\n          \"(280.4-309.6)\",\n          \"(1200.9-1268.5)\"\n        ],\n        \"semantic_type\": \"\",\n        \"description\": \"\"\n      }\n    },\n    {\n      \"column\": \"Count\",\n      \"properties\": {\n        \"dtype\": \"number\",\n        \"std\": 152188.1545745144,\n        \"min\": 6.0,\n        \"max\": 3370130.0,\n        \"num_unique_values\": 12876,\n        \"samples\": [\n          26630.0,\n          7179.0,\n          206.0\n        ],\n        \"semantic_type\": \"\",\n        \"description\": \"\"\n      }\n    },\n    {\n      \"column\": \"Population\",\n      \"properties\": {\n        \"dtype\": \"number\",\n        \"std\": 1160306.1728606625,\n        \"min\": 710.0,\n        \"max\": 15857623.0,\n        \"num_unique_values\": 15432,\n        \"samples\": [\n          198483.0,\n          28981.0,\n          50127.0\n        ],\n        \"semantic_type\": \"\",\n        \"description\": \"\"\n      }\n    },\n    {\n      \"column\": \"Significance Compared to Ontario\",\n      \"properties\": {\n        \"dtype\": \"category\",\n        \"num_unique_values\": 3,\n        \"samples\": [\n          \"Lower\",\n          \"No\",\n          \"Higher\"\n        ],\n        \"semantic_type\": \"\",\n        \"description\": \"\"\n      }\n    },\n    {\n      \"column\": \"Suppression flag (\\u00a7 = As per data sharing agreement, results with small case counts between 1 and 4 have been suppressed)\",\n      \"properties\": {\n        \"dtype\": \"category\",\n        \"num_unique_values\": 1,\n        \"samples\": [\n          \"\\u00a7\"\n        ],\n        \"semantic_type\": \"\",\n        \"description\": \"\"\n      }\n    }\n  ]\n}"
            }
          },
          "metadata": {},
          "execution_count": 3
        }
      ],
      "source": [
        "chronic.head() #lets see what our data says"
      ]
    },
    {
      "cell_type": "code",
      "execution_count": 4,
      "id": "1ae45583",
      "metadata": {
        "id": "1ae45583"
      },
      "outputs": [],
      "source": [
        "chronic = chronic.iloc[:, :-1] # excluding the last column as it doesnot share any information"
      ]
    },
    {
      "cell_type": "code",
      "execution_count": 5,
      "id": "625c5dfd",
      "metadata": {
        "colab": {
          "base_uri": "https://localhost:8080/"
        },
        "id": "625c5dfd",
        "outputId": "d1b954e9-2a4d-44f8-ce0e-c6e1b485e2bc"
      },
      "outputs": [
        {
          "output_type": "stream",
          "name": "stdout",
          "text": [
            "<class 'pandas.core.frame.DataFrame'>\n",
            "RangeIndex: 44520 entries, 0 to 44519\n",
            "Data columns (total 9 columns):\n",
            " #   Column                            Non-Null Count  Dtype  \n",
            "---  ------                            --------------  -----  \n",
            " 0   Indicator                         44520 non-null  object \n",
            " 1   Measure                           44520 non-null  object \n",
            " 2   Year                              44520 non-null  int64  \n",
            " 3   Geography                         44520 non-null  object \n",
            " 4   Rate                              44499 non-null  float64\n",
            " 5   95% Confidence Interval           44499 non-null  object \n",
            " 6   Count                             44499 non-null  float64\n",
            " 7   Population                        44499 non-null  float64\n",
            " 8   Significance Compared to Ontario  36019 non-null  object \n",
            "dtypes: float64(3), int64(1), object(5)\n",
            "memory usage: 3.1+ MB\n"
          ]
        }
      ],
      "source": [
        "chronic.info() #provides major informations like rows, columns datatype of the dataset"
      ]
    },
    {
      "cell_type": "markdown",
      "id": "101867a2",
      "metadata": {
        "id": "101867a2"
      },
      "source": [
        "Our data has total of 9 columns and 44520 rows altogether. Here \"Significance Compared to Ontario\" rows has significant number of missing value rows. However for our particular analysis this row doesnot provide any information and this information is not important, instead of working with these missing rows, we will simply drop this column for now."
      ]
    },
    {
      "cell_type": "code",
      "execution_count": 6,
      "id": "3038415c",
      "metadata": {
        "id": "3038415c"
      },
      "outputs": [],
      "source": [
        "chronic = chronic.drop(columns = 'Significance Compared to Ontario')"
      ]
    },
    {
      "cell_type": "markdown",
      "id": "d3ece797",
      "metadata": {
        "id": "d3ece797"
      },
      "source": [
        "Okay for our analysis, we will be focusing only on Ontario Public Health Units."
      ]
    },
    {
      "cell_type": "code",
      "execution_count": 7,
      "id": "b2971c17",
      "metadata": {
        "id": "b2971c17"
      },
      "outputs": [],
      "source": [
        "chronic = chronic[chronic['Geography'].str.contains('Public Health', case = False, na = False)]"
      ]
    },
    {
      "cell_type": "code",
      "execution_count": 8,
      "id": "8b26722c",
      "metadata": {
        "colab": {
          "base_uri": "https://localhost:8080/"
        },
        "id": "8b26722c",
        "outputId": "10381993-57cc-4ca7-8704-184a7a2e334f"
      },
      "outputs": [
        {
          "output_type": "execute_result",
          "data": {
            "text/plain": [
              "array(['Algoma Public Health', 'Grey Bruce Public Health',\n",
              "       'Halton Region Public Health',\n",
              "       'City of Hamilton Public Health Services',\n",
              "       'Hastings Prince Edward Public Health',\n",
              "       'Chatham-Kent Public Health',\n",
              "       'Kingston, Frontenac and Lennox & Addington Public Health',\n",
              "       'Lambton Public Health', 'Niagara Region Public Health',\n",
              "       'Ottawa Public Health', 'Peel Public Health',\n",
              "       'Peterborough Public Health', 'Public Health Sudbury & Districts',\n",
              "       'Region of Waterloo Public Health and Paramedic Services',\n",
              "       'Wellington-Dufferin-Guelph Public Health',\n",
              "       'York Region Public Health', 'Toronto Public Health',\n",
              "       'Southwestern Public Health', 'Huron Perth Public Health'],\n",
              "      dtype=object)"
            ]
          },
          "metadata": {},
          "execution_count": 8
        }
      ],
      "source": [
        "chronic['Geography'].unique()"
      ]
    },
    {
      "cell_type": "code",
      "execution_count": 9,
      "id": "77f86f56",
      "metadata": {
        "colab": {
          "base_uri": "https://localhost:8080/"
        },
        "id": "77f86f56",
        "outputId": "e358f2ba-984b-4b0c-e190-75d7d7a702f9"
      },
      "outputs": [
        {
          "output_type": "stream",
          "name": "stdout",
          "text": [
            "<class 'pandas.core.frame.DataFrame'>\n",
            "Index: 20140 entries, 0 to 44439\n",
            "Data columns (total 8 columns):\n",
            " #   Column                   Non-Null Count  Dtype  \n",
            "---  ------                   --------------  -----  \n",
            " 0   Indicator                20140 non-null  object \n",
            " 1   Measure                  20140 non-null  object \n",
            " 2   Year                     20140 non-null  int64  \n",
            " 3   Geography                20140 non-null  object \n",
            " 4   Rate                     20140 non-null  float64\n",
            " 5   95% Confidence Interval  20140 non-null  object \n",
            " 6   Count                    20140 non-null  float64\n",
            " 7   Population               20140 non-null  float64\n",
            "dtypes: float64(3), int64(1), object(4)\n",
            "memory usage: 1.4+ MB\n"
          ]
        }
      ],
      "source": [
        "chronic.info()"
      ]
    },
    {
      "cell_type": "markdown",
      "id": "63a78e71",
      "metadata": {
        "id": "63a78e71"
      },
      "source": [
        "Now lets check for missing rows, we know that there are no missing value rows from the information provided by above query. We can check in another way as well i.e."
      ]
    },
    {
      "cell_type": "code",
      "execution_count": 10,
      "id": "9c841f78",
      "metadata": {
        "colab": {
          "base_uri": "https://localhost:8080/",
          "height": 335
        },
        "id": "9c841f78",
        "outputId": "4dd23d84-489c-4da9-8275-29258d40973a"
      },
      "outputs": [
        {
          "output_type": "execute_result",
          "data": {
            "text/plain": [
              "Indicator                  0\n",
              "Measure                    0\n",
              "Year                       0\n",
              "Geography                  0\n",
              "Rate                       0\n",
              "95% Confidence Interval    0\n",
              "Count                      0\n",
              "Population                 0\n",
              "dtype: int64"
            ],
            "text/html": [
              "<div>\n",
              "<style scoped>\n",
              "    .dataframe tbody tr th:only-of-type {\n",
              "        vertical-align: middle;\n",
              "    }\n",
              "\n",
              "    .dataframe tbody tr th {\n",
              "        vertical-align: top;\n",
              "    }\n",
              "\n",
              "    .dataframe thead th {\n",
              "        text-align: right;\n",
              "    }\n",
              "</style>\n",
              "<table border=\"1\" class=\"dataframe\">\n",
              "  <thead>\n",
              "    <tr style=\"text-align: right;\">\n",
              "      <th></th>\n",
              "      <th>0</th>\n",
              "    </tr>\n",
              "  </thead>\n",
              "  <tbody>\n",
              "    <tr>\n",
              "      <th>Indicator</th>\n",
              "      <td>0</td>\n",
              "    </tr>\n",
              "    <tr>\n",
              "      <th>Measure</th>\n",
              "      <td>0</td>\n",
              "    </tr>\n",
              "    <tr>\n",
              "      <th>Year</th>\n",
              "      <td>0</td>\n",
              "    </tr>\n",
              "    <tr>\n",
              "      <th>Geography</th>\n",
              "      <td>0</td>\n",
              "    </tr>\n",
              "    <tr>\n",
              "      <th>Rate</th>\n",
              "      <td>0</td>\n",
              "    </tr>\n",
              "    <tr>\n",
              "      <th>95% Confidence Interval</th>\n",
              "      <td>0</td>\n",
              "    </tr>\n",
              "    <tr>\n",
              "      <th>Count</th>\n",
              "      <td>0</td>\n",
              "    </tr>\n",
              "    <tr>\n",
              "      <th>Population</th>\n",
              "      <td>0</td>\n",
              "    </tr>\n",
              "  </tbody>\n",
              "</table>\n",
              "</div><br><label><b>dtype:</b> int64</label>"
            ]
          },
          "metadata": {},
          "execution_count": 10
        }
      ],
      "source": [
        "chronic.isnull().sum()"
      ]
    },
    {
      "cell_type": "markdown",
      "id": "27a1130a",
      "metadata": {
        "id": "27a1130a"
      },
      "source": [
        "No missing values in our data."
      ]
    },
    {
      "cell_type": "code",
      "execution_count": 11,
      "id": "a031e72e",
      "metadata": {
        "colab": {
          "base_uri": "https://localhost:8080/"
        },
        "id": "a031e72e",
        "outputId": "333a9cb0-53c1-442d-f9a8-a42f8397ae19"
      },
      "outputs": [
        {
          "output_type": "stream",
          "name": "stdout",
          "text": [
            "<class 'pandas.core.frame.DataFrame'>\n",
            "Index: 20140 entries, 0 to 44439\n",
            "Data columns (total 8 columns):\n",
            " #   Column                   Non-Null Count  Dtype  \n",
            "---  ------                   --------------  -----  \n",
            " 0   Indicator                20140 non-null  object \n",
            " 1   Measure                  20140 non-null  object \n",
            " 2   Year                     20140 non-null  int64  \n",
            " 3   Geography                20140 non-null  object \n",
            " 4   Rate                     20140 non-null  float64\n",
            " 5   95% Confidence Interval  20140 non-null  object \n",
            " 6   Count                    20140 non-null  float64\n",
            " 7   Population               20140 non-null  float64\n",
            "dtypes: float64(3), int64(1), object(4)\n",
            "memory usage: 1.4+ MB\n"
          ]
        }
      ],
      "source": [
        "chronic.info() ##now we have our data intact without any missing values"
      ]
    },
    {
      "cell_type": "markdown",
      "id": "a795cf68",
      "metadata": {
        "id": "a795cf68"
      },
      "source": [
        "Now Checking for any Duplicated values in the dataset, as the duplicates will impact our analysis results."
      ]
    },
    {
      "cell_type": "code",
      "execution_count": 12,
      "id": "5f964991",
      "metadata": {
        "colab": {
          "base_uri": "https://localhost:8080/"
        },
        "id": "5f964991",
        "outputId": "0dbbe50b-22fe-4d1d-9d0c-a3108cdae864"
      },
      "outputs": [
        {
          "output_type": "execute_result",
          "data": {
            "text/plain": [
              "np.int64(0)"
            ]
          },
          "metadata": {},
          "execution_count": 12
        }
      ],
      "source": [
        "chronic.duplicated().sum() ## there are no duplicates in our data"
      ]
    },
    {
      "cell_type": "markdown",
      "id": "cbd9c7e7",
      "metadata": {
        "id": "cbd9c7e7"
      },
      "source": [
        "We will not be checking outliers in our dataset. Our data is not a patient level data, however is aggregated data from public health ontario. There is likely minimal cases of outliers than in the patient level data, so we will skip this step."
      ]
    },
    {
      "cell_type": "markdown",
      "id": "3195eaa8",
      "metadata": {
        "id": "3195eaa8"
      },
      "source": [
        "Now doing the same cleaning for all other risk data we have"
      ]
    },
    {
      "cell_type": "code",
      "execution_count": 13,
      "id": "d4619b91",
      "metadata": {
        "id": "d4619b91"
      },
      "outputs": [],
      "source": [
        "alcohol = alcohol.iloc[:, :-1] # excluding the last column as it doesnot share any information\n",
        "smoking = smoking.iloc[:, :-1]\n",
        "nutrition = nutrition.iloc[:, :-1]\n",
        "physical_activity = physical_activity.iloc[:, :-1]"
      ]
    },
    {
      "cell_type": "code",
      "execution_count": 14,
      "id": "20760ec6",
      "metadata": {
        "colab": {
          "base_uri": "https://localhost:8080/"
        },
        "id": "20760ec6",
        "outputId": "fd982d70-8903-4568-862c-a3edb05c2935"
      },
      "outputs": [
        {
          "output_type": "stream",
          "name": "stdout",
          "text": [
            "<class 'pandas.core.frame.DataFrame'>\n",
            "RangeIndex: 16686 entries, 0 to 16685\n",
            "Data columns (total 8 columns):\n",
            " #   Column                            Non-Null Count  Dtype  \n",
            "---  ------                            --------------  -----  \n",
            " 0   Indicator                         16686 non-null  object \n",
            " 1   Measure                           16686 non-null  object \n",
            " 2   Cycle                             16686 non-null  object \n",
            " 3   Geography                         16686 non-null  object \n",
            " 4   Rate                              16409 non-null  float64\n",
            " 5   95% Confidence Interval           16409 non-null  object \n",
            " 6   Sample Size                       16409 non-null  float64\n",
            " 7   Significance Compared to Ontario  3590 non-null   object \n",
            "dtypes: float64(2), object(6)\n",
            "memory usage: 1.0+ MB\n"
          ]
        }
      ],
      "source": [
        "alcohol.info()"
      ]
    },
    {
      "cell_type": "code",
      "execution_count": 15,
      "id": "732753bc",
      "metadata": {
        "colab": {
          "base_uri": "https://localhost:8080/"
        },
        "id": "732753bc",
        "outputId": "712a0e92-856a-4423-e0cc-54bd7e5c1162"
      },
      "outputs": [
        {
          "output_type": "stream",
          "name": "stdout",
          "text": [
            "<class 'pandas.core.frame.DataFrame'>\n",
            "RangeIndex: 6216 entries, 0 to 6215\n",
            "Data columns (total 8 columns):\n",
            " #   Column                            Non-Null Count  Dtype  \n",
            "---  ------                            --------------  -----  \n",
            " 0   Indicator                         6216 non-null   object \n",
            " 1   Measure                           6216 non-null   object \n",
            " 2   Cycle                             6216 non-null   object \n",
            " 3   Geography                         6216 non-null   object \n",
            " 4   Rate                              5725 non-null   float64\n",
            " 5   95% Confidence Interval           5725 non-null   object \n",
            " 6   Sample Size                       5725 non-null   float64\n",
            " 7   Significance Compared to Ontario  1271 non-null   object \n",
            "dtypes: float64(2), object(6)\n",
            "memory usage: 388.6+ KB\n"
          ]
        }
      ],
      "source": [
        "smoking.info()"
      ]
    },
    {
      "cell_type": "code",
      "execution_count": 16,
      "id": "01fcda10",
      "metadata": {
        "colab": {
          "base_uri": "https://localhost:8080/"
        },
        "id": "01fcda10",
        "outputId": "ef8eac80-d0d0-428a-b131-5c7f0bfed4fc"
      },
      "outputs": [
        {
          "output_type": "stream",
          "name": "stdout",
          "text": [
            "<class 'pandas.core.frame.DataFrame'>\n",
            "RangeIndex: 16872 entries, 0 to 16871\n",
            "Data columns (total 8 columns):\n",
            " #   Column                            Non-Null Count  Dtype  \n",
            "---  ------                            --------------  -----  \n",
            " 0   Indicator                         16872 non-null  object \n",
            " 1   Measure                           16872 non-null  object \n",
            " 2   Cycle                             16872 non-null  object \n",
            " 3   Geography                         16872 non-null  object \n",
            " 4   Rate                              13596 non-null  float64\n",
            " 5   95% Confidence Interval           13596 non-null  object \n",
            " 6   Sample Size                       13596 non-null  float64\n",
            " 7   Significance Compared to Ontario  1437 non-null   object \n",
            "dtypes: float64(2), object(6)\n",
            "memory usage: 1.0+ MB\n"
          ]
        }
      ],
      "source": [
        "nutrition.info()"
      ]
    },
    {
      "cell_type": "code",
      "execution_count": 17,
      "id": "c7f4b75b",
      "metadata": {
        "colab": {
          "base_uri": "https://localhost:8080/"
        },
        "id": "c7f4b75b",
        "outputId": "a853e4c0-8612-4325-f43b-79e824916dfb"
      },
      "outputs": [
        {
          "output_type": "stream",
          "name": "stdout",
          "text": [
            "<class 'pandas.core.frame.DataFrame'>\n",
            "RangeIndex: 4884 entries, 0 to 4883\n",
            "Data columns (total 8 columns):\n",
            " #   Column                            Non-Null Count  Dtype  \n",
            "---  ------                            --------------  -----  \n",
            " 0   Indicator                         4884 non-null   object \n",
            " 1   Measure                           4884 non-null   object \n",
            " 2   Cycle                             4884 non-null   object \n",
            " 3   Geography                         4884 non-null   object \n",
            " 4   Rate                              4466 non-null   float64\n",
            " 5   95% Confidence Interval           4466 non-null   object \n",
            " 6   Sample Size                       4466 non-null   float64\n",
            " 7   Significance Compared to Ontario  238 non-null    object \n",
            "dtypes: float64(2), object(6)\n",
            "memory usage: 305.4+ KB\n"
          ]
        }
      ],
      "source": [
        "physical_activity.info()"
      ]
    },
    {
      "cell_type": "markdown",
      "id": "53cf9df0",
      "metadata": {
        "id": "53cf9df0"
      },
      "source": [
        "As we did for chronic dataset, dropping column 'Significance Compared to Ontario' column for these risk data as well. This particular column has significant rows with missing value and instead of working with the missing value which is not possible, removing this column will be better choice, as this column doesnot aid much in our analysis."
      ]
    },
    {
      "cell_type": "code",
      "execution_count": 18,
      "id": "a62bc5f4",
      "metadata": {
        "id": "a62bc5f4"
      },
      "outputs": [],
      "source": [
        "alcohol = alcohol.drop(columns = 'Significance Compared to Ontario')\n",
        "smoking = smoking.drop(columns = 'Significance Compared to Ontario')\n",
        "nutrition = nutrition.drop(columns = 'Significance Compared to Ontario')\n",
        "physical_activity = physical_activity.drop(columns = 'Significance Compared to Ontario')"
      ]
    },
    {
      "cell_type": "markdown",
      "id": "85987f3d",
      "metadata": {
        "id": "85987f3d"
      },
      "source": [
        "Okay for our analysis, we will be focusing only on Ontario's\n",
        " Public Health Units."
      ]
    },
    {
      "cell_type": "code",
      "execution_count": 19,
      "id": "a1850e0e",
      "metadata": {
        "colab": {
          "base_uri": "https://localhost:8080/"
        },
        "id": "a1850e0e",
        "outputId": "65aff18a-d09c-4db7-c4ce-1ab6fb3f1a74"
      },
      "outputs": [
        {
          "output_type": "execute_result",
          "data": {
            "text/plain": [
              "array(['Algoma Public Health', 'Halton Region Public Health',\n",
              "       'City of Hamilton Public Health Services',\n",
              "       'Hastings Prince Edward Public Health',\n",
              "       'Chatham-Kent Public Health',\n",
              "       'Kingston, Frontenac and Lennox & Addington Public Health',\n",
              "       'Lambton Public Health', 'Niagara Region Public Health',\n",
              "       'Ottawa Public Health', 'Peel Public Health',\n",
              "       'Peterborough Public Health', 'Public Health Sudbury & Districts',\n",
              "       'Region of Waterloo Public Health and Emergency Services',\n",
              "       'Wellington-Dufferin-Guelph Public Health',\n",
              "       'York Region Public Health', 'Toronto Public Health',\n",
              "       'Southwestern Public Health', 'Huron Perth Public Health'],\n",
              "      dtype=object)"
            ]
          },
          "metadata": {},
          "execution_count": 19
        }
      ],
      "source": [
        "alcohol = alcohol[alcohol['Geography'].str.contains('Public Health', case = False, na = False)]\n",
        "alcohol['Geography'].unique()"
      ]
    },
    {
      "cell_type": "code",
      "execution_count": 20,
      "id": "8616559a",
      "metadata": {
        "colab": {
          "base_uri": "https://localhost:8080/"
        },
        "id": "8616559a",
        "outputId": "56a10fd7-6a02-4efd-8503-14581fdfb721"
      },
      "outputs": [
        {
          "output_type": "execute_result",
          "data": {
            "text/plain": [
              "array(['Algoma Public Health', 'Grey Bruce Public Health',\n",
              "       'Halton Region Public Health',\n",
              "       'City of Hamilton Public Health Services',\n",
              "       'Chatham-Kent Public Health', 'Lambton Public Health',\n",
              "       'Niagara Region Public Health', 'Ottawa Public Health',\n",
              "       'Peel Public Health', 'Public Health Sudbury & Districts',\n",
              "       'Region of Waterloo Public Health and Paramedic Services',\n",
              "       'Wellington-Dufferin-Guelph Public Health',\n",
              "       'York Region Public Health', 'Toronto Public Health',\n",
              "       'Southwestern Public Health', 'Huron Perth Public Health',\n",
              "       'Grand Erie Public Health', 'Northeastern Public Health',\n",
              "       'South East Public Health'], dtype=object)"
            ]
          },
          "metadata": {},
          "execution_count": 20
        }
      ],
      "source": [
        "smoking = smoking[smoking['Geography'].str.contains('Public Health', case = False, na = False)]\n",
        "smoking['Geography'].unique()"
      ]
    },
    {
      "cell_type": "code",
      "execution_count": 21,
      "id": "0afbf791",
      "metadata": {
        "colab": {
          "base_uri": "https://localhost:8080/"
        },
        "id": "0afbf791",
        "outputId": "a6d6f95c-0dea-4eed-a87c-8b41e43c6dbd"
      },
      "outputs": [
        {
          "output_type": "execute_result",
          "data": {
            "text/plain": [
              "array(['Algoma Public Health', 'Grey Bruce Public Health',\n",
              "       'Halton Region Public Health',\n",
              "       'City of Hamilton Public Health Services',\n",
              "       'Chatham-Kent Public Health', 'Lambton Public Health',\n",
              "       'Niagara Region Public Health', 'Ottawa Public Health',\n",
              "       'Peel Public Health', 'Public Health Sudbury & Districts',\n",
              "       'Region of Waterloo Public Health and Paramedic Services',\n",
              "       'Wellington-Dufferin-Guelph Public Health',\n",
              "       'York Region Public Health', 'Toronto Public Health',\n",
              "       'Southwestern Public Health', 'Huron Perth Public Health',\n",
              "       'Grand Erie Public Health', 'Northeastern Public Health',\n",
              "       'South East Public Health'], dtype=object)"
            ]
          },
          "metadata": {},
          "execution_count": 21
        }
      ],
      "source": [
        "nutrition = nutrition[nutrition['Geography'].str.contains('Public Health', case = False, na = False)]\n",
        "nutrition['Geography'].unique()"
      ]
    },
    {
      "cell_type": "code",
      "execution_count": 22,
      "id": "d67ed41f",
      "metadata": {
        "colab": {
          "base_uri": "https://localhost:8080/"
        },
        "id": "d67ed41f",
        "outputId": "4035b20d-38a2-4f57-cf5f-cca38bab26fa"
      },
      "outputs": [
        {
          "output_type": "execute_result",
          "data": {
            "text/plain": [
              "array(['Algoma Public Health', 'Grey Bruce Public Health',\n",
              "       'Halton Region Public Health',\n",
              "       'City of Hamilton Public Health Services',\n",
              "       'Chatham-Kent Public Health', 'Lambton Public Health',\n",
              "       'Niagara Region Public Health', 'Ottawa Public Health',\n",
              "       'Peel Public Health', 'Public Health Sudbury & Districts',\n",
              "       'Region of Waterloo Public Health and Paramedic Services',\n",
              "       'Wellington-Dufferin-Guelph Public Health',\n",
              "       'York Region Public Health', 'Toronto Public Health',\n",
              "       'Southwestern Public Health', 'Huron Perth Public Health',\n",
              "       'Grand Erie Public Health', 'Northeastern Public Health'],\n",
              "      dtype=object)"
            ]
          },
          "metadata": {},
          "execution_count": 22
        }
      ],
      "source": [
        "physical_activity = physical_activity[physical_activity['Geography'].str.contains('Public Health', case = False, na = False)]\n",
        "physical_activity['Geography'].unique()"
      ]
    },
    {
      "cell_type": "markdown",
      "id": "8f9955e3",
      "metadata": {
        "id": "8f9955e3"
      },
      "source": [
        "Checking for other missing rows"
      ]
    },
    {
      "cell_type": "code",
      "execution_count": 23,
      "id": "7183174d",
      "metadata": {
        "colab": {
          "base_uri": "https://localhost:8080/",
          "height": 304
        },
        "id": "7183174d",
        "outputId": "cccd9c8e-2d18-4f8c-a1a7-fc21375eeed6"
      },
      "outputs": [
        {
          "output_type": "execute_result",
          "data": {
            "text/plain": [
              "Indicator                    0\n",
              "Measure                      0\n",
              "Cycle                        0\n",
              "Geography                    0\n",
              "Rate                       100\n",
              "95% Confidence Interval    100\n",
              "Sample Size                100\n",
              "dtype: int64"
            ],
            "text/html": [
              "<div>\n",
              "<style scoped>\n",
              "    .dataframe tbody tr th:only-of-type {\n",
              "        vertical-align: middle;\n",
              "    }\n",
              "\n",
              "    .dataframe tbody tr th {\n",
              "        vertical-align: top;\n",
              "    }\n",
              "\n",
              "    .dataframe thead th {\n",
              "        text-align: right;\n",
              "    }\n",
              "</style>\n",
              "<table border=\"1\" class=\"dataframe\">\n",
              "  <thead>\n",
              "    <tr style=\"text-align: right;\">\n",
              "      <th></th>\n",
              "      <th>0</th>\n",
              "    </tr>\n",
              "  </thead>\n",
              "  <tbody>\n",
              "    <tr>\n",
              "      <th>Indicator</th>\n",
              "      <td>0</td>\n",
              "    </tr>\n",
              "    <tr>\n",
              "      <th>Measure</th>\n",
              "      <td>0</td>\n",
              "    </tr>\n",
              "    <tr>\n",
              "      <th>Cycle</th>\n",
              "      <td>0</td>\n",
              "    </tr>\n",
              "    <tr>\n",
              "      <th>Geography</th>\n",
              "      <td>0</td>\n",
              "    </tr>\n",
              "    <tr>\n",
              "      <th>Rate</th>\n",
              "      <td>100</td>\n",
              "    </tr>\n",
              "    <tr>\n",
              "      <th>95% Confidence Interval</th>\n",
              "      <td>100</td>\n",
              "    </tr>\n",
              "    <tr>\n",
              "      <th>Sample Size</th>\n",
              "      <td>100</td>\n",
              "    </tr>\n",
              "  </tbody>\n",
              "</table>\n",
              "</div><br><label><b>dtype:</b> int64</label>"
            ]
          },
          "metadata": {},
          "execution_count": 23
        }
      ],
      "source": [
        "alcohol.isnull().sum()"
      ]
    },
    {
      "cell_type": "code",
      "execution_count": 24,
      "id": "b35c21f0",
      "metadata": {
        "colab": {
          "base_uri": "https://localhost:8080/",
          "height": 304
        },
        "id": "b35c21f0",
        "outputId": "c8c59deb-a38d-41a7-e7cb-eae57c3b7250"
      },
      "outputs": [
        {
          "output_type": "execute_result",
          "data": {
            "text/plain": [
              "Indicator                    0\n",
              "Measure                      0\n",
              "Cycle                        0\n",
              "Geography                    0\n",
              "Rate                       276\n",
              "95% Confidence Interval    276\n",
              "Sample Size                276\n",
              "dtype: int64"
            ],
            "text/html": [
              "<div>\n",
              "<style scoped>\n",
              "    .dataframe tbody tr th:only-of-type {\n",
              "        vertical-align: middle;\n",
              "    }\n",
              "\n",
              "    .dataframe tbody tr th {\n",
              "        vertical-align: top;\n",
              "    }\n",
              "\n",
              "    .dataframe thead th {\n",
              "        text-align: right;\n",
              "    }\n",
              "</style>\n",
              "<table border=\"1\" class=\"dataframe\">\n",
              "  <thead>\n",
              "    <tr style=\"text-align: right;\">\n",
              "      <th></th>\n",
              "      <th>0</th>\n",
              "    </tr>\n",
              "  </thead>\n",
              "  <tbody>\n",
              "    <tr>\n",
              "      <th>Indicator</th>\n",
              "      <td>0</td>\n",
              "    </tr>\n",
              "    <tr>\n",
              "      <th>Measure</th>\n",
              "      <td>0</td>\n",
              "    </tr>\n",
              "    <tr>\n",
              "      <th>Cycle</th>\n",
              "      <td>0</td>\n",
              "    </tr>\n",
              "    <tr>\n",
              "      <th>Geography</th>\n",
              "      <td>0</td>\n",
              "    </tr>\n",
              "    <tr>\n",
              "      <th>Rate</th>\n",
              "      <td>276</td>\n",
              "    </tr>\n",
              "    <tr>\n",
              "      <th>95% Confidence Interval</th>\n",
              "      <td>276</td>\n",
              "    </tr>\n",
              "    <tr>\n",
              "      <th>Sample Size</th>\n",
              "      <td>276</td>\n",
              "    </tr>\n",
              "  </tbody>\n",
              "</table>\n",
              "</div><br><label><b>dtype:</b> int64</label>"
            ]
          },
          "metadata": {},
          "execution_count": 24
        }
      ],
      "source": [
        "smoking.isnull().sum()"
      ]
    },
    {
      "cell_type": "code",
      "execution_count": 25,
      "id": "a8611134",
      "metadata": {
        "colab": {
          "base_uri": "https://localhost:8080/",
          "height": 304
        },
        "id": "a8611134",
        "outputId": "5660d705-1cc0-4866-bfc9-5843eb382a81"
      },
      "outputs": [
        {
          "output_type": "execute_result",
          "data": {
            "text/plain": [
              "Indicator                     0\n",
              "Measure                       0\n",
              "Cycle                         0\n",
              "Geography                     0\n",
              "Rate                       1792\n",
              "95% Confidence Interval    1792\n",
              "Sample Size                1792\n",
              "dtype: int64"
            ],
            "text/html": [
              "<div>\n",
              "<style scoped>\n",
              "    .dataframe tbody tr th:only-of-type {\n",
              "        vertical-align: middle;\n",
              "    }\n",
              "\n",
              "    .dataframe tbody tr th {\n",
              "        vertical-align: top;\n",
              "    }\n",
              "\n",
              "    .dataframe thead th {\n",
              "        text-align: right;\n",
              "    }\n",
              "</style>\n",
              "<table border=\"1\" class=\"dataframe\">\n",
              "  <thead>\n",
              "    <tr style=\"text-align: right;\">\n",
              "      <th></th>\n",
              "      <th>0</th>\n",
              "    </tr>\n",
              "  </thead>\n",
              "  <tbody>\n",
              "    <tr>\n",
              "      <th>Indicator</th>\n",
              "      <td>0</td>\n",
              "    </tr>\n",
              "    <tr>\n",
              "      <th>Measure</th>\n",
              "      <td>0</td>\n",
              "    </tr>\n",
              "    <tr>\n",
              "      <th>Cycle</th>\n",
              "      <td>0</td>\n",
              "    </tr>\n",
              "    <tr>\n",
              "      <th>Geography</th>\n",
              "      <td>0</td>\n",
              "    </tr>\n",
              "    <tr>\n",
              "      <th>Rate</th>\n",
              "      <td>1792</td>\n",
              "    </tr>\n",
              "    <tr>\n",
              "      <th>95% Confidence Interval</th>\n",
              "      <td>1792</td>\n",
              "    </tr>\n",
              "    <tr>\n",
              "      <th>Sample Size</th>\n",
              "      <td>1792</td>\n",
              "    </tr>\n",
              "  </tbody>\n",
              "</table>\n",
              "</div><br><label><b>dtype:</b> int64</label>"
            ]
          },
          "metadata": {},
          "execution_count": 25
        }
      ],
      "source": [
        "nutrition.isnull().sum()"
      ]
    },
    {
      "cell_type": "code",
      "execution_count": 26,
      "id": "840adce6",
      "metadata": {
        "colab": {
          "base_uri": "https://localhost:8080/",
          "height": 304
        },
        "id": "840adce6",
        "outputId": "475ab896-1d34-491a-9306-48ad273d492a"
      },
      "outputs": [
        {
          "output_type": "execute_result",
          "data": {
            "text/plain": [
              "Indicator                    0\n",
              "Measure                      0\n",
              "Cycle                        0\n",
              "Geography                    0\n",
              "Rate                       233\n",
              "95% Confidence Interval    233\n",
              "Sample Size                233\n",
              "dtype: int64"
            ],
            "text/html": [
              "<div>\n",
              "<style scoped>\n",
              "    .dataframe tbody tr th:only-of-type {\n",
              "        vertical-align: middle;\n",
              "    }\n",
              "\n",
              "    .dataframe tbody tr th {\n",
              "        vertical-align: top;\n",
              "    }\n",
              "\n",
              "    .dataframe thead th {\n",
              "        text-align: right;\n",
              "    }\n",
              "</style>\n",
              "<table border=\"1\" class=\"dataframe\">\n",
              "  <thead>\n",
              "    <tr style=\"text-align: right;\">\n",
              "      <th></th>\n",
              "      <th>0</th>\n",
              "    </tr>\n",
              "  </thead>\n",
              "  <tbody>\n",
              "    <tr>\n",
              "      <th>Indicator</th>\n",
              "      <td>0</td>\n",
              "    </tr>\n",
              "    <tr>\n",
              "      <th>Measure</th>\n",
              "      <td>0</td>\n",
              "    </tr>\n",
              "    <tr>\n",
              "      <th>Cycle</th>\n",
              "      <td>0</td>\n",
              "    </tr>\n",
              "    <tr>\n",
              "      <th>Geography</th>\n",
              "      <td>0</td>\n",
              "    </tr>\n",
              "    <tr>\n",
              "      <th>Rate</th>\n",
              "      <td>233</td>\n",
              "    </tr>\n",
              "    <tr>\n",
              "      <th>95% Confidence Interval</th>\n",
              "      <td>233</td>\n",
              "    </tr>\n",
              "    <tr>\n",
              "      <th>Sample Size</th>\n",
              "      <td>233</td>\n",
              "    </tr>\n",
              "  </tbody>\n",
              "</table>\n",
              "</div><br><label><b>dtype:</b> int64</label>"
            ]
          },
          "metadata": {},
          "execution_count": 26
        }
      ],
      "source": [
        "physical_activity.isnull().sum()"
      ]
    },
    {
      "cell_type": "code",
      "execution_count": 27,
      "id": "1d333437",
      "metadata": {
        "id": "1d333437"
      },
      "outputs": [],
      "source": [
        "alcohol = alcohol.dropna()\n",
        "smoking = smoking.dropna()\n",
        "nutrition = nutrition.dropna()\n",
        "physical_activity = physical_activity.dropna()"
      ]
    },
    {
      "cell_type": "markdown",
      "id": "27864b74",
      "metadata": {
        "id": "27864b74"
      },
      "source": [
        "Checking for Duplicates in data"
      ]
    },
    {
      "cell_type": "code",
      "execution_count": 28,
      "id": "94d5b050",
      "metadata": {
        "colab": {
          "base_uri": "https://localhost:8080/"
        },
        "id": "94d5b050",
        "outputId": "812c576b-cdb3-4d59-89b9-96b47c190d29"
      },
      "outputs": [
        {
          "output_type": "execute_result",
          "data": {
            "text/plain": [
              "np.int64(0)"
            ]
          },
          "metadata": {},
          "execution_count": 28
        }
      ],
      "source": [
        "alcohol.duplicated().sum()"
      ]
    },
    {
      "cell_type": "code",
      "execution_count": 29,
      "id": "88ef3964",
      "metadata": {
        "colab": {
          "base_uri": "https://localhost:8080/"
        },
        "id": "88ef3964",
        "outputId": "5fc4305c-f837-4f67-abcb-3ba3525b7a3b"
      },
      "outputs": [
        {
          "output_type": "execute_result",
          "data": {
            "text/plain": [
              "np.int64(0)"
            ]
          },
          "metadata": {},
          "execution_count": 29
        }
      ],
      "source": [
        "smoking.duplicated().sum()"
      ]
    },
    {
      "cell_type": "code",
      "execution_count": 30,
      "id": "fb320004",
      "metadata": {
        "colab": {
          "base_uri": "https://localhost:8080/"
        },
        "id": "fb320004",
        "outputId": "a57892f1-c8c6-4d07-bacb-5e4826a40f44"
      },
      "outputs": [
        {
          "output_type": "execute_result",
          "data": {
            "text/plain": [
              "np.int64(0)"
            ]
          },
          "metadata": {},
          "execution_count": 30
        }
      ],
      "source": [
        "nutrition.duplicated().sum()"
      ]
    },
    {
      "cell_type": "code",
      "execution_count": 31,
      "id": "c82167d3",
      "metadata": {
        "colab": {
          "base_uri": "https://localhost:8080/"
        },
        "id": "c82167d3",
        "outputId": "a2202306-f1a1-47c6-f35a-1ad60bed5c1f"
      },
      "outputs": [
        {
          "output_type": "execute_result",
          "data": {
            "text/plain": [
              "np.int64(0)"
            ]
          },
          "metadata": {},
          "execution_count": 31
        }
      ],
      "source": [
        "physical_activity.duplicated().sum()"
      ]
    },
    {
      "cell_type": "markdown",
      "id": "e878f39d",
      "metadata": {
        "id": "e878f39d"
      },
      "source": [
        "##Data Preprocessing"
      ]
    },
    {
      "cell_type": "markdown",
      "id": "0ebbd426",
      "metadata": {
        "id": "0ebbd426"
      },
      "source": [
        "We have one dataset i.e. Chronic, this particular dataset has all data for our chronic disease that we are working with i.e. \"Hypertension\", \"Diabetes\" and \"COPD\". We have to differentiate these. Also We will do our statistical model analysis based on \"Age Standardized\" Measure so we will be excluding other Measures as well."
      ]
    },
    {
      "cell_type": "code",
      "execution_count": 32,
      "id": "12c9bc3a",
      "metadata": {
        "colab": {
          "base_uri": "https://localhost:8080/"
        },
        "id": "12c9bc3a",
        "outputId": "0f0facd4-7f4b-4b06-b7fb-8ca8fecafbc2"
      },
      "outputs": [
        {
          "output_type": "execute_result",
          "data": {
            "text/plain": [
              "array(['Incidence of asthma', 'Prevalence of asthma',\n",
              "       'Incidence of COPD in adults 20+',\n",
              "       'Prevalence of COPD in adults 20+',\n",
              "       'Incidence of diabetes in adults 20+',\n",
              "       'Prevalence of diabetes in adults 20+',\n",
              "       'Incidence of hypertension in adults 20+',\n",
              "       'Prevalence of hypertension in adults 20+'], dtype=object)"
            ]
          },
          "metadata": {},
          "execution_count": 32
        }
      ],
      "source": [
        "chronic['Indicator'].unique()\n",
        "##Also we have Incidence and Prevalence data for each chronic disease\n",
        "##For our analysis we will be going through Prevalence Data"
      ]
    },
    {
      "cell_type": "code",
      "execution_count": 33,
      "id": "e2183f0e",
      "metadata": {
        "id": "e2183f0e"
      },
      "outputs": [],
      "source": [
        "hypertension = chronic[chronic['Indicator'] == 'Prevalence of hypertension in adults 20+']\n",
        "COPD = chronic[chronic['Indicator'] == 'Prevalence of COPD in adults 20+']\n",
        "diabetes = chronic[chronic['Indicator'] == 'Prevalence of diabetes in adults 20+']\n",
        "\n",
        "## we have successfully divided our dataset."
      ]
    },
    {
      "cell_type": "markdown",
      "id": "36433890",
      "metadata": {
        "id": "36433890"
      },
      "source": [
        "Similarly for risk factors dataset"
      ]
    },
    {
      "cell_type": "code",
      "execution_count": 34,
      "id": "96957d45",
      "metadata": {
        "colab": {
          "base_uri": "https://localhost:8080/"
        },
        "id": "96957d45",
        "outputId": "6c90d4f6-8d24-41b0-bb39-214c9b366a32"
      },
      "outputs": [
        {
          "output_type": "execute_result",
          "data": {
            "text/plain": [
              "array(['Self-reported rate of exceeding either low-risk alcohol drinking guideline',\n",
              "       'Self-reported rate of exceeding the low-risk alcohol drinking guideline for chronic disease',\n",
              "       'Self-reported rate of exceeding the low-risk alcohol drinking guideline for injury',\n",
              "       'Self-reported heavy drinking rate',\n",
              "       'Self-reported underage drinking rate',\n",
              "       'Self-reported rate of lifetime abstinence or consuming no alcoholic drinks in the past 12 months',\n",
              "       'Self-reported rate of consuming three or more standard drinks in the past seven days',\n",
              "       'Self-reported rate of consuming one or two standard drinks in the past seven days',\n",
              "       'Self-reported rate of consuming three to six standard drinks in the past seven days',\n",
              "       'Self-reported rate of consuming seven or more standard drinks in the past seven days',\n",
              "       'Self-reported rate of current drinking (i.e., had one or more drinks in the past 12 months)',\n",
              "       'Self-reported rate of consuming no alcoholic drinks in the past seven days'],\n",
              "      dtype=object)"
            ]
          },
          "metadata": {},
          "execution_count": 34
        }
      ],
      "source": [
        "alcohol['Indicator'].unique()"
      ]
    },
    {
      "cell_type": "code",
      "execution_count": 35,
      "id": "667aa014",
      "metadata": {
        "colab": {
          "base_uri": "https://localhost:8080/"
        },
        "id": "667aa014",
        "outputId": "519d7adc-7cdc-4c0c-936b-b3191761fa21"
      },
      "outputs": [
        {
          "output_type": "execute_result",
          "data": {
            "text/plain": [
              "array(['Self-reported adult daily smoking rate',\n",
              "       'Self-reported adult current smoking rate (daily or occasional)',\n",
              "       'Self-reported adult former smoking rate',\n",
              "       'Self-reported adult smoking abstinence rate (never smokers)',\n",
              "       'Self-reported youth (12 to 19) current smoking rate (daily or occasional)',\n",
              "       'Self-reported youth (12 to 19) smoking abstinence rate (never smokers)'],\n",
              "      dtype=object)"
            ]
          },
          "metadata": {},
          "execution_count": 35
        }
      ],
      "source": [
        "smoking['Indicator'].unique()"
      ]
    },
    {
      "cell_type": "code",
      "execution_count": 36,
      "id": "92f6957f",
      "metadata": {
        "colab": {
          "base_uri": "https://localhost:8080/"
        },
        "id": "92f6957f",
        "outputId": "25037cf4-831f-42e4-9a33-916c1f8c471b"
      },
      "outputs": [
        {
          "output_type": "execute_result",
          "data": {
            "text/plain": [
              "array(['Self-reported prevalence of adult underweight',\n",
              "       'Self-reported prevalence of adult normal weight',\n",
              "       'Self-reported prevalence of adult overweight',\n",
              "       'Self-reported prevalence of adult obesity',\n",
              "       'Self-reported prevalence of corrected adult underweight',\n",
              "       'Self-reported prevalence of corrected adult normal weight',\n",
              "       'Self-reported prevalence of corrected adult overweight',\n",
              "       'Self-reported prevalence of corrected adult obese',\n",
              "       'Self-reported prevalence of youth normal weight',\n",
              "       'Self-reported prevalence of youth overweight',\n",
              "       'Self-reported prevalence of youth obesity',\n",
              "       'Self-reported prevalence of consumption of vegetables and fruits five or more times per day',\n",
              "       'Self-reported prevalence of consumption of vegetables and fruits four or less times per day'],\n",
              "      dtype=object)"
            ]
          },
          "metadata": {},
          "execution_count": 36
        }
      ],
      "source": [
        "nutrition['Indicator'].unique()"
      ]
    },
    {
      "cell_type": "code",
      "execution_count": 37,
      "id": "4a26b016",
      "metadata": {
        "colab": {
          "base_uri": "https://localhost:8080/"
        },
        "id": "4a26b016",
        "outputId": "14845282-4b3f-446a-cf76-4cd7f83b60e1"
      },
      "outputs": [
        {
          "output_type": "execute_result",
          "data": {
            "text/plain": [
              "array(['Self-reported adult physical activity at or above recommended level from the Canadian Physical Activity Guidelines',\n",
              "       'Self-reported adult physical activity below recommended level from the Canadian Physical Activity Guidelines',\n",
              "       'Self-reported no adult physical activity minutes',\n",
              "       'Self-reported youth (12 to 17) physical activity at or above recommended level from the Canadian Physical Activity Guidelines',\n",
              "       'Self-reported youth (12 to 17) physical activity below recommended level from the Canadian Physical Activity Guidelines'],\n",
              "      dtype=object)"
            ]
          },
          "metadata": {},
          "execution_count": 37
        }
      ],
      "source": [
        "physical_activity['Indicator'].unique()"
      ]
    },
    {
      "cell_type": "code",
      "execution_count": 38,
      "id": "e015d82c",
      "metadata": {
        "id": "e015d82c"
      },
      "outputs": [],
      "source": [
        "alcohol = alcohol[alcohol['Indicator'] == 'Self-reported rate of exceeding the low-risk alcohol drinking guideline for chronic disease']\n",
        "smoking = smoking[smoking['Indicator'] == 'Self-reported adult current smoking rate (daily or occasional)']\n",
        "nutrition = nutrition[nutrition['Indicator'] == 'Self-reported prevalence of adult obesity']\n",
        "physical_activity = physical_activity[physical_activity['Indicator'] == 'Self-reported no adult physical activity minutes']"
      ]
    },
    {
      "cell_type": "markdown",
      "id": "017d9620",
      "metadata": {
        "id": "017d9620"
      },
      "source": [
        "So that there wont be any confusion as all the datsets have same column names, lets rename those as well. We will only change the names of the columns we will be using further in our analysis."
      ]
    },
    {
      "cell_type": "code",
      "execution_count": 39,
      "id": "be25926f",
      "metadata": {
        "id": "be25926f"
      },
      "outputs": [],
      "source": [
        "hypertension = hypertension.rename(\n",
        "    columns = {\n",
        "        'Rate' : 'Hypertension_Rate',\n",
        "        'Count' : 'Hypertension_Count',\n",
        "        'Population' : 'Hypertension_Population'\n",
        "    }\n",
        ")"
      ]
    },
    {
      "cell_type": "code",
      "execution_count": 40,
      "id": "e61b2a28",
      "metadata": {
        "id": "e61b2a28"
      },
      "outputs": [],
      "source": [
        "COPD = COPD.rename(\n",
        "    columns = {\n",
        "        'Rate' : 'COPD_Rate',\n",
        "        'Count' : 'COPD_Count',\n",
        "        'Population' : 'COPD_Population'\n",
        "    }\n",
        ")"
      ]
    },
    {
      "cell_type": "code",
      "execution_count": 41,
      "id": "7f1ade63",
      "metadata": {
        "id": "7f1ade63"
      },
      "outputs": [],
      "source": [
        "diabetes = diabetes.rename(\n",
        "    columns = {\n",
        "        'Rate' : 'Diabetes_Rate',\n",
        "        'Count' : 'Diabetes_Count',\n",
        "        'Population' : 'Diabetes_Population'\n",
        "    }\n",
        ")"
      ]
    },
    {
      "cell_type": "code",
      "execution_count": 42,
      "id": "6be6a6ae",
      "metadata": {
        "id": "6be6a6ae"
      },
      "outputs": [],
      "source": [
        "alcohol = alcohol.rename(\n",
        "    columns = {\n",
        "        'Rate' : 'Alcohol_Consumption_Rate',\n",
        "        'Indicator' : 'Alcohol_Indicator'\n",
        "    }\n",
        ")"
      ]
    },
    {
      "cell_type": "code",
      "execution_count": 43,
      "id": "7d18a816",
      "metadata": {
        "id": "7d18a816"
      },
      "outputs": [],
      "source": [
        "smoking = smoking.rename(\n",
        "    columns = {\n",
        "        'Rate' : 'Smoking_Rate',\n",
        "        'Indicator' : 'Smoking_Indicator'\n",
        "    }\n",
        ")"
      ]
    },
    {
      "cell_type": "code",
      "execution_count": 44,
      "id": "d45001fa",
      "metadata": {
        "id": "d45001fa"
      },
      "outputs": [],
      "source": [
        "nutrition = nutrition.rename(\n",
        "    columns = {\n",
        "        'Rate' : 'Obesity_Rate',\n",
        "        'Indicator' : 'Obesity_Indicator'\n",
        "    }\n",
        ")"
      ]
    },
    {
      "cell_type": "code",
      "execution_count": 45,
      "id": "8a2019f7",
      "metadata": {
        "id": "8a2019f7"
      },
      "outputs": [],
      "source": [
        "physical_activity = physical_activity.rename(\n",
        "    columns = {\n",
        "        'Rate' : 'PA_Rate',\n",
        "        'Indicator' : 'PA_Indicator'\n",
        "    }\n",
        ")"
      ]
    },
    {
      "cell_type": "markdown",
      "id": "3cc4bb19",
      "metadata": {
        "id": "3cc4bb19"
      },
      "source": [
        "Now creating a different dataframe for each having only the AGE STANDARDIZED data. This main data that we have created we will use this for descriptive analysis while EDA. So instead of changing the same, lets create a new Dataframe."
      ]
    },
    {
      "cell_type": "code",
      "execution_count": 46,
      "id": "15674779",
      "metadata": {
        "id": "15674779"
      },
      "outputs": [],
      "source": [
        "hypertension_as = hypertension[hypertension['Measure'] == 'Age-standardized rate (both sexes)']\n",
        "COPD_as = COPD[COPD['Measure'] == 'Age-standardized rate (both sexes)']\n",
        "diabetes_as = diabetes[diabetes['Measure'] == 'Age-standardized rate (both sexes)']\n",
        "alcohol_as = alcohol[alcohol['Measure'] == 'Age-standardized rate (both sexes)']\n",
        "smoking_as = smoking[smoking['Measure'] == 'Age-standardized rate (both sexes)']\n",
        "nutrition_as = nutrition[nutrition['Measure'] == 'Age-standardized rate (both sexes)']\n",
        "physical_activity_as = physical_activity[physical_activity['Measure'] == 'Age-standardized rate (both sexes)']"
      ]
    },
    {
      "cell_type": "markdown",
      "id": "ad7def58",
      "metadata": {
        "id": "ad7def58"
      },
      "source": [
        "Then lets create our final dataframe, merging all these  data, for our statistical model analysis that we will do after we complete out EDA."
      ]
    },
    {
      "cell_type": "code",
      "execution_count": 47,
      "id": "e40fc28b",
      "metadata": {
        "id": "e40fc28b"
      },
      "outputs": [],
      "source": [
        "df = hypertension_as.merge(COPD_as[['COPD_Rate', 'COPD_Count', 'COPD_Population', 'Year', 'Geography']], on = ['Year', 'Geography'], how = 'left')\\\n",
        "                    .merge(diabetes_as[['Diabetes_Rate', 'Diabetes_Count', 'Diabetes_Population', 'Year', 'Geography']], on = ['Year', 'Geography'], how = 'left')"
      ]
    },
    {
      "cell_type": "markdown",
      "id": "9fe0776a",
      "metadata": {
        "id": "9fe0776a"
      },
      "source": [
        "for combining the Risk factor dataset, we have to convert the cycle into year. The cycle here is in fiscal year format. We have to convert them into proper year format and only then we can join the datasets."
      ]
    },
    {
      "cell_type": "code",
      "execution_count": 48,
      "id": "4145c345",
      "metadata": {
        "colab": {
          "base_uri": "https://localhost:8080/"
        },
        "id": "4145c345",
        "outputId": "a47f7475-8fb2-4c65-d53c-0b1c8f6bec72"
      },
      "outputs": [
        {
          "output_type": "stream",
          "name": "stderr",
          "text": [
            "/tmp/ipython-input-48-891256641.py:1: SettingWithCopyWarning: \n",
            "A value is trying to be set on a copy of a slice from a DataFrame.\n",
            "Try using .loc[row_indexer,col_indexer] = value instead\n",
            "\n",
            "See the caveats in the documentation: https://pandas.pydata.org/pandas-docs/stable/user_guide/indexing.html#returning-a-view-versus-a-copy\n",
            "  alcohol_as['Year'] = np.where(\n",
            "/tmp/ipython-input-48-891256641.py:6: SettingWithCopyWarning: \n",
            "A value is trying to be set on a copy of a slice from a DataFrame.\n",
            "Try using .loc[row_indexer,col_indexer] = value instead\n",
            "\n",
            "See the caveats in the documentation: https://pandas.pydata.org/pandas-docs/stable/user_guide/indexing.html#returning-a-view-versus-a-copy\n",
            "  alcohol_as['Year'] = alcohol_as['Year'].astype('int64')\n"
          ]
        }
      ],
      "source": [
        "alcohol_as['Year'] = np.where(\n",
        "    alcohol_as['Cycle'].notna() & alcohol_as['Cycle'].str.contains('-'),\n",
        "    alcohol_as['Cycle'].str.split('-').str[1].fillna(0).astype(int) + 2000,\n",
        "    alcohol_as['Cycle'].fillna(0).astype(object)\n",
        ")\n",
        "alcohol_as['Year'] = alcohol_as['Year'].astype('int64')"
      ]
    },
    {
      "cell_type": "code",
      "execution_count": 49,
      "id": "cf89aa57",
      "metadata": {
        "colab": {
          "base_uri": "https://localhost:8080/"
        },
        "id": "cf89aa57",
        "outputId": "0c5672c0-6cff-4090-e59c-3d2fc61dcdb7"
      },
      "outputs": [
        {
          "output_type": "stream",
          "name": "stderr",
          "text": [
            "/tmp/ipython-input-49-2555515710.py:1: SettingWithCopyWarning: \n",
            "A value is trying to be set on a copy of a slice from a DataFrame.\n",
            "Try using .loc[row_indexer,col_indexer] = value instead\n",
            "\n",
            "See the caveats in the documentation: https://pandas.pydata.org/pandas-docs/stable/user_guide/indexing.html#returning-a-view-versus-a-copy\n",
            "  smoking_as['Year'] = np.where(\n",
            "/tmp/ipython-input-49-2555515710.py:6: SettingWithCopyWarning: \n",
            "A value is trying to be set on a copy of a slice from a DataFrame.\n",
            "Try using .loc[row_indexer,col_indexer] = value instead\n",
            "\n",
            "See the caveats in the documentation: https://pandas.pydata.org/pandas-docs/stable/user_guide/indexing.html#returning-a-view-versus-a-copy\n",
            "  smoking_as['Year'] = smoking_as['Year'].astype('int64')\n"
          ]
        }
      ],
      "source": [
        "smoking_as['Year'] = np.where(\n",
        "    smoking_as['Cycle'].notna() & smoking_as['Cycle'].str.contains('-'),\n",
        "    smoking_as['Cycle'].str.split('-').str[1].fillna(0).astype(int) + 2000,\n",
        "    smoking_as['Cycle'].fillna(0).astype(object)\n",
        ")\n",
        "smoking_as['Year'] = smoking_as['Year'].astype('int64')"
      ]
    },
    {
      "cell_type": "code",
      "execution_count": 50,
      "id": "c2682d0f",
      "metadata": {
        "colab": {
          "base_uri": "https://localhost:8080/"
        },
        "id": "c2682d0f",
        "outputId": "c3bdfd42-65e7-4280-e571-1408963e35e0"
      },
      "outputs": [
        {
          "output_type": "stream",
          "name": "stderr",
          "text": [
            "/tmp/ipython-input-50-91266937.py:1: SettingWithCopyWarning: \n",
            "A value is trying to be set on a copy of a slice from a DataFrame.\n",
            "Try using .loc[row_indexer,col_indexer] = value instead\n",
            "\n",
            "See the caveats in the documentation: https://pandas.pydata.org/pandas-docs/stable/user_guide/indexing.html#returning-a-view-versus-a-copy\n",
            "  nutrition_as['Year'] = np.where(\n",
            "/tmp/ipython-input-50-91266937.py:6: SettingWithCopyWarning: \n",
            "A value is trying to be set on a copy of a slice from a DataFrame.\n",
            "Try using .loc[row_indexer,col_indexer] = value instead\n",
            "\n",
            "See the caveats in the documentation: https://pandas.pydata.org/pandas-docs/stable/user_guide/indexing.html#returning-a-view-versus-a-copy\n",
            "  nutrition_as['Year'] = nutrition_as['Year'].astype('int64')\n"
          ]
        }
      ],
      "source": [
        "nutrition_as['Year'] = np.where(\n",
        "    nutrition_as['Cycle'].notna() & nutrition_as['Cycle'].str.contains('-'),\n",
        "    nutrition_as['Cycle'].str.split('-').str[1].fillna(0).astype(int) + 2000,\n",
        "    nutrition_as['Cycle'].fillna(0).astype(object)\n",
        ")\n",
        "nutrition_as['Year'] = nutrition_as['Year'].astype('int64')"
      ]
    },
    {
      "cell_type": "code",
      "execution_count": 51,
      "id": "286bbea0",
      "metadata": {
        "colab": {
          "base_uri": "https://localhost:8080/"
        },
        "id": "286bbea0",
        "outputId": "03cc4931-8fa5-4697-b471-ab9ec7f5acfa"
      },
      "outputs": [
        {
          "output_type": "stream",
          "name": "stderr",
          "text": [
            "/tmp/ipython-input-51-1650669512.py:1: SettingWithCopyWarning: \n",
            "A value is trying to be set on a copy of a slice from a DataFrame.\n",
            "Try using .loc[row_indexer,col_indexer] = value instead\n",
            "\n",
            "See the caveats in the documentation: https://pandas.pydata.org/pandas-docs/stable/user_guide/indexing.html#returning-a-view-versus-a-copy\n",
            "  physical_activity_as['Year'] = np.where(\n",
            "/tmp/ipython-input-51-1650669512.py:6: SettingWithCopyWarning: \n",
            "A value is trying to be set on a copy of a slice from a DataFrame.\n",
            "Try using .loc[row_indexer,col_indexer] = value instead\n",
            "\n",
            "See the caveats in the documentation: https://pandas.pydata.org/pandas-docs/stable/user_guide/indexing.html#returning-a-view-versus-a-copy\n",
            "  physical_activity_as['Year'] = physical_activity_as['Year'].astype('int64')\n"
          ]
        }
      ],
      "source": [
        "physical_activity_as['Year'] = np.where(\n",
        "    physical_activity_as['Cycle'].notna() & physical_activity_as['Cycle'].str.contains('-'),\n",
        "    physical_activity_as['Cycle'].str.split('-').str[1].fillna(0).astype(int) + 2000,\n",
        "    physical_activity_as['Cycle'].fillna(0).astype(object)\n",
        ")\n",
        "physical_activity_as['Year'] = physical_activity_as['Year'].astype('int64')"
      ]
    },
    {
      "cell_type": "code",
      "execution_count": 52,
      "id": "b3c19ffe",
      "metadata": {
        "id": "b3c19ffe"
      },
      "outputs": [],
      "source": [
        "df = df.merge(alcohol_as[['Alcohol_Consumption_Rate', 'Year', 'Geography']], on = ['Year', 'Geography'], how = 'left')\\\n",
        "       .merge(smoking_as[['Smoking_Rate', 'Year', 'Geography']], on = ['Year', 'Geography'], how = 'left')\\\n",
        "       .merge(nutrition_as[['Obesity_Rate', 'Year', 'Geography']], on = ['Year', 'Geography'], how = 'left')\\\n",
        "       .merge(physical_activity_as[['PA_Rate', 'Year', 'Geography']], on = ['Year', 'Geography'], how = 'left')"
      ]
    },
    {
      "cell_type": "code",
      "execution_count": 53,
      "id": "2f3e4520",
      "metadata": {
        "colab": {
          "base_uri": "https://localhost:8080/"
        },
        "id": "2f3e4520",
        "outputId": "a285d639-2ef2-4e77-fe3f-ef6de1dece9f"
      },
      "outputs": [
        {
          "output_type": "stream",
          "name": "stdout",
          "text": [
            "<class 'pandas.core.frame.DataFrame'>\n",
            "RangeIndex: 190 entries, 0 to 189\n",
            "Data columns (total 18 columns):\n",
            " #   Column                    Non-Null Count  Dtype  \n",
            "---  ------                    --------------  -----  \n",
            " 0   Indicator                 190 non-null    object \n",
            " 1   Measure                   190 non-null    object \n",
            " 2   Year                      190 non-null    int64  \n",
            " 3   Geography                 190 non-null    object \n",
            " 4   Hypertension_Rate         190 non-null    float64\n",
            " 5   95% Confidence Interval   190 non-null    object \n",
            " 6   Hypertension_Count        190 non-null    float64\n",
            " 7   Hypertension_Population   190 non-null    float64\n",
            " 8   COPD_Rate                 190 non-null    float64\n",
            " 9   COPD_Count                190 non-null    float64\n",
            " 10  COPD_Population           190 non-null    float64\n",
            " 11  Diabetes_Rate             190 non-null    float64\n",
            " 12  Diabetes_Count            190 non-null    float64\n",
            " 13  Diabetes_Population       190 non-null    float64\n",
            " 14  Alcohol_Consumption_Rate  51 non-null     float64\n",
            " 15  Smoking_Rate              64 non-null     float64\n",
            " 16  Obesity_Rate              64 non-null     float64\n",
            " 17  PA_Rate                   64 non-null     float64\n",
            "dtypes: float64(13), int64(1), object(4)\n",
            "memory usage: 26.8+ KB\n"
          ]
        }
      ],
      "source": [
        "df.info()"
      ]
    },
    {
      "cell_type": "code",
      "execution_count": 54,
      "id": "7da6ef06",
      "metadata": {
        "id": "7da6ef06"
      },
      "outputs": [],
      "source": [
        "df = df.dropna()"
      ]
    },
    {
      "cell_type": "code",
      "execution_count": 55,
      "id": "fd6d0ae0",
      "metadata": {
        "colab": {
          "base_uri": "https://localhost:8080/"
        },
        "id": "fd6d0ae0",
        "outputId": "df931220-f492-4e5f-b0c4-89a9f612c22f"
      },
      "outputs": [
        {
          "output_type": "stream",
          "name": "stdout",
          "text": [
            "<class 'pandas.core.frame.DataFrame'>\n",
            "Index: 42 entries, 3 to 187\n",
            "Data columns (total 18 columns):\n",
            " #   Column                    Non-Null Count  Dtype  \n",
            "---  ------                    --------------  -----  \n",
            " 0   Indicator                 42 non-null     object \n",
            " 1   Measure                   42 non-null     object \n",
            " 2   Year                      42 non-null     int64  \n",
            " 3   Geography                 42 non-null     object \n",
            " 4   Hypertension_Rate         42 non-null     float64\n",
            " 5   95% Confidence Interval   42 non-null     object \n",
            " 6   Hypertension_Count        42 non-null     float64\n",
            " 7   Hypertension_Population   42 non-null     float64\n",
            " 8   COPD_Rate                 42 non-null     float64\n",
            " 9   COPD_Count                42 non-null     float64\n",
            " 10  COPD_Population           42 non-null     float64\n",
            " 11  Diabetes_Rate             42 non-null     float64\n",
            " 12  Diabetes_Count            42 non-null     float64\n",
            " 13  Diabetes_Population       42 non-null     float64\n",
            " 14  Alcohol_Consumption_Rate  42 non-null     float64\n",
            " 15  Smoking_Rate              42 non-null     float64\n",
            " 16  Obesity_Rate              42 non-null     float64\n",
            " 17  PA_Rate                   42 non-null     float64\n",
            "dtypes: float64(13), int64(1), object(4)\n",
            "memory usage: 6.2+ KB\n"
          ]
        }
      ],
      "source": [
        "df.info()## so our final dataframe that we will be working is ready"
      ]
    },
    {
      "cell_type": "markdown",
      "id": "5ef567f5",
      "metadata": {
        "id": "5ef567f5"
      },
      "source": [
        "# Exploratory Data Analysis (EDA) / Descriptive Analysis"
      ]
    },
    {
      "cell_type": "code",
      "execution_count": 56,
      "id": "ea71b91a",
      "metadata": {
        "colab": {
          "base_uri": "https://localhost:8080/",
          "height": 320
        },
        "id": "ea71b91a",
        "outputId": "bca53d9f-98d6-43a5-918d-b65077c79e72"
      },
      "outputs": [
        {
          "output_type": "execute_result",
          "data": {
            "text/plain": [
              "              Year  Hypertension_Rate  Hypertension_Count  \\\n",
              "count    42.000000          42.000000           42.000000   \n",
              "mean   2018.000000       25799.661905       145226.166667   \n",
              "std       1.652788        1848.507332       157527.153259   \n",
              "min    2016.000000       21738.000000        28297.000000   \n",
              "25%    2016.000000       24623.525000        35071.000000   \n",
              "50%    2018.000000       25734.150000        87268.500000   \n",
              "75%    2020.000000       27054.875000       185470.250000   \n",
              "max    2020.000000       29604.800000       616886.000000   \n",
              "\n",
              "       Hypertension_Population     COPD_Rate     COPD_Count  COPD_Population  \\\n",
              "count             4.200000e+01     42.000000      42.000000     4.200000e+01   \n",
              "mean              5.515195e+05   8236.314286   38256.785714     5.515195e+05   \n",
              "std               6.368582e+05   2256.554971   36724.239382     6.368582e+05   \n",
              "min               8.509400e+04   4796.800000   11172.000000     8.509400e+04   \n",
              "25%               1.124128e+05   6161.500000   14355.250000     1.124128e+05   \n",
              "50%               3.148890e+05   8229.450000   24500.500000     3.148890e+05   \n",
              "75%               8.225510e+05  10382.900000   50562.500000     8.225510e+05   \n",
              "max               2.486215e+06  12046.800000  157007.000000     2.486215e+06   \n",
              "\n",
              "       Diabetes_Rate  Diabetes_Count  Diabetes_Population  \\\n",
              "count      42.000000       42.000000         4.200000e+01   \n",
              "mean    11282.804762    67972.095238         5.515195e+05   \n",
              "std      1476.269667    80659.424007         6.368582e+05   \n",
              "min      9290.800000    11772.000000         8.509400e+04   \n",
              "25%     10049.825000    14220.250000         1.124128e+05   \n",
              "50%     11255.350000    33973.500000         3.148890e+05   \n",
              "75%     12124.050000    80566.250000         8.225510e+05   \n",
              "max     15572.400000   314719.000000         2.486215e+06   \n",
              "\n",
              "       Alcohol_Consumption_Rate  Smoking_Rate  Obesity_Rate    PA_Rate  \n",
              "count                  42.00000     42.000000     42.000000  42.000000  \n",
              "mean                   20.67619     18.164286     22.990476  22.385714  \n",
              "std                     4.76183      5.019271      5.938621   4.799623  \n",
              "min                    11.10000      9.100000     11.600000  13.800000  \n",
              "25%                    18.60000     14.175000     18.025000  19.050000  \n",
              "50%                    20.75000     19.300000     23.800000  21.550000  \n",
              "75%                    24.37500     20.700000     26.850000  25.600000  \n",
              "max                    27.60000     32.600000     35.100000  37.000000  "
            ],
            "text/html": [
              "\n",
              "  <div id=\"df-6a3ecda2-da54-44b6-8128-8f1c3b598400\" class=\"colab-df-container\">\n",
              "    <div>\n",
              "<style scoped>\n",
              "    .dataframe tbody tr th:only-of-type {\n",
              "        vertical-align: middle;\n",
              "    }\n",
              "\n",
              "    .dataframe tbody tr th {\n",
              "        vertical-align: top;\n",
              "    }\n",
              "\n",
              "    .dataframe thead th {\n",
              "        text-align: right;\n",
              "    }\n",
              "</style>\n",
              "<table border=\"1\" class=\"dataframe\">\n",
              "  <thead>\n",
              "    <tr style=\"text-align: right;\">\n",
              "      <th></th>\n",
              "      <th>Year</th>\n",
              "      <th>Hypertension_Rate</th>\n",
              "      <th>Hypertension_Count</th>\n",
              "      <th>Hypertension_Population</th>\n",
              "      <th>COPD_Rate</th>\n",
              "      <th>COPD_Count</th>\n",
              "      <th>COPD_Population</th>\n",
              "      <th>Diabetes_Rate</th>\n",
              "      <th>Diabetes_Count</th>\n",
              "      <th>Diabetes_Population</th>\n",
              "      <th>Alcohol_Consumption_Rate</th>\n",
              "      <th>Smoking_Rate</th>\n",
              "      <th>Obesity_Rate</th>\n",
              "      <th>PA_Rate</th>\n",
              "    </tr>\n",
              "  </thead>\n",
              "  <tbody>\n",
              "    <tr>\n",
              "      <th>count</th>\n",
              "      <td>42.000000</td>\n",
              "      <td>42.000000</td>\n",
              "      <td>42.000000</td>\n",
              "      <td>4.200000e+01</td>\n",
              "      <td>42.000000</td>\n",
              "      <td>42.000000</td>\n",
              "      <td>4.200000e+01</td>\n",
              "      <td>42.000000</td>\n",
              "      <td>42.000000</td>\n",
              "      <td>4.200000e+01</td>\n",
              "      <td>42.00000</td>\n",
              "      <td>42.000000</td>\n",
              "      <td>42.000000</td>\n",
              "      <td>42.000000</td>\n",
              "    </tr>\n",
              "    <tr>\n",
              "      <th>mean</th>\n",
              "      <td>2018.000000</td>\n",
              "      <td>25799.661905</td>\n",
              "      <td>145226.166667</td>\n",
              "      <td>5.515195e+05</td>\n",
              "      <td>8236.314286</td>\n",
              "      <td>38256.785714</td>\n",
              "      <td>5.515195e+05</td>\n",
              "      <td>11282.804762</td>\n",
              "      <td>67972.095238</td>\n",
              "      <td>5.515195e+05</td>\n",
              "      <td>20.67619</td>\n",
              "      <td>18.164286</td>\n",
              "      <td>22.990476</td>\n",
              "      <td>22.385714</td>\n",
              "    </tr>\n",
              "    <tr>\n",
              "      <th>std</th>\n",
              "      <td>1.652788</td>\n",
              "      <td>1848.507332</td>\n",
              "      <td>157527.153259</td>\n",
              "      <td>6.368582e+05</td>\n",
              "      <td>2256.554971</td>\n",
              "      <td>36724.239382</td>\n",
              "      <td>6.368582e+05</td>\n",
              "      <td>1476.269667</td>\n",
              "      <td>80659.424007</td>\n",
              "      <td>6.368582e+05</td>\n",
              "      <td>4.76183</td>\n",
              "      <td>5.019271</td>\n",
              "      <td>5.938621</td>\n",
              "      <td>4.799623</td>\n",
              "    </tr>\n",
              "    <tr>\n",
              "      <th>min</th>\n",
              "      <td>2016.000000</td>\n",
              "      <td>21738.000000</td>\n",
              "      <td>28297.000000</td>\n",
              "      <td>8.509400e+04</td>\n",
              "      <td>4796.800000</td>\n",
              "      <td>11172.000000</td>\n",
              "      <td>8.509400e+04</td>\n",
              "      <td>9290.800000</td>\n",
              "      <td>11772.000000</td>\n",
              "      <td>8.509400e+04</td>\n",
              "      <td>11.10000</td>\n",
              "      <td>9.100000</td>\n",
              "      <td>11.600000</td>\n",
              "      <td>13.800000</td>\n",
              "    </tr>\n",
              "    <tr>\n",
              "      <th>25%</th>\n",
              "      <td>2016.000000</td>\n",
              "      <td>24623.525000</td>\n",
              "      <td>35071.000000</td>\n",
              "      <td>1.124128e+05</td>\n",
              "      <td>6161.500000</td>\n",
              "      <td>14355.250000</td>\n",
              "      <td>1.124128e+05</td>\n",
              "      <td>10049.825000</td>\n",
              "      <td>14220.250000</td>\n",
              "      <td>1.124128e+05</td>\n",
              "      <td>18.60000</td>\n",
              "      <td>14.175000</td>\n",
              "      <td>18.025000</td>\n",
              "      <td>19.050000</td>\n",
              "    </tr>\n",
              "    <tr>\n",
              "      <th>50%</th>\n",
              "      <td>2018.000000</td>\n",
              "      <td>25734.150000</td>\n",
              "      <td>87268.500000</td>\n",
              "      <td>3.148890e+05</td>\n",
              "      <td>8229.450000</td>\n",
              "      <td>24500.500000</td>\n",
              "      <td>3.148890e+05</td>\n",
              "      <td>11255.350000</td>\n",
              "      <td>33973.500000</td>\n",
              "      <td>3.148890e+05</td>\n",
              "      <td>20.75000</td>\n",
              "      <td>19.300000</td>\n",
              "      <td>23.800000</td>\n",
              "      <td>21.550000</td>\n",
              "    </tr>\n",
              "    <tr>\n",
              "      <th>75%</th>\n",
              "      <td>2020.000000</td>\n",
              "      <td>27054.875000</td>\n",
              "      <td>185470.250000</td>\n",
              "      <td>8.225510e+05</td>\n",
              "      <td>10382.900000</td>\n",
              "      <td>50562.500000</td>\n",
              "      <td>8.225510e+05</td>\n",
              "      <td>12124.050000</td>\n",
              "      <td>80566.250000</td>\n",
              "      <td>8.225510e+05</td>\n",
              "      <td>24.37500</td>\n",
              "      <td>20.700000</td>\n",
              "      <td>26.850000</td>\n",
              "      <td>25.600000</td>\n",
              "    </tr>\n",
              "    <tr>\n",
              "      <th>max</th>\n",
              "      <td>2020.000000</td>\n",
              "      <td>29604.800000</td>\n",
              "      <td>616886.000000</td>\n",
              "      <td>2.486215e+06</td>\n",
              "      <td>12046.800000</td>\n",
              "      <td>157007.000000</td>\n",
              "      <td>2.486215e+06</td>\n",
              "      <td>15572.400000</td>\n",
              "      <td>314719.000000</td>\n",
              "      <td>2.486215e+06</td>\n",
              "      <td>27.60000</td>\n",
              "      <td>32.600000</td>\n",
              "      <td>35.100000</td>\n",
              "      <td>37.000000</td>\n",
              "    </tr>\n",
              "  </tbody>\n",
              "</table>\n",
              "</div>\n",
              "    <div class=\"colab-df-buttons\">\n",
              "\n",
              "  <div class=\"colab-df-container\">\n",
              "    <button class=\"colab-df-convert\" onclick=\"convertToInteractive('df-6a3ecda2-da54-44b6-8128-8f1c3b598400')\"\n",
              "            title=\"Convert this dataframe to an interactive table.\"\n",
              "            style=\"display:none;\">\n",
              "\n",
              "  <svg xmlns=\"http://www.w3.org/2000/svg\" height=\"24px\" viewBox=\"0 -960 960 960\">\n",
              "    <path d=\"M120-120v-720h720v720H120Zm60-500h600v-160H180v160Zm220 220h160v-160H400v160Zm0 220h160v-160H400v160ZM180-400h160v-160H180v160Zm440 0h160v-160H620v160ZM180-180h160v-160H180v160Zm440 0h160v-160H620v160Z\"/>\n",
              "  </svg>\n",
              "    </button>\n",
              "\n",
              "  <style>\n",
              "    .colab-df-container {\n",
              "      display:flex;\n",
              "      gap: 12px;\n",
              "    }\n",
              "\n",
              "    .colab-df-convert {\n",
              "      background-color: #E8F0FE;\n",
              "      border: none;\n",
              "      border-radius: 50%;\n",
              "      cursor: pointer;\n",
              "      display: none;\n",
              "      fill: #1967D2;\n",
              "      height: 32px;\n",
              "      padding: 0 0 0 0;\n",
              "      width: 32px;\n",
              "    }\n",
              "\n",
              "    .colab-df-convert:hover {\n",
              "      background-color: #E2EBFA;\n",
              "      box-shadow: 0px 1px 2px rgba(60, 64, 67, 0.3), 0px 1px 3px 1px rgba(60, 64, 67, 0.15);\n",
              "      fill: #174EA6;\n",
              "    }\n",
              "\n",
              "    .colab-df-buttons div {\n",
              "      margin-bottom: 4px;\n",
              "    }\n",
              "\n",
              "    [theme=dark] .colab-df-convert {\n",
              "      background-color: #3B4455;\n",
              "      fill: #D2E3FC;\n",
              "    }\n",
              "\n",
              "    [theme=dark] .colab-df-convert:hover {\n",
              "      background-color: #434B5C;\n",
              "      box-shadow: 0px 1px 3px 1px rgba(0, 0, 0, 0.15);\n",
              "      filter: drop-shadow(0px 1px 2px rgba(0, 0, 0, 0.3));\n",
              "      fill: #FFFFFF;\n",
              "    }\n",
              "  </style>\n",
              "\n",
              "    <script>\n",
              "      const buttonEl =\n",
              "        document.querySelector('#df-6a3ecda2-da54-44b6-8128-8f1c3b598400 button.colab-df-convert');\n",
              "      buttonEl.style.display =\n",
              "        google.colab.kernel.accessAllowed ? 'block' : 'none';\n",
              "\n",
              "      async function convertToInteractive(key) {\n",
              "        const element = document.querySelector('#df-6a3ecda2-da54-44b6-8128-8f1c3b598400');\n",
              "        const dataTable =\n",
              "          await google.colab.kernel.invokeFunction('convertToInteractive',\n",
              "                                                    [key], {});\n",
              "        if (!dataTable) return;\n",
              "\n",
              "        const docLinkHtml = 'Like what you see? Visit the ' +\n",
              "          '<a target=\"_blank\" href=https://colab.research.google.com/notebooks/data_table.ipynb>data table notebook</a>'\n",
              "          + ' to learn more about interactive tables.';\n",
              "        element.innerHTML = '';\n",
              "        dataTable['output_type'] = 'display_data';\n",
              "        await google.colab.output.renderOutput(dataTable, element);\n",
              "        const docLink = document.createElement('div');\n",
              "        docLink.innerHTML = docLinkHtml;\n",
              "        element.appendChild(docLink);\n",
              "      }\n",
              "    </script>\n",
              "  </div>\n",
              "\n",
              "\n",
              "    <div id=\"df-9f627f61-249d-4fcf-b39e-515374aec12d\">\n",
              "      <button class=\"colab-df-quickchart\" onclick=\"quickchart('df-9f627f61-249d-4fcf-b39e-515374aec12d')\"\n",
              "                title=\"Suggest charts\"\n",
              "                style=\"display:none;\">\n",
              "\n",
              "<svg xmlns=\"http://www.w3.org/2000/svg\" height=\"24px\"viewBox=\"0 0 24 24\"\n",
              "     width=\"24px\">\n",
              "    <g>\n",
              "        <path d=\"M19 3H5c-1.1 0-2 .9-2 2v14c0 1.1.9 2 2 2h14c1.1 0 2-.9 2-2V5c0-1.1-.9-2-2-2zM9 17H7v-7h2v7zm4 0h-2V7h2v10zm4 0h-2v-4h2v4z\"/>\n",
              "    </g>\n",
              "</svg>\n",
              "      </button>\n",
              "\n",
              "<style>\n",
              "  .colab-df-quickchart {\n",
              "      --bg-color: #E8F0FE;\n",
              "      --fill-color: #1967D2;\n",
              "      --hover-bg-color: #E2EBFA;\n",
              "      --hover-fill-color: #174EA6;\n",
              "      --disabled-fill-color: #AAA;\n",
              "      --disabled-bg-color: #DDD;\n",
              "  }\n",
              "\n",
              "  [theme=dark] .colab-df-quickchart {\n",
              "      --bg-color: #3B4455;\n",
              "      --fill-color: #D2E3FC;\n",
              "      --hover-bg-color: #434B5C;\n",
              "      --hover-fill-color: #FFFFFF;\n",
              "      --disabled-bg-color: #3B4455;\n",
              "      --disabled-fill-color: #666;\n",
              "  }\n",
              "\n",
              "  .colab-df-quickchart {\n",
              "    background-color: var(--bg-color);\n",
              "    border: none;\n",
              "    border-radius: 50%;\n",
              "    cursor: pointer;\n",
              "    display: none;\n",
              "    fill: var(--fill-color);\n",
              "    height: 32px;\n",
              "    padding: 0;\n",
              "    width: 32px;\n",
              "  }\n",
              "\n",
              "  .colab-df-quickchart:hover {\n",
              "    background-color: var(--hover-bg-color);\n",
              "    box-shadow: 0 1px 2px rgba(60, 64, 67, 0.3), 0 1px 3px 1px rgba(60, 64, 67, 0.15);\n",
              "    fill: var(--button-hover-fill-color);\n",
              "  }\n",
              "\n",
              "  .colab-df-quickchart-complete:disabled,\n",
              "  .colab-df-quickchart-complete:disabled:hover {\n",
              "    background-color: var(--disabled-bg-color);\n",
              "    fill: var(--disabled-fill-color);\n",
              "    box-shadow: none;\n",
              "  }\n",
              "\n",
              "  .colab-df-spinner {\n",
              "    border: 2px solid var(--fill-color);\n",
              "    border-color: transparent;\n",
              "    border-bottom-color: var(--fill-color);\n",
              "    animation:\n",
              "      spin 1s steps(1) infinite;\n",
              "  }\n",
              "\n",
              "  @keyframes spin {\n",
              "    0% {\n",
              "      border-color: transparent;\n",
              "      border-bottom-color: var(--fill-color);\n",
              "      border-left-color: var(--fill-color);\n",
              "    }\n",
              "    20% {\n",
              "      border-color: transparent;\n",
              "      border-left-color: var(--fill-color);\n",
              "      border-top-color: var(--fill-color);\n",
              "    }\n",
              "    30% {\n",
              "      border-color: transparent;\n",
              "      border-left-color: var(--fill-color);\n",
              "      border-top-color: var(--fill-color);\n",
              "      border-right-color: var(--fill-color);\n",
              "    }\n",
              "    40% {\n",
              "      border-color: transparent;\n",
              "      border-right-color: var(--fill-color);\n",
              "      border-top-color: var(--fill-color);\n",
              "    }\n",
              "    60% {\n",
              "      border-color: transparent;\n",
              "      border-right-color: var(--fill-color);\n",
              "    }\n",
              "    80% {\n",
              "      border-color: transparent;\n",
              "      border-right-color: var(--fill-color);\n",
              "      border-bottom-color: var(--fill-color);\n",
              "    }\n",
              "    90% {\n",
              "      border-color: transparent;\n",
              "      border-bottom-color: var(--fill-color);\n",
              "    }\n",
              "  }\n",
              "</style>\n",
              "\n",
              "      <script>\n",
              "        async function quickchart(key) {\n",
              "          const quickchartButtonEl =\n",
              "            document.querySelector('#' + key + ' button');\n",
              "          quickchartButtonEl.disabled = true;  // To prevent multiple clicks.\n",
              "          quickchartButtonEl.classList.add('colab-df-spinner');\n",
              "          try {\n",
              "            const charts = await google.colab.kernel.invokeFunction(\n",
              "                'suggestCharts', [key], {});\n",
              "          } catch (error) {\n",
              "            console.error('Error during call to suggestCharts:', error);\n",
              "          }\n",
              "          quickchartButtonEl.classList.remove('colab-df-spinner');\n",
              "          quickchartButtonEl.classList.add('colab-df-quickchart-complete');\n",
              "        }\n",
              "        (() => {\n",
              "          let quickchartButtonEl =\n",
              "            document.querySelector('#df-9f627f61-249d-4fcf-b39e-515374aec12d button');\n",
              "          quickchartButtonEl.style.display =\n",
              "            google.colab.kernel.accessAllowed ? 'block' : 'none';\n",
              "        })();\n",
              "      </script>\n",
              "    </div>\n",
              "\n",
              "    </div>\n",
              "  </div>\n"
            ],
            "application/vnd.google.colaboratory.intrinsic+json": {
              "type": "dataframe",
              "summary": "{\n  \"name\": \"df\",\n  \"rows\": 8,\n  \"fields\": [\n    {\n      \"column\": \"Year\",\n      \"properties\": {\n        \"dtype\": \"number\",\n        \"std\": 924.1129760463247,\n        \"min\": 1.6527877410826748,\n        \"max\": 2020.0,\n        \"num_unique_values\": 5,\n        \"samples\": [\n          2018.0,\n          2020.0,\n          1.6527877410826748\n        ],\n        \"semantic_type\": \"\",\n        \"description\": \"\"\n      }\n    },\n    {\n      \"column\": \"Hypertension_Rate\",\n      \"properties\": {\n        \"dtype\": \"number\",\n        \"std\": 11705.656657976891,\n        \"min\": 42.0,\n        \"max\": 29604.8,\n        \"num_unique_values\": 8,\n        \"samples\": [\n          25799.661904761906,\n          25734.15,\n          42.0\n        ],\n        \"semantic_type\": \"\",\n        \"description\": \"\"\n      }\n    },\n    {\n      \"column\": \"Hypertension_Count\",\n      \"properties\": {\n        \"dtype\": \"number\",\n        \"std\": 197619.4115194071,\n        \"min\": 42.0,\n        \"max\": 616886.0,\n        \"num_unique_values\": 8,\n        \"samples\": [\n          145226.16666666666,\n          87268.5,\n          42.0\n        ],\n        \"semantic_type\": \"\",\n        \"description\": \"\"\n      }\n    },\n    {\n      \"column\": \"Hypertension_Population\",\n      \"properties\": {\n        \"dtype\": \"number\",\n        \"std\": 806195.8024986176,\n        \"min\": 42.0,\n        \"max\": 2486215.0,\n        \"num_unique_values\": 8,\n        \"samples\": [\n          551519.5476190476,\n          314889.0,\n          42.0\n        ],\n        \"semantic_type\": \"\",\n        \"description\": \"\"\n      }\n    },\n    {\n      \"column\": \"COPD_Rate\",\n      \"properties\": {\n        \"dtype\": \"number\",\n        \"std\": 4045.7181829911706,\n        \"min\": 42.0,\n        \"max\": 12046.8,\n        \"num_unique_values\": 8,\n        \"samples\": [\n          8236.314285714287,\n          8229.45,\n          42.0\n        ],\n        \"semantic_type\": \"\",\n        \"description\": \"\"\n      }\n    },\n    {\n      \"column\": \"COPD_Count\",\n      \"properties\": {\n        \"dtype\": \"number\",\n        \"std\": 49456.54368345149,\n        \"min\": 42.0,\n        \"max\": 157007.0,\n        \"num_unique_values\": 8,\n        \"samples\": [\n          38256.78571428572,\n          24500.5,\n          42.0\n        ],\n        \"semantic_type\": \"\",\n        \"description\": \"\"\n      }\n    },\n    {\n      \"column\": \"COPD_Population\",\n      \"properties\": {\n        \"dtype\": \"number\",\n        \"std\": 806195.8024986176,\n        \"min\": 42.0,\n        \"max\": 2486215.0,\n        \"num_unique_values\": 8,\n        \"samples\": [\n          551519.5476190476,\n          314889.0,\n          42.0\n        ],\n        \"semantic_type\": \"\",\n        \"description\": \"\"\n      }\n    },\n    {\n      \"column\": \"Diabetes_Rate\",\n      \"properties\": {\n        \"dtype\": \"number\",\n        \"std\": 5361.105866024255,\n        \"min\": 42.0,\n        \"max\": 15572.4,\n        \"num_unique_values\": 8,\n        \"samples\": [\n          11282.804761904761,\n          11255.35,\n          42.0\n        ],\n        \"semantic_type\": \"\",\n        \"description\": \"\"\n      }\n    },\n    {\n      \"column\": \"Diabetes_Count\",\n      \"properties\": {\n        \"dtype\": \"number\",\n        \"std\": 101818.82428705934,\n        \"min\": 42.0,\n        \"max\": 314719.0,\n        \"num_unique_values\": 8,\n        \"samples\": [\n          67972.09523809524,\n          33973.5,\n          42.0\n        ],\n        \"semantic_type\": \"\",\n        \"description\": \"\"\n      }\n    },\n    {\n      \"column\": \"Diabetes_Population\",\n      \"properties\": {\n        \"dtype\": \"number\",\n        \"std\": 806195.8024986176,\n        \"min\": 42.0,\n        \"max\": 2486215.0,\n        \"num_unique_values\": 8,\n        \"samples\": [\n          551519.5476190476,\n          314889.0,\n          42.0\n        ],\n        \"semantic_type\": \"\",\n        \"description\": \"\"\n      }\n    },\n    {\n      \"column\": \"Alcohol_Consumption_Rate\",\n      \"properties\": {\n        \"dtype\": \"number\",\n        \"std\": 11.1042609116474,\n        \"min\": 4.761830429152706,\n        \"max\": 42.0,\n        \"num_unique_values\": 8,\n        \"samples\": [\n          20.676190476190477,\n          20.75,\n          42.0\n        ],\n        \"semantic_type\": \"\",\n        \"description\": \"\"\n      }\n    },\n    {\n      \"column\": \"Smoking_Rate\",\n      \"properties\": {\n        \"dtype\": \"number\",\n        \"std\": 12.09564643485418,\n        \"min\": 5.0192712243605015,\n        \"max\": 42.0,\n        \"num_unique_values\": 8,\n        \"samples\": [\n          18.164285714285718,\n          19.299999999999997,\n          42.0\n        ],\n        \"semantic_type\": \"\",\n        \"description\": \"\"\n      }\n    },\n    {\n      \"column\": \"Obesity_Rate\",\n      \"properties\": {\n        \"dtype\": \"number\",\n        \"std\": 11.759556886379228,\n        \"min\": 5.9386214021400505,\n        \"max\": 42.0,\n        \"num_unique_values\": 8,\n        \"samples\": [\n          22.99047619047619,\n          23.8,\n          42.0\n        ],\n        \"semantic_type\": \"\",\n        \"description\": \"\"\n      }\n    },\n    {\n      \"column\": \"PA_Rate\",\n      \"properties\": {\n        \"dtype\": \"number\",\n        \"std\": 11.935176851530938,\n        \"min\": 4.799622517096548,\n        \"max\": 42.0,\n        \"num_unique_values\": 8,\n        \"samples\": [\n          22.385714285714283,\n          21.55,\n          42.0\n        ],\n        \"semantic_type\": \"\",\n        \"description\": \"\"\n      }\n    }\n  ]\n}"
            }
          },
          "metadata": {},
          "execution_count": 56
        }
      ],
      "source": [
        "df.describe()"
      ]
    },
    {
      "cell_type": "markdown",
      "id": "66487727",
      "metadata": {
        "id": "66487727"
      },
      "source": [
        "Visualizing risk factors rates over the year"
      ]
    },
    {
      "cell_type": "code",
      "source": [
        "# Grouping each dataset by Year and take mean of Rate\n",
        "alcohol_mean = alcohol_as.groupby('Year')['Alcohol_Consumption_Rate'].mean()\n",
        "smoking_mean = smoking_as.groupby('Year')['Smoking_Rate'].mean()\n",
        "nutrition_mean = nutrition_as.groupby('Year')['Obesity_Rate'].mean()\n",
        "PA_mean = physical_activity_as.groupby('Year')['PA_Rate'].mean()\n",
        "\n",
        "#Combining into a single DataFrame\n",
        "combined_df = pd.DataFrame({\n",
        "    'Alcohol Consumption': alcohol_mean,\n",
        "    'Smoking': smoking_mean,\n",
        "    'Physical Activity': PA_mean,\n",
        "    'Nutrition': nutrition_mean\n",
        "})"
      ],
      "metadata": {
        "id": "MHt_3FLiBWmN"
      },
      "id": "MHt_3FLiBWmN",
      "execution_count": 57,
      "outputs": []
    },
    {
      "cell_type": "code",
      "source": [
        "# Plotting the data into a line chart\n",
        "combined_df.plot(figsize = (15,7) ,marker='o')\n",
        "plt.title(\"Mean Rate Over Years by Risk Factors\")\n",
        "plt.xlabel(\"Year\")\n",
        "plt.ylabel(\"Mean Rate\")\n",
        "plt.xticks(rotation=0)\n",
        "plt.legend(title=\"Risk Factors\", bbox_to_anchor=(1.05, 1), loc='upper left')\n",
        "plt.tight_layout()\n",
        "plt.show()"
      ],
      "metadata": {
        "colab": {
          "base_uri": "https://localhost:8080/",
          "height": 727
        },
        "id": "Uu-oEFnVAMuf",
        "outputId": "e1ec63f5-b1ab-4286-a0c8-e108e76a3f5d"
      },
      "id": "Uu-oEFnVAMuf",
      "execution_count": 58,
      "outputs": [
        {
          "output_type": "display_data",
          "data": {
            "text/plain": [
              "<Figure size 1500x700 with 1 Axes>"
            ],
            "image/png": "[encoded data removed]"
          },
          "metadata": {}
        }
      ]
    },
    {
      "cell_type": "markdown",
      "source": [
        "Here you can see, Between 2016 and 2021, key health behaviors exhibited mixed trends. Smoking rates consistently declined, suggesting effective public health interventions. Physical activity levels rose, especially in 2020, possibly reflecting pandemic-induced lifestyle shifts. However, indicators of poor nutrition showed a mild but steady increase. Alcohol consumption fluctuated, though 2021 data is unavailable. These patterns provide essential context for understanding the behavioral drivers behind chronic disease trends."
      ],
      "metadata": {
        "id": "8HeK0BIE8Jee"
      },
      "id": "8HeK0BIE8Jee"
    },
    {
      "cell_type": "markdown",
      "id": "21124226",
      "metadata": {
        "id": "21124226"
      },
      "source": [
        "We have Age Specific Dataset in our original dataset as well. Lets see what age people are prone to these risk factors more."
      ]
    },
    {
      "cell_type": "code",
      "execution_count": 59,
      "id": "96eaeb45",
      "metadata": {
        "id": "96eaeb45"
      },
      "outputs": [],
      "source": [
        "alcohol_age_specific = alcohol[(alcohol['Measure'] == 'Age-specific rate (0 to 19)') |\n",
        "                               (alcohol['Measure'] == 'Age-specific rate (20 to 44)') |\n",
        "                               (alcohol['Measure'] == 'Age-specific rate (45 to 64)') |\n",
        "                               (alcohol['Measure'] == 'Age-specific rate (65 to 74)') |\n",
        "                               (alcohol['Measure'] == 'Age-specific rate (75+)')]"
      ]
    },
    {
      "cell_type": "code",
      "execution_count": 60,
      "id": "81506e20",
      "metadata": {
        "id": "81506e20"
      },
      "outputs": [],
      "source": [
        "Smoking_age_specific = smoking[(smoking['Measure'] == 'Age-specific rate (0 to 19)') |\n",
        "                               (smoking['Measure'] == 'Age-specific rate (20 to 44)') |\n",
        "                               (smoking['Measure'] == 'Age-specific rate (45 to 64)') |\n",
        "                               (smoking['Measure'] == 'Age-specific rate (65 to 74)') |\n",
        "                               (smoking['Measure'] == 'Age-specific rate (75+)')]"
      ]
    },
    {
      "cell_type": "code",
      "execution_count": 61,
      "id": "19a684dd",
      "metadata": {
        "id": "19a684dd"
      },
      "outputs": [],
      "source": [
        "nutrition_age_specific = nutrition[(nutrition['Measure'] == 'Age-specific rate (0 to 19)') |\n",
        "                               (nutrition['Measure'] == 'Age-specific rate (20 to 44)') |\n",
        "                               (nutrition['Measure'] == 'Age-specific rate (45 to 64)') |\n",
        "                               (nutrition['Measure'] == 'Age-specific rate (65 to 74)') |\n",
        "                               (nutrition['Measure'] == 'Age-specific rate (75+)')]"
      ]
    },
    {
      "cell_type": "code",
      "execution_count": 62,
      "id": "449b4d9d",
      "metadata": {
        "id": "449b4d9d"
      },
      "outputs": [],
      "source": [
        "pa_age_specific = physical_activity[(physical_activity['Measure'] == 'Age-specific rate (0 to 19)') |\n",
        "                               (physical_activity['Measure'] == 'Age-specific rate (20 to 44)') |\n",
        "                               (physical_activity['Measure'] == 'Age-specific rate (45 to 64)') |\n",
        "                               (physical_activity['Measure'] == 'Age-specific rate (65 to 74)') |\n",
        "                               (physical_activity['Measure'] == 'Age-specific rate (75+)')]"
      ]
    },
    {
      "cell_type": "code",
      "source": [
        "alcohol_mean_age = alcohol_age_specific.groupby('Measure')['Alcohol_Consumption_Rate'].mean()\n",
        "smoking_mean_age = Smoking_age_specific.groupby('Measure')['Smoking_Rate'].mean()\n",
        "nutrition_mean_age = nutrition_age_specific.groupby('Measure')['Obesity_Rate'].mean()\n",
        "PA_mean_age = pa_age_specific.groupby('Measure')['PA_Rate'].mean()"
      ],
      "metadata": {
        "id": "IhAJWYBBCX-L"
      },
      "id": "IhAJWYBBCX-L",
      "execution_count": 63,
      "outputs": []
    },
    {
      "cell_type": "code",
      "source": [
        "# Combining into a single DataFrame\n",
        "combined_df_age = pd.DataFrame({\n",
        "    'Alcohol Consumption': alcohol_mean_age,\n",
        "    'Smoking': smoking_mean_age,\n",
        "    'Physical Activity': PA_mean_age,\n",
        "    'Nutrition': nutrition_mean_age\n",
        "})"
      ],
      "metadata": {
        "id": "uiBXUu3ECrFL"
      },
      "id": "uiBXUu3ECrFL",
      "execution_count": 64,
      "outputs": []
    },
    {
      "cell_type": "code",
      "source": [
        "#Ploting the data into a bargraph\n",
        "combined_df_age.plot(kind = 'bar', figsize = (15,7), color = ('#1b9a88','#6aa4c9','#eb5600','#8388a1'))  # Line plot with markers\n",
        "plt.title(\"Mean Rate Over Years by Age Specific and Risk Factors\")\n",
        "plt.xlabel(\"Age\")\n",
        "plt.ylabel(\"Mean Age Specific Rate\")\n",
        "plt.xticks(rotation=0)\n",
        "plt.legend(title=\"Risk Factors\", bbox_to_anchor=(1.05, 1), loc='upper left')\n",
        "plt.tight_layout()\n",
        "plt.show()"
      ],
      "metadata": {
        "colab": {
          "base_uri": "https://localhost:8080/",
          "height": 413
        },
        "id": "rwGKdjT6C11O",
        "outputId": "768bf358-3727-4ee4-d75d-df3e8acf4f42"
      },
      "id": "rwGKdjT6C11O",
      "execution_count": 65,
      "outputs": [
        {
          "output_type": "display_data",
          "data": {
            "text/plain": [
              "<Figure size 1500x700 with 1 Axes>"
            ],
            "image/png": "[encoded data removed]"
          },
          "metadata": {}
        }
      ]
    },
    {
      "cell_type": "markdown",
      "source": [
        "Also you can see, Among individuals aged 45 to 64, lifestyle-related risk factors such as alcohol consumption (21.8%), smoking (20.7%), and physical inactivity (23.0%) are notably high. Nutrition-related concerns affect nearly 28% of this group, indicating that middle-aged adults may require targeted behavioral interventions. While only smoking data is available for the 20–44 age group, the similarity in rates (~20.4%) highlights that tobacco use remains a concern across both demographics."
      ],
      "metadata": {
        "id": "_HuKD8ws8UZ-"
      },
      "id": "_HuKD8ws8UZ-"
    },
    {
      "cell_type": "markdown",
      "id": "46223f3d",
      "metadata": {
        "id": "46223f3d"
      },
      "source": [
        "# Statistical Analysis"
      ]
    },
    {
      "cell_type": "markdown",
      "id": "d6dec4c3",
      "metadata": {
        "id": "d6dec4c3"
      },
      "source": [
        "##Regression Modeling"
      ]
    },
    {
      "cell_type": "markdown",
      "id": "8d027eb1",
      "metadata": {
        "id": "8d027eb1"
      },
      "source": [
        "###Hypertension as a dependent variable"
      ]
    },
    {
      "cell_type": "code",
      "execution_count": 66,
      "id": "240d7cb4",
      "metadata": {
        "id": "240d7cb4"
      },
      "outputs": [],
      "source": [
        "## Dividing data into dependent (Y) and independent variable (X)\n",
        "X = df[['Alcohol_Consumption_Rate', 'Smoking_Rate', 'Obesity_Rate', 'PA_Rate']]\n",
        "y = df['Hypertension_Rate']"
      ]
    },
    {
      "cell_type": "code",
      "execution_count": 67,
      "id": "03e6911f",
      "metadata": {
        "id": "03e6911f"
      },
      "outputs": [],
      "source": [
        "X = sm.add_constant(X) # Adds Intercept Term\n",
        "model1 = sm.OLS(y,X).fit()"
      ]
    },
    {
      "cell_type": "code",
      "execution_count": 68,
      "id": "5b066ed8",
      "metadata": {
        "colab": {
          "base_uri": "https://localhost:8080/"
        },
        "id": "5b066ed8",
        "outputId": "5a762775-bf88-46d1-8832-03f5ba8b1912"
      },
      "outputs": [
        {
          "output_type": "stream",
          "name": "stdout",
          "text": [
            "                            OLS Regression Results                            \n",
            "==============================================================================\n",
            "Dep. Variable:      Hypertension_Rate   R-squared:                       0.334\n",
            "Model:                            OLS   Adj. R-squared:                  0.262\n",
            "Method:                 Least Squares   F-statistic:                     4.631\n",
            "Date:                Thu, 24 Jul 2025   Prob (F-statistic):            0.00393\n",
            "Time:                        14:30:52   Log-Likelihood:                -366.49\n",
            "No. Observations:                  42   AIC:                             743.0\n",
            "Df Residuals:                      37   BIC:                             751.7\n",
            "Df Model:                           4                                         \n",
            "Covariance Type:            nonrobust                                         \n",
            "============================================================================================\n",
            "                               coef    std err          t      P>|t|      [0.025      0.975]\n",
            "--------------------------------------------------------------------------------------------\n",
            "const                     2.045e+04   1923.184     10.634      0.000    1.66e+04    2.43e+04\n",
            "Alcohol_Consumption_Rate   -67.2157     90.981     -0.739      0.465    -251.562     117.130\n",
            "Smoking_Rate               228.9413     80.890      2.830      0.007      65.043     392.840\n",
            "Obesity_Rate               -30.4635     66.015     -0.461      0.647    -164.223     103.296\n",
            "PA_Rate                    146.5513     61.612      2.379      0.023      21.714     271.388\n",
            "==============================================================================\n",
            "Omnibus:                        1.022   Durbin-Watson:                   1.177\n",
            "Prob(Omnibus):                  0.600   Jarque-Bera (JB):                0.995\n",
            "Skew:                           0.214   Prob(JB):                        0.608\n",
            "Kurtosis:                       2.380   Cond. No.                         337.\n",
            "==============================================================================\n",
            "\n",
            "Notes:\n",
            "[1] Standard Errors assume that the covariance matrix of the errors is correctly specified.\n"
          ]
        }
      ],
      "source": [
        "print(model1.summary())"
      ]
    },
    {
      "cell_type": "markdown",
      "source": [
        "the OLS model showed a modest R-squared of 0.334, indicating limited explanatory power. Only smoking and physical activity were statistically significant predictors."
      ],
      "metadata": {
        "id": "BjRNsbKn8hJG"
      },
      "id": "BjRNsbKn8hJG"
    },
    {
      "cell_type": "code",
      "execution_count": 69,
      "id": "d00bb223",
      "metadata": {
        "colab": {
          "base_uri": "https://localhost:8080/",
          "height": 410
        },
        "id": "d00bb223",
        "outputId": "13f29b37-405e-450f-f258-1750e7c66f11"
      },
      "outputs": [
        {
          "output_type": "display_data",
          "data": {
            "text/plain": [
              "<Figure size 600x400 with 1 Axes>"
            ],
            "image/png": "[encoded data removed]"
          },
          "metadata": {}
        }
      ],
      "source": [
        "## Creating a Diagnostic Plot # Residual vs. Fitted\n",
        "residuals = model1.resid\n",
        "fitted = model1.fittedvalues\n",
        "plt.figure(figsize=(6, 4))\n",
        "plt.scatter(fitted, residuals)\n",
        "plt.axhline(0, color='red', linestyle='--')\n",
        "plt.xlabel('Fitted Values')\n",
        "plt.ylabel('Residuals')\n",
        "plt.title('Residual vs. Fitted Plot')\n",
        "plt.show()"
      ]
    },
    {
      "cell_type": "markdown",
      "source": [
        "The residual plot shows clear heteroscedasticity, with residuals scattered unevenly across fitted values—violating key assumptions of linear regression."
      ],
      "metadata": {
        "id": "Pr_2tGrX8oS2"
      },
      "id": "Pr_2tGrX8oS2"
    },
    {
      "cell_type": "markdown",
      "id": "3fd04dad",
      "metadata": {
        "id": "3fd04dad"
      },
      "source": [
        "COPD as as dependent Variable"
      ]
    },
    {
      "cell_type": "code",
      "execution_count": 70,
      "id": "9a5078b5",
      "metadata": {
        "id": "9a5078b5"
      },
      "outputs": [],
      "source": [
        "## Dividing data into dependent (Y) and independent variable (X)\n",
        "X = df[['Alcohol_Consumption_Rate', 'Smoking_Rate', 'Obesity_Rate', 'PA_Rate']]\n",
        "y = df['COPD_Rate']"
      ]
    },
    {
      "cell_type": "code",
      "execution_count": 71,
      "id": "eabf914d",
      "metadata": {
        "id": "eabf914d"
      },
      "outputs": [],
      "source": [
        "X = sm.add_constant(X) # Adds Intercept Term\n",
        "model2 = sm.OLS(y,X).fit()"
      ]
    },
    {
      "cell_type": "code",
      "execution_count": 72,
      "id": "5d28a810",
      "metadata": {
        "colab": {
          "base_uri": "https://localhost:8080/"
        },
        "id": "5d28a810",
        "outputId": "bd5c2b83-1007-4366-b67e-06b78d7e2928"
      },
      "outputs": [
        {
          "output_type": "stream",
          "name": "stdout",
          "text": [
            "                            OLS Regression Results                            \n",
            "==============================================================================\n",
            "Dep. Variable:              COPD_Rate   R-squared:                       0.843\n",
            "Model:                            OLS   Adj. R-squared:                  0.826\n",
            "Method:                 Least Squares   F-statistic:                     49.51\n",
            "Date:                Thu, 24 Jul 2025   Prob (F-statistic):           2.32e-14\n",
            "Time:                        14:30:53   Log-Likelihood:                -344.57\n",
            "No. Observations:                  42   AIC:                             699.1\n",
            "Df Residuals:                      37   BIC:                             707.8\n",
            "Df Model:                           4                                         \n",
            "Covariance Type:            nonrobust                                         \n",
            "============================================================================================\n",
            "                               coef    std err          t      P>|t|      [0.025      0.975]\n",
            "--------------------------------------------------------------------------------------------\n",
            "const                    -2123.2158   1141.083     -1.861      0.071   -4435.270     188.839\n",
            "Alcohol_Consumption_Rate   134.4604     53.982      2.491      0.017      25.082     243.838\n",
            "Smoking_Rate               160.3384     47.994      3.341      0.002      63.092     257.584\n",
            "Obesity_Rate               147.4545     39.169      3.765      0.001      68.091     226.818\n",
            "PA_Rate                     57.0418     36.556      1.560      0.127     -17.028     131.111\n",
            "==============================================================================\n",
            "Omnibus:                        3.952   Durbin-Watson:                   1.411\n",
            "Prob(Omnibus):                  0.139   Jarque-Bera (JB):                3.425\n",
            "Skew:                           0.223   Prob(JB):                        0.180\n",
            "Kurtosis:                       4.326   Cond. No.                         337.\n",
            "==============================================================================\n",
            "\n",
            "Notes:\n",
            "[1] Standard Errors assume that the covariance matrix of the errors is correctly specified.\n"
          ]
        }
      ],
      "source": [
        "print(model2.summary())"
      ]
    },
    {
      "cell_type": "markdown",
      "source": [
        "The COPD model is performing better, with an R-squared of 0.843 and strong significance for alcohol, smoking, and obesity rates."
      ],
      "metadata": {
        "id": "MzkfhbWq8uFK"
      },
      "id": "MzkfhbWq8uFK"
    },
    {
      "cell_type": "code",
      "execution_count": 73,
      "id": "836f1f92",
      "metadata": {
        "colab": {
          "base_uri": "https://localhost:8080/",
          "height": 410
        },
        "id": "836f1f92",
        "outputId": "ce48d261-c241-485f-a322-12c0a993dcf8"
      },
      "outputs": [
        {
          "output_type": "display_data",
          "data": {
            "text/plain": [
              "<Figure size 600x400 with 1 Axes>"
            ],
            "image/png": "[encoded data removed]"
          },
          "metadata": {}
        }
      ],
      "source": [
        "## Creating a Diagnostic Plot # Residual vs. Fitted\n",
        "residuals = model2.resid\n",
        "fitted = model2.fittedvalues\n",
        "plt.figure(figsize=(6, 4))\n",
        "plt.scatter(fitted, residuals)\n",
        "plt.axhline(0, color='red', linestyle='--')\n",
        "plt.xlabel('Fitted Values')\n",
        "plt.ylabel('Residuals')\n",
        "plt.title('Residual vs. Fitted Plot')\n",
        "plt.show()"
      ]
    },
    {
      "cell_type": "markdown",
      "source": [
        "The residuals still is showing patterns, and the Durbin-Watson statistic suggested possible autocorrelation.\n"
      ],
      "metadata": {
        "id": "ekCII2Qh8zYX"
      },
      "id": "ekCII2Qh8zYX"
    },
    {
      "cell_type": "markdown",
      "id": "2d44a5a0",
      "metadata": {
        "id": "2d44a5a0"
      },
      "source": [
        "Diabetes as a Dependent Variable"
      ]
    },
    {
      "cell_type": "code",
      "execution_count": 74,
      "id": "cc07a61e",
      "metadata": {
        "id": "cc07a61e"
      },
      "outputs": [],
      "source": [
        "## Dividing data into dependent (Y) and independent variable (X)\n",
        "X = df[['Alcohol_Consumption_Rate', 'Smoking_Rate', 'Obesity_Rate', 'PA_Rate']]\n",
        "y = df['Diabetes_Rate']"
      ]
    },
    {
      "cell_type": "code",
      "execution_count": 75,
      "id": "c020799f",
      "metadata": {
        "id": "c020799f"
      },
      "outputs": [],
      "source": [
        "X = sm.add_constant(X) # Adds Intercept Term\n",
        "model3 = sm.OLS(y,X).fit()"
      ]
    },
    {
      "cell_type": "code",
      "execution_count": 76,
      "id": "45f61dfe",
      "metadata": {
        "colab": {
          "base_uri": "https://localhost:8080/"
        },
        "id": "45f61dfe",
        "outputId": "ad39c1ae-8e49-4959-aa60-878d53a41408"
      },
      "outputs": [
        {
          "output_type": "stream",
          "name": "stdout",
          "text": [
            "                            OLS Regression Results                            \n",
            "==============================================================================\n",
            "Dep. Variable:          Diabetes_Rate   R-squared:                       0.392\n",
            "Model:                            OLS   Adj. R-squared:                  0.326\n",
            "Method:                 Least Squares   F-statistic:                     5.966\n",
            "Date:                Thu, 24 Jul 2025   Prob (F-statistic):           0.000827\n",
            "Time:                        14:30:53   Log-Likelihood:                -355.12\n",
            "No. Observations:                  42   AIC:                             720.2\n",
            "Df Residuals:                      37   BIC:                             728.9\n",
            "Df Model:                           4                                         \n",
            "Covariance Type:            nonrobust                                         \n",
            "============================================================================================\n",
            "                               coef    std err          t      P>|t|      [0.025      0.975]\n",
            "--------------------------------------------------------------------------------------------\n",
            "const                     1.113e+04   1466.993      7.586      0.000    8156.152    1.41e+04\n",
            "Alcohol_Consumption_Rate  -162.7012     69.400     -2.344      0.025    -303.319     -22.083\n",
            "Smoking_Rate               108.0204     61.702      1.751      0.088     -17.000     233.041\n",
            "Obesity_Rate               -45.7876     50.356     -0.909      0.369    -147.819      56.243\n",
            "PA_Rate                    116.5409     46.997      2.480      0.018      21.316     211.766\n",
            "==============================================================================\n",
            "Omnibus:                        0.685   Durbin-Watson:                   1.016\n",
            "Prob(Omnibus):                  0.710   Jarque-Bera (JB):                0.705\n",
            "Skew:                           0.279   Prob(JB):                        0.703\n",
            "Kurtosis:                       2.696   Cond. No.                         337.\n",
            "==============================================================================\n",
            "\n",
            "Notes:\n",
            "[1] Standard Errors assume that the covariance matrix of the errors is correctly specified.\n"
          ]
        }
      ],
      "source": [
        "print(model3.summary())"
      ]
    },
    {
      "cell_type": "markdown",
      "source": [
        "For Diabetes, the model has an R-squared of 0.392. Alcohol consumption and physical activity were significant."
      ],
      "metadata": {
        "id": "WfuUG12c85rI"
      },
      "id": "WfuUG12c85rI"
    },
    {
      "cell_type": "code",
      "execution_count": 77,
      "id": "8394846a",
      "metadata": {
        "colab": {
          "base_uri": "https://localhost:8080/",
          "height": 410
        },
        "id": "8394846a",
        "outputId": "7e877a51-3ae5-4a35-8ce6-f6bb9b79ffa3"
      },
      "outputs": [
        {
          "output_type": "display_data",
          "data": {
            "text/plain": [
              "<Figure size 600x400 with 1 Axes>"
            ],
            "image/png": "[encoded data removed]"
          },
          "metadata": {}
        }
      ],
      "source": [
        "## Creating a Diagnostic Plot # Residual vs. Fitted\n",
        "residuals = model3.resid\n",
        "fitted = model3.fittedvalues\n",
        "plt.figure(figsize=(6, 4))\n",
        "plt.scatter(fitted, residuals)\n",
        "plt.axhline(0, color='red', linestyle='--')\n",
        "plt.xlabel('Fitted Values')\n",
        "plt.ylabel('Residuals')\n",
        "plt.title('Residual vs. Fitted Plot')\n",
        "plt.show()"
      ]
    },
    {
      "cell_type": "markdown",
      "source": [
        "Here also the residual plot is showing uneven spread and some curvature, indicating potential model misspecification.\n"
      ],
      "metadata": {
        "id": "3koPNfYY9ACX"
      },
      "id": "3koPNfYY9ACX"
    },
    {
      "cell_type": "markdown",
      "id": "8a045311",
      "metadata": {
        "id": "8a045311"
      },
      "source": [
        "Because these issues compromised model reliability, so we are turning to Poisson regression, which is more appropriate for count data like hospitalization events. These models included a log link function and population offset, significantly improving model fit and interpretability."
      ]
    },
    {
      "cell_type": "markdown",
      "id": "9b030a5e",
      "metadata": {
        "id": "9b030a5e"
      },
      "source": [
        "###GLM Poisson Model"
      ]
    },
    {
      "cell_type": "code",
      "execution_count": 78,
      "id": "b377bdb4",
      "metadata": {
        "colab": {
          "base_uri": "https://localhost:8080/"
        },
        "id": "b377bdb4",
        "outputId": "e4f5a63d-9dfc-4e3c-b6ea-859a0e58b65f"
      },
      "outputs": [
        {
          "output_type": "stream",
          "name": "stdout",
          "text": [
            "                 Generalized Linear Model Regression Results                  \n",
            "==============================================================================\n",
            "Dep. Variable:     Hypertension_Count   No. Observations:                   42\n",
            "Model:                            GLM   Df Residuals:                       36\n",
            "Model Family:                 Poisson   Df Model:                            5\n",
            "Link Function:                    Log   Scale:                          1.0000\n",
            "Method:                          IRLS   Log-Likelihood:                -9372.7\n",
            "Date:                Thu, 24 Jul 2025   Deviance:                       18188.\n",
            "Time:                        14:30:53   Pearson chi2:                 1.82e+04\n",
            "No. Iterations:                     5   Pseudo R-squ. (CS):              1.000\n",
            "Covariance Type:            nonrobust                                         \n",
            "===============================================================================================\n",
            "                                  coef    std err          z      P>|z|      [0.025      0.975]\n",
            "-----------------------------------------------------------------------------------------------\n",
            "const                          -1.6679      0.017    -97.070      0.000      -1.702      -1.634\n",
            "Alcohol_Consumption_Rate       -0.0019      0.000     -9.134      0.000      -0.002      -0.001\n",
            "Smoking_Rate                    0.0136      0.000     79.901      0.000       0.013       0.014\n",
            "Obesity_Rate                    0.0057      0.000     32.039      0.000       0.005       0.006\n",
            "PA_Rate                         0.0091      0.000     61.462      0.000       0.009       0.009\n",
            "log_Hypertension_population     0.9896      0.001   1090.857      0.000       0.988       0.991\n",
            "===============================================================================================\n"
          ]
        }
      ],
      "source": [
        "df['log_Hypertension_population'] = np.log(df['Hypertension_Population'])\n",
        "modelglm1 = sm.GLM(\n",
        "    df['Hypertension_Count'],\n",
        "    sm.add_constant(df[['Alcohol_Consumption_Rate', 'Smoking_Rate', 'Obesity_Rate', 'PA_Rate', 'log_Hypertension_population']]),\n",
        "    family=sm.families.Poisson()\n",
        ").fit()\n",
        "print(modelglm1.summary())"
      ]
    },
    {
      "cell_type": "code",
      "execution_count": 79,
      "id": "e28834cc",
      "metadata": {
        "colab": {
          "base_uri": "https://localhost:8080/"
        },
        "id": "e28834cc",
        "outputId": "ce7a23ed-2185-4eea-d182-bd0ca2b67212"
      },
      "outputs": [
        {
          "output_type": "stream",
          "name": "stdout",
          "text": [
            "                 Generalized Linear Model Regression Results                  \n",
            "==============================================================================\n",
            "Dep. Variable:             COPD_Count   No. Observations:                   42\n",
            "Model:                            GLM   Df Residuals:                       36\n",
            "Model Family:                 Poisson   Df Model:                            5\n",
            "Link Function:                    Log   Scale:                          1.0000\n",
            "Method:                          IRLS   Log-Likelihood:                -12517.\n",
            "Date:                Thu, 24 Jul 2025   Deviance:                       24527.\n",
            "Time:                        14:30:53   Pearson chi2:                 2.45e+04\n",
            "No. Iterations:                     5   Pseudo R-squ. (CS):              1.000\n",
            "Covariance Type:            nonrobust                                         \n",
            "============================================================================================\n",
            "                               coef    std err          z      P>|z|      [0.025      0.975]\n",
            "--------------------------------------------------------------------------------------------\n",
            "const                       -3.9677      0.034   -117.538      0.000      -4.034      -3.902\n",
            "Alcohol_Consumption_Rate     0.0216      0.000     56.877      0.000       0.021       0.022\n",
            "Smoking_Rate                 0.0236      0.000     75.054      0.000       0.023       0.024\n",
            "Obesity_Rate                 0.0231      0.000     66.805      0.000       0.022       0.024\n",
            "PA_Rate                      0.0030      0.000     10.990      0.000       0.002       0.004\n",
            "log_COPD_population          1.0040      0.002    556.413      0.000       1.000       1.008\n",
            "============================================================================================\n"
          ]
        }
      ],
      "source": [
        "df['log_COPD_population'] = np.log(df['COPD_Population'])\n",
        "modelglm2 = sm.GLM(\n",
        "    df['COPD_Count'],\n",
        "    sm.add_constant(df[['Alcohol_Consumption_Rate', 'Smoking_Rate', 'Obesity_Rate', 'PA_Rate', 'log_COPD_population']]),\n",
        "    family=sm.families.Poisson()\n",
        ").fit()\n",
        "print(modelglm2.summary())"
      ]
    },
    {
      "cell_type": "code",
      "execution_count": 80,
      "id": "ab3be00b",
      "metadata": {
        "colab": {
          "base_uri": "https://localhost:8080/"
        },
        "id": "ab3be00b",
        "outputId": "79e5c59a-5669-4ea7-9a6d-b88411eab4e6"
      },
      "outputs": [
        {
          "output_type": "stream",
          "name": "stdout",
          "text": [
            "                 Generalized Linear Model Regression Results                  \n",
            "==============================================================================\n",
            "Dep. Variable:         Diabetes_Count   No. Observations:                   42\n",
            "Model:                            GLM   Df Residuals:                       36\n",
            "Model Family:                 Poisson   Df Model:                            5\n",
            "Link Function:                    Log   Scale:                          1.0000\n",
            "Method:                          IRLS   Log-Likelihood:                -5971.5\n",
            "Date:                Thu, 24 Jul 2025   Deviance:                       11421.\n",
            "Time:                        14:30:53   Pearson chi2:                 1.12e+04\n",
            "No. Iterations:                     6   Pseudo R-squ. (CS):              1.000\n",
            "Covariance Type:            nonrobust                                         \n",
            "============================================================================================\n",
            "                               coef    std err          z      P>|z|      [0.025      0.975]\n",
            "--------------------------------------------------------------------------------------------\n",
            "const                       -3.8656      0.026   -151.031      0.000      -3.916      -3.815\n",
            "Alcohol_Consumption_Rate    -0.0116      0.000    -36.592      0.000      -0.012      -0.011\n",
            "Smoking_Rate                 0.0157      0.000     61.040      0.000       0.015       0.016\n",
            "Obesity_Rate                 0.0126      0.000     47.085      0.000       0.012       0.013\n",
            "PA_Rate                      0.0163      0.000     73.378      0.000       0.016       0.017\n",
            "log_diabetes_population      1.0837      0.001    805.437      0.000       1.081       1.086\n",
            "============================================================================================\n"
          ]
        }
      ],
      "source": [
        "df['log_diabetes_population'] = np.log(df['Diabetes_Population'])\n",
        "modelglm3 = sm.GLM(\n",
        "    df['Diabetes_Count'],\n",
        "    sm.add_constant(df[['Alcohol_Consumption_Rate', 'Smoking_Rate', 'Obesity_Rate', 'PA_Rate', 'log_diabetes_population']]),\n",
        "    family=sm.families.Poisson()\n",
        ").fit()\n",
        "print(modelglm3.summary())"
      ]
    },
    {
      "cell_type": "markdown",
      "source": [
        "The Poisson models for all three diseases had a pseudo R-squared close to 1.000, and all predictors were highly significant. Additionally, the coefficient directions aligned with public health understanding: smoking and obesity increased risk, while physical activity reduced it."
      ],
      "metadata": {
        "id": "CBwduP_Z9aBB"
      },
      "id": "CBwduP_Z9aBB"
    },
    {
      "cell_type": "markdown",
      "source": [
        "Behavioral factors such as smoking, alcohol consumption, obesity, and physical inactivity showed measurable impacts on disease rates. Notably, smoking and physical inactivity emerged as consistent and significant predictors across all three conditions. Poisson regression models, better suited for count data, revealed stronger explanatory power and more reliable patterns than standard linear regression, with all key predictors being highly significant."
      ],
      "metadata": {
        "id": "MrhRcH6L9h7m"
      },
      "id": "MrhRcH6L9h7m"
    }
  ],
  "metadata": {
    "kernelspec": {
      "display_name": "Python 3",
      "language": "python",
      "name": "python3"
    },
    "language_info": {
      "codemirror_mode": {
        "name": "ipython",
        "version": 3
      },
      "file_extension": ".py",
      "mimetype": "text/x-python",
      "name": "python",
      "nbconvert_exporter": "python",
      "pygments_lexer": "ipython3",
      "version": "3.13.1"
    },
    "colab": {
      "provenance": [],
      "toc_visible": true
    }
  },
  "nbformat": 4,
  "nbformat_minor": 5
}