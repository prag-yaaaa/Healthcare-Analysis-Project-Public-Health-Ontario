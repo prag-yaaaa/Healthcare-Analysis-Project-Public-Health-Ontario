{
  "cells": [
    {
      "cell_type": "markdown",
      "id": "39250972",
      "metadata": {
        "id": "39250972"
      },
      "source": [
        "# Data Import"
      ]
    },
    {
      "cell_type": "markdown",
      "id": "f1773aa4",
      "metadata": {
        "id": "f1773aa4"
      },
      "source": [
        "The dataset has been taken from \"Public Health Ontario\". Dataset related to chronic diseased \"Hypertension\", \"COPD\" and \"diabetes\" is taken to analyse the relationship between each chronic disease."
      ]
    },
    {
      "cell_type": "code",
      "execution_count": 1,
      "id": "d839d5c2",
      "metadata": {
        "id": "d839d5c2"
      },
      "outputs": [],
      "source": [
        "##importing necessary libraries for our analysis\n",
        "import pandas as pd\n",
        "import numpy as np\n",
        "import seaborn as sns\n",
        "import matplotlib.pyplot as plt\n",
        "import statsmodels.api as sm"
      ]
    },
    {
      "cell_type": "code",
      "execution_count": 2,
      "id": "9405348a",
      "metadata": {
        "id": "9405348a"
      },
      "outputs": [],
      "source": [
        "## now through read_excel reading our chronic disease dataset\n",
        "chronic = pd.read_excel('Chronic_Disease.xlsx', skiprows = 2)\n",
        "## here we are skipping the first two rows from the excel file, as those rows consists of unwanted data for this analysis say description or the title of the data"
      ]
    },
    {
      "cell_type": "markdown",
      "id": "6059004d",
      "metadata": {
        "id": "6059004d"
      },
      "source": [
        "# Data Cleaning and Preprocessing"
      ]
    },
    {
      "cell_type": "markdown",
      "source": [
        "##Data Cleaning"
      ],
      "metadata": {
        "id": "7r0FGx_L48KS"
      },
      "id": "7r0FGx_L48KS"
    },
    {
      "cell_type": "code",
      "execution_count": 3,
      "id": "e053d6c3",
      "metadata": {
        "colab": {
          "base_uri": "https://localhost:8080/",
          "height": 678
        },
        "id": "e053d6c3",
        "outputId": "e20ad852-e8ec-4be1-9c8a-7053ed267c4f"
      },
      "outputs": [
        {
          "output_type": "execute_result",
          "data": {
            "text/plain": [
              "             Indicator                             Measure  Year  \\\n",
              "0  Incidence of asthma  Age-standardized rate (both sexes)  2013   \n",
              "1  Incidence of asthma  Age-standardized rate (both sexes)  2014   \n",
              "2  Incidence of asthma  Age-standardized rate (both sexes)  2015   \n",
              "3  Incidence of asthma  Age-standardized rate (both sexes)  2016   \n",
              "4  Incidence of asthma  Age-standardized rate (both sexes)  2017   \n",
              "\n",
              "              Geography   Rate 95% Confidence Interval  Count  Population  \\\n",
              "0  Algoma Public Health  374.2           (337.2-411.2)  410.0    110890.0   \n",
              "1  Algoma Public Health  402.3           (363.9-440.6)  444.0    109695.0   \n",
              "2  Algoma Public Health  412.8           (373.3-452.2)  442.0    108738.0   \n",
              "3  Algoma Public Health  327.2           (292.0-362.4)  349.0    108295.0   \n",
              "4  Algoma Public Health  319.3           (284.7-353.8)  350.0    108127.0   \n",
              "\n",
              "  Significance Compared to Ontario  \\\n",
              "0                            Lower   \n",
              "1                            Lower   \n",
              "2                               No   \n",
              "3                            Lower   \n",
              "4                            Lower   \n",
              "\n",
              "  Suppression flag (§ = As per data sharing agreement, results with small case counts between 1 and 4 have been suppressed)  \n",
              "0                                                NaN                                                                         \n",
              "1                                                NaN                                                                         \n",
              "2                                                NaN                                                                         \n",
              "3                                                NaN                                                                         \n",
              "4                                                NaN                                                                         "
            ],
            "text/html": [
              "\n",
              "  <div id=\"df-b7daf653-6aec-4659-ae5c-918ebfc7e483\" class=\"colab-df-container\">\n",
              "    <div>\n",
              "<style scoped>\n",
              "    .dataframe tbody tr th:only-of-type {\n",
              "        vertical-align: middle;\n",
              "    }\n",
              "\n",
              "    .dataframe tbody tr th {\n",
              "        vertical-align: top;\n",
              "    }\n",
              "\n",
              "    .dataframe thead th {\n",
              "        text-align: right;\n",
              "    }\n",
              "</style>\n",
              "<table border=\"1\" class=\"dataframe\">\n",
              "  <thead>\n",
              "    <tr style=\"text-align: right;\">\n",
              "      <th></th>\n",
              "      <th>Indicator</th>\n",
              "      <th>Measure</th>\n",
              "      <th>Year</th>\n",
              "      <th>Geography</th>\n",
              "      <th>Rate</th>\n",
              "      <th>95% Confidence Interval</th>\n",
              "      <th>Count</th>\n",
              "      <th>Population</th>\n",
              "      <th>Significance Compared to Ontario</th>\n",
              "      <th>Suppression flag (§ = As per data sharing agreement, results with small case counts between 1 and 4 have been suppressed)</th>\n",
              "    </tr>\n",
              "  </thead>\n",
              "  <tbody>\n",
              "    <tr>\n",
              "      <th>0</th>\n",
              "      <td>Incidence of asthma</td>\n",
              "      <td>Age-standardized rate (both sexes)</td>\n",
              "      <td>2013</td>\n",
              "      <td>Algoma Public Health</td>\n",
              "      <td>374.2</td>\n",
              "      <td>(337.2-411.2)</td>\n",
              "      <td>410.0</td>\n",
              "      <td>110890.0</td>\n",
              "      <td>Lower</td>\n",
              "      <td>NaN</td>\n",
              "    </tr>\n",
              "    <tr>\n",
              "      <th>1</th>\n",
              "      <td>Incidence of asthma</td>\n",
              "      <td>Age-standardized rate (both sexes)</td>\n",
              "      <td>2014</td>\n",
              "      <td>Algoma Public Health</td>\n",
              "      <td>402.3</td>\n",
              "      <td>(363.9-440.6)</td>\n",
              "      <td>444.0</td>\n",
              "      <td>109695.0</td>\n",
              "      <td>Lower</td>\n",
              "      <td>NaN</td>\n",
              "    </tr>\n",
              "    <tr>\n",
              "      <th>2</th>\n",
              "      <td>Incidence of asthma</td>\n",
              "      <td>Age-standardized rate (both sexes)</td>\n",
              "      <td>2015</td>\n",
              "      <td>Algoma Public Health</td>\n",
              "      <td>412.8</td>\n",
              "      <td>(373.3-452.2)</td>\n",
              "      <td>442.0</td>\n",
              "      <td>108738.0</td>\n",
              "      <td>No</td>\n",
              "      <td>NaN</td>\n",
              "    </tr>\n",
              "    <tr>\n",
              "      <th>3</th>\n",
              "      <td>Incidence of asthma</td>\n",
              "      <td>Age-standardized rate (both sexes)</td>\n",
              "      <td>2016</td>\n",
              "      <td>Algoma Public Health</td>\n",
              "      <td>327.2</td>\n",
              "      <td>(292.0-362.4)</td>\n",
              "      <td>349.0</td>\n",
              "      <td>108295.0</td>\n",
              "      <td>Lower</td>\n",
              "      <td>NaN</td>\n",
              "    </tr>\n",
              "    <tr>\n",
              "      <th>4</th>\n",
              "      <td>Incidence of asthma</td>\n",
              "      <td>Age-standardized rate (both sexes)</td>\n",
              "      <td>2017</td>\n",
              "      <td>Algoma Public Health</td>\n",
              "      <td>319.3</td>\n",
              "      <td>(284.7-353.8)</td>\n",
              "      <td>350.0</td>\n",
              "      <td>108127.0</td>\n",
              "      <td>Lower</td>\n",
              "      <td>NaN</td>\n",
              "    </tr>\n",
              "  </tbody>\n",
              "</table>\n",
              "</div>\n",
              "    <div class=\"colab-df-buttons\">\n",
              "\n",
              "  <div class=\"colab-df-container\">\n",
              "    <button class=\"colab-df-convert\" onclick=\"convertToInteractive('df-b7daf653-6aec-4659-ae5c-918ebfc7e483')\"\n",
              "            title=\"Convert this dataframe to an interactive table.\"\n",
              "            style=\"display:none;\">\n",
              "\n",
              "  <svg xmlns=\"http://www.w3.org/2000/svg\" height=\"24px\" viewBox=\"0 -960 960 960\">\n",
              "    <path d=\"M120-120v-720h720v720H120Zm60-500h600v-160H180v160Zm220 220h160v-160H400v160Zm0 220h160v-160H400v160ZM180-400h160v-160H180v160Zm440 0h160v-160H620v160ZM180-180h160v-160H180v160Zm440 0h160v-160H620v160Z\"/>\n",
              "  </svg>\n",
              "    </button>\n",
              "\n",
              "  <style>\n",
              "    .colab-df-container {\n",
              "      display:flex;\n",
              "      gap: 12px;\n",
              "    }\n",
              "\n",
              "    .colab-df-convert {\n",
              "      background-color: #E8F0FE;\n",
              "      border: none;\n",
              "      border-radius: 50%;\n",
              "      cursor: pointer;\n",
              "      display: none;\n",
              "      fill: #1967D2;\n",
              "      height: 32px;\n",
              "      padding: 0 0 0 0;\n",
              "      width: 32px;\n",
              "    }\n",
              "\n",
              "    .colab-df-convert:hover {\n",
              "      background-color: #E2EBFA;\n",
              "      box-shadow: 0px 1px 2px rgba(60, 64, 67, 0.3), 0px 1px 3px 1px rgba(60, 64, 67, 0.15);\n",
              "      fill: #174EA6;\n",
              "    }\n",
              "\n",
              "    .colab-df-buttons div {\n",
              "      margin-bottom: 4px;\n",
              "    }\n",
              "\n",
              "    [theme=dark] .colab-df-convert {\n",
              "      background-color: #3B4455;\n",
              "      fill: #D2E3FC;\n",
              "    }\n",
              "\n",
              "    [theme=dark] .colab-df-convert:hover {\n",
              "      background-color: #434B5C;\n",
              "      box-shadow: 0px 1px 3px 1px rgba(0, 0, 0, 0.15);\n",
              "      filter: drop-shadow(0px 1px 2px rgba(0, 0, 0, 0.3));\n",
              "      fill: #FFFFFF;\n",
              "    }\n",
              "  </style>\n",
              "\n",
              "    <script>\n",
              "      const buttonEl =\n",
              "        document.querySelector('#df-b7daf653-6aec-4659-ae5c-918ebfc7e483 button.colab-df-convert');\n",
              "      buttonEl.style.display =\n",
              "        google.colab.kernel.accessAllowed ? 'block' : 'none';\n",
              "\n",
              "      async function convertToInteractive(key) {\n",
              "        const element = document.querySelector('#df-b7daf653-6aec-4659-ae5c-918ebfc7e483');\n",
              "        const dataTable =\n",
              "          await google.colab.kernel.invokeFunction('convertToInteractive',\n",
              "                                                    [key], {});\n",
              "        if (!dataTable) return;\n",
              "\n",
              "        const docLinkHtml = 'Like what you see? Visit the ' +\n",
              "          '<a target=\"_blank\" href=https://colab.research.google.com/notebooks/data_table.ipynb>data table notebook</a>'\n",
              "          + ' to learn more about interactive tables.';\n",
              "        element.innerHTML = '';\n",
              "        dataTable['output_type'] = 'display_data';\n",
              "        await google.colab.output.renderOutput(dataTable, element);\n",
              "        const docLink = document.createElement('div');\n",
              "        docLink.innerHTML = docLinkHtml;\n",
              "        element.appendChild(docLink);\n",
              "      }\n",
              "    </script>\n",
              "  </div>\n",
              "\n",
              "\n",
              "    <div id=\"df-695bfc8c-3eb0-44ff-b26f-f3eadd6993d8\">\n",
              "      <button class=\"colab-df-quickchart\" onclick=\"quickchart('df-695bfc8c-3eb0-44ff-b26f-f3eadd6993d8')\"\n",
              "                title=\"Suggest charts\"\n",
              "                style=\"display:none;\">\n",
              "\n",
              "<svg xmlns=\"http://www.w3.org/2000/svg\" height=\"24px\"viewBox=\"0 0 24 24\"\n",
              "     width=\"24px\">\n",
              "    <g>\n",
              "        <path d=\"M19 3H5c-1.1 0-2 .9-2 2v14c0 1.1.9 2 2 2h14c1.1 0 2-.9 2-2V5c0-1.1-.9-2-2-2zM9 17H7v-7h2v7zm4 0h-2V7h2v10zm4 0h-2v-4h2v4z\"/>\n",
              "    </g>\n",
              "</svg>\n",
              "      </button>\n",
              "\n",
              "<style>\n",
              "  .colab-df-quickchart {\n",
              "      --bg-color: #E8F0FE;\n",
              "      --fill-color: #1967D2;\n",
              "      --hover-bg-color: #E2EBFA;\n",
              "      --hover-fill-color: #174EA6;\n",
              "      --disabled-fill-color: #AAA;\n",
              "      --disabled-bg-color: #DDD;\n",
              "  }\n",
              "\n",
              "  [theme=dark] .colab-df-quickchart {\n",
              "      --bg-color: #3B4455;\n",
              "      --fill-color: #D2E3FC;\n",
              "      --hover-bg-color: #434B5C;\n",
              "      --hover-fill-color: #FFFFFF;\n",
              "      --disabled-bg-color: #3B4455;\n",
              "      --disabled-fill-color: #666;\n",
              "  }\n",
              "\n",
              "  .colab-df-quickchart {\n",
              "    background-color: var(--bg-color);\n",
              "    border: none;\n",
              "    border-radius: 50%;\n",
              "    cursor: pointer;\n",
              "    display: none;\n",
              "    fill: var(--fill-color);\n",
              "    height: 32px;\n",
              "    padding: 0;\n",
              "    width: 32px;\n",
              "  }\n",
              "\n",
              "  .colab-df-quickchart:hover {\n",
              "    background-color: var(--hover-bg-color);\n",
              "    box-shadow: 0 1px 2px rgba(60, 64, 67, 0.3), 0 1px 3px 1px rgba(60, 64, 67, 0.15);\n",
              "    fill: var(--button-hover-fill-color);\n",
              "  }\n",
              "\n",
              "  .colab-df-quickchart-complete:disabled,\n",
              "  .colab-df-quickchart-complete:disabled:hover {\n",
              "    background-color: var(--disabled-bg-color);\n",
              "    fill: var(--disabled-fill-color);\n",
              "    box-shadow: none;\n",
              "  }\n",
              "\n",
              "  .colab-df-spinner {\n",
              "    border: 2px solid var(--fill-color);\n",
              "    border-color: transparent;\n",
              "    border-bottom-color: var(--fill-color);\n",
              "    animation:\n",
              "      spin 1s steps(1) infinite;\n",
              "  }\n",
              "\n",
              "  @keyframes spin {\n",
              "    0% {\n",
              "      border-color: transparent;\n",
              "      border-bottom-color: var(--fill-color);\n",
              "      border-left-color: var(--fill-color);\n",
              "    }\n",
              "    20% {\n",
              "      border-color: transparent;\n",
              "      border-left-color: var(--fill-color);\n",
              "      border-top-color: var(--fill-color);\n",
              "    }\n",
              "    30% {\n",
              "      border-color: transparent;\n",
              "      border-left-color: var(--fill-color);\n",
              "      border-top-color: var(--fill-color);\n",
              "      border-right-color: var(--fill-color);\n",
              "    }\n",
              "    40% {\n",
              "      border-color: transparent;\n",
              "      border-right-color: var(--fill-color);\n",
              "      border-top-color: var(--fill-color);\n",
              "    }\n",
              "    60% {\n",
              "      border-color: transparent;\n",
              "      border-right-color: var(--fill-color);\n",
              "    }\n",
              "    80% {\n",
              "      border-color: transparent;\n",
              "      border-right-color: var(--fill-color);\n",
              "      border-bottom-color: var(--fill-color);\n",
              "    }\n",
              "    90% {\n",
              "      border-color: transparent;\n",
              "      border-bottom-color: var(--fill-color);\n",
              "    }\n",
              "  }\n",
              "</style>\n",
              "\n",
              "      <script>\n",
              "        async function quickchart(key) {\n",
              "          const quickchartButtonEl =\n",
              "            document.querySelector('#' + key + ' button');\n",
              "          quickchartButtonEl.disabled = true;  // To prevent multiple clicks.\n",
              "          quickchartButtonEl.classList.add('colab-df-spinner');\n",
              "          try {\n",
              "            const charts = await google.colab.kernel.invokeFunction(\n",
              "                'suggestCharts', [key], {});\n",
              "          } catch (error) {\n",
              "            console.error('Error during call to suggestCharts:', error);\n",
              "          }\n",
              "          quickchartButtonEl.classList.remove('colab-df-spinner');\n",
              "          quickchartButtonEl.classList.add('colab-df-quickchart-complete');\n",
              "        }\n",
              "        (() => {\n",
              "          let quickchartButtonEl =\n",
              "            document.querySelector('#df-695bfc8c-3eb0-44ff-b26f-f3eadd6993d8 button');\n",
              "          quickchartButtonEl.style.display =\n",
              "            google.colab.kernel.accessAllowed ? 'block' : 'none';\n",
              "        })();\n",
              "      </script>\n",
              "    </div>\n",
              "\n",
              "    </div>\n",
              "  </div>\n"
            ],
            "application/vnd.google.colaboratory.intrinsic+json": {
              "type": "dataframe",
              "variable_name": "chronic",
              "summary": "{\n  \"name\": \"chronic\",\n  \"rows\": 44520,\n  \"fields\": [\n    {\n      \"column\": \"Indicator\",\n      \"properties\": {\n        \"dtype\": \"category\",\n        \"num_unique_values\": 8,\n        \"samples\": [\n          \"Prevalence of asthma\",\n          \"Prevalence of diabetes in adults 20+\",\n          \"Incidence of asthma\"\n        ],\n        \"semantic_type\": \"\",\n        \"description\": \"\"\n      }\n    },\n    {\n      \"column\": \"Measure\",\n      \"properties\": {\n        \"dtype\": \"category\",\n        \"num_unique_values\": 14,\n        \"samples\": [\n          \"Age-specific rate (0 to 19)\",\n          \"Age-specific rate (45 to 64)\",\n          \"Age-standardized rate (both sexes)\"\n        ],\n        \"semantic_type\": \"\",\n        \"description\": \"\"\n      }\n    },\n    {\n      \"column\": \"Year\",\n      \"properties\": {\n        \"dtype\": \"number\",\n        \"std\": 2,\n        \"min\": 2013,\n        \"max\": 2022,\n        \"num_unique_values\": 10,\n        \"samples\": [\n          2021,\n          2014,\n          2018\n        ],\n        \"semantic_type\": \"\",\n        \"description\": \"\"\n      }\n    },\n    {\n      \"column\": \"Geography\",\n      \"properties\": {\n        \"dtype\": \"category\",\n        \"num_unique_values\": 42,\n        \"samples\": [\n          \"Thunder Bay District Health Unit\",\n          \"Middlesex-London Health Unit\",\n          \"Hastings Prince Edward Public Health\"\n        ],\n        \"semantic_type\": \"\",\n        \"description\": \"\"\n      }\n    },\n    {\n      \"column\": \"Rate\",\n      \"properties\": {\n        \"dtype\": \"number\",\n        \"std\": 12812.093247790537,\n        \"min\": 0.32,\n        \"max\": 91281.8,\n        \"num_unique_values\": 27346,\n        \"samples\": [\n          8065.6,\n          2624.6,\n          12770.6\n        ],\n        \"semantic_type\": \"\",\n        \"description\": \"\"\n      }\n    },\n    {\n      \"column\": \"95% Confidence Interval\",\n      \"properties\": {\n        \"dtype\": \"string\",\n        \"num_unique_values\": 35880,\n        \"samples\": [\n          \"(858.7-1108.6)\",\n          \"(280.4-309.6)\",\n          \"(1200.9-1268.5)\"\n        ],\n        \"semantic_type\": \"\",\n        \"description\": \"\"\n      }\n    },\n    {\n      \"column\": \"Count\",\n      \"properties\": {\n        \"dtype\": \"number\",\n        \"std\": 152188.1545745144,\n        \"min\": 6.0,\n        \"max\": 3370130.0,\n        \"num_unique_values\": 12876,\n        \"samples\": [\n          26630.0,\n          7179.0,\n          206.0\n        ],\n        \"semantic_type\": \"\",\n        \"description\": \"\"\n      }\n    },\n    {\n      \"column\": \"Population\",\n      \"properties\": {\n        \"dtype\": \"number\",\n        \"std\": 1160306.1728606625,\n        \"min\": 710.0,\n        \"max\": 15857623.0,\n        \"num_unique_values\": 15432,\n        \"samples\": [\n          198483.0,\n          28981.0,\n          50127.0\n        ],\n        \"semantic_type\": \"\",\n        \"description\": \"\"\n      }\n    },\n    {\n      \"column\": \"Significance Compared to Ontario\",\n      \"properties\": {\n        \"dtype\": \"category\",\n        \"num_unique_values\": 3,\n        \"samples\": [\n          \"Lower\",\n          \"No\",\n          \"Higher\"\n        ],\n        \"semantic_type\": \"\",\n        \"description\": \"\"\n      }\n    },\n    {\n      \"column\": \"Suppression flag (\\u00a7 = As per data sharing agreement, results with small case counts between 1 and 4 have been suppressed)\",\n      \"properties\": {\n        \"dtype\": \"category\",\n        \"num_unique_values\": 1,\n        \"samples\": [\n          \"\\u00a7\"\n        ],\n        \"semantic_type\": \"\",\n        \"description\": \"\"\n      }\n    }\n  ]\n}"
            }
          },
          "metadata": {},
          "execution_count": 3
        }
      ],
      "source": [
        "chronic.head() #lets see what our data says"
      ]
    },
    {
      "cell_type": "code",
      "execution_count": 4,
      "id": "1ae45583",
      "metadata": {
        "id": "1ae45583"
      },
      "outputs": [],
      "source": [
        "chronic = chronic.iloc[:, :-1] # excluding the last column as it doesnot sahre any information"
      ]
    },
    {
      "cell_type": "code",
      "execution_count": 5,
      "id": "625c5dfd",
      "metadata": {
        "colab": {
          "base_uri": "https://localhost:8080/"
        },
        "id": "625c5dfd",
        "outputId": "ce86ea3f-2f40-4017-df80-b621a2ce9955"
      },
      "outputs": [
        {
          "output_type": "stream",
          "name": "stdout",
          "text": [
            "<class 'pandas.core.frame.DataFrame'>\n",
            "RangeIndex: 44520 entries, 0 to 44519\n",
            "Data columns (total 9 columns):\n",
            " #   Column                            Non-Null Count  Dtype  \n",
            "---  ------                            --------------  -----  \n",
            " 0   Indicator                         44520 non-null  object \n",
            " 1   Measure                           44520 non-null  object \n",
            " 2   Year                              44520 non-null  int64  \n",
            " 3   Geography                         44520 non-null  object \n",
            " 4   Rate                              44499 non-null  float64\n",
            " 5   95% Confidence Interval           44499 non-null  object \n",
            " 6   Count                             44499 non-null  float64\n",
            " 7   Population                        44499 non-null  float64\n",
            " 8   Significance Compared to Ontario  36019 non-null  object \n",
            "dtypes: float64(3), int64(1), object(5)\n",
            "memory usage: 3.1+ MB\n"
          ]
        }
      ],
      "source": [
        "chronic.info() #provides major informations like rows, columns datatype of the dataset"
      ]
    },
    {
      "cell_type": "markdown",
      "id": "101867a2",
      "metadata": {
        "id": "101867a2"
      },
      "source": [
        "Our data has total of 9 columns and 44520 rows altogether. Here \"Significance Compared to Ontario\" rows has significant number of missing value rows. However for our particular analysis this row doesnot provide any information, so this feature is not important, instead of working with these missing rows, we will simply drop this column for now."
      ]
    },
    {
      "cell_type": "code",
      "execution_count": 6,
      "id": "3038415c",
      "metadata": {
        "id": "3038415c"
      },
      "outputs": [],
      "source": [
        "chronic = chronic.drop(columns = 'Significance Compared to Ontario')"
      ]
    },
    {
      "cell_type": "markdown",
      "id": "d3ece797",
      "metadata": {
        "id": "d3ece797"
      },
      "source": [
        "Okay for our analysis, we will be focusing only on ONTARIO Geographical Units."
      ]
    },
    {
      "cell_type": "code",
      "execution_count": 7,
      "id": "b2971c17",
      "metadata": {
        "id": "b2971c17"
      },
      "outputs": [],
      "source": [
        "chronic = chronic[(chronic['Geography'] == 'Ontario')]"
      ]
    },
    {
      "cell_type": "code",
      "execution_count": 8,
      "id": "8b26722c",
      "metadata": {
        "colab": {
          "base_uri": "https://localhost:8080/"
        },
        "id": "8b26722c",
        "outputId": "e6a2c246-a593-4140-ad26-12273430bc3d"
      },
      "outputs": [
        {
          "output_type": "execute_result",
          "data": {
            "text/plain": [
              "array(['Ontario'], dtype=object)"
            ]
          },
          "metadata": {},
          "execution_count": 8
        }
      ],
      "source": [
        "chronic['Geography'].unique()"
      ]
    },
    {
      "cell_type": "code",
      "execution_count": 9,
      "id": "77f86f56",
      "metadata": {
        "colab": {
          "base_uri": "https://localhost:8080/"
        },
        "id": "77f86f56",
        "outputId": "9596b393-3f8c-49b8-d634-3708ed4021fd"
      },
      "outputs": [
        {
          "output_type": "stream",
          "name": "stdout",
          "text": [
            "<class 'pandas.core.frame.DataFrame'>\n",
            "Index: 1060 entries, 340 to 44449\n",
            "Data columns (total 8 columns):\n",
            " #   Column                   Non-Null Count  Dtype  \n",
            "---  ------                   --------------  -----  \n",
            " 0   Indicator                1060 non-null   object \n",
            " 1   Measure                  1060 non-null   object \n",
            " 2   Year                     1060 non-null   int64  \n",
            " 3   Geography                1060 non-null   object \n",
            " 4   Rate                     1060 non-null   float64\n",
            " 5   95% Confidence Interval  1060 non-null   object \n",
            " 6   Count                    1060 non-null   float64\n",
            " 7   Population               1060 non-null   float64\n",
            "dtypes: float64(3), int64(1), object(4)\n",
            "memory usage: 74.5+ KB\n"
          ]
        }
      ],
      "source": [
        "chronic.info()"
      ]
    },
    {
      "cell_type": "markdown",
      "id": "63a78e71",
      "metadata": {
        "id": "63a78e71"
      },
      "source": [
        "Now lets check for missing rows, we know that there are no missing value rows from the information provided by above query. We can check in another way as well i.e."
      ]
    },
    {
      "cell_type": "code",
      "execution_count": 10,
      "id": "9c841f78",
      "metadata": {
        "colab": {
          "base_uri": "https://localhost:8080/",
          "height": 335
        },
        "id": "9c841f78",
        "outputId": "8ffa447d-af4b-414b-af90-5a1b149a7c1b"
      },
      "outputs": [
        {
          "output_type": "execute_result",
          "data": {
            "text/plain": [
              "Indicator                  0\n",
              "Measure                    0\n",
              "Year                       0\n",
              "Geography                  0\n",
              "Rate                       0\n",
              "95% Confidence Interval    0\n",
              "Count                      0\n",
              "Population                 0\n",
              "dtype: int64"
            ],
            "text/html": [
              "<div>\n",
              "<style scoped>\n",
              "    .dataframe tbody tr th:only-of-type {\n",
              "        vertical-align: middle;\n",
              "    }\n",
              "\n",
              "    .dataframe tbody tr th {\n",
              "        vertical-align: top;\n",
              "    }\n",
              "\n",
              "    .dataframe thead th {\n",
              "        text-align: right;\n",
              "    }\n",
              "</style>\n",
              "<table border=\"1\" class=\"dataframe\">\n",
              "  <thead>\n",
              "    <tr style=\"text-align: right;\">\n",
              "      <th></th>\n",
              "      <th>0</th>\n",
              "    </tr>\n",
              "  </thead>\n",
              "  <tbody>\n",
              "    <tr>\n",
              "      <th>Indicator</th>\n",
              "      <td>0</td>\n",
              "    </tr>\n",
              "    <tr>\n",
              "      <th>Measure</th>\n",
              "      <td>0</td>\n",
              "    </tr>\n",
              "    <tr>\n",
              "      <th>Year</th>\n",
              "      <td>0</td>\n",
              "    </tr>\n",
              "    <tr>\n",
              "      <th>Geography</th>\n",
              "      <td>0</td>\n",
              "    </tr>\n",
              "    <tr>\n",
              "      <th>Rate</th>\n",
              "      <td>0</td>\n",
              "    </tr>\n",
              "    <tr>\n",
              "      <th>95% Confidence Interval</th>\n",
              "      <td>0</td>\n",
              "    </tr>\n",
              "    <tr>\n",
              "      <th>Count</th>\n",
              "      <td>0</td>\n",
              "    </tr>\n",
              "    <tr>\n",
              "      <th>Population</th>\n",
              "      <td>0</td>\n",
              "    </tr>\n",
              "  </tbody>\n",
              "</table>\n",
              "</div><br><label><b>dtype:</b> int64</label>"
            ]
          },
          "metadata": {},
          "execution_count": 10
        }
      ],
      "source": [
        "chronic.isnull().sum()"
      ]
    },
    {
      "cell_type": "markdown",
      "id": "27a1130a",
      "metadata": {
        "id": "27a1130a"
      },
      "source": [
        "No missing values in our data."
      ]
    },
    {
      "cell_type": "code",
      "execution_count": 11,
      "id": "a031e72e",
      "metadata": {
        "colab": {
          "base_uri": "https://localhost:8080/"
        },
        "id": "a031e72e",
        "outputId": "3c6b8ff0-cf79-4f18-b2f6-391593fb1138"
      },
      "outputs": [
        {
          "output_type": "stream",
          "name": "stdout",
          "text": [
            "<class 'pandas.core.frame.DataFrame'>\n",
            "Index: 1060 entries, 340 to 44449\n",
            "Data columns (total 8 columns):\n",
            " #   Column                   Non-Null Count  Dtype  \n",
            "---  ------                   --------------  -----  \n",
            " 0   Indicator                1060 non-null   object \n",
            " 1   Measure                  1060 non-null   object \n",
            " 2   Year                     1060 non-null   int64  \n",
            " 3   Geography                1060 non-null   object \n",
            " 4   Rate                     1060 non-null   float64\n",
            " 5   95% Confidence Interval  1060 non-null   object \n",
            " 6   Count                    1060 non-null   float64\n",
            " 7   Population               1060 non-null   float64\n",
            "dtypes: float64(3), int64(1), object(4)\n",
            "memory usage: 74.5+ KB\n"
          ]
        }
      ],
      "source": [
        "chronic.info() ##now we have our data intact without any missing values"
      ]
    },
    {
      "cell_type": "markdown",
      "id": "a795cf68",
      "metadata": {
        "id": "a795cf68"
      },
      "source": [
        "Now Checking for any Duplicated values in the dataset, as the duplicates will impact our analysis results."
      ]
    },
    {
      "cell_type": "code",
      "execution_count": 12,
      "id": "5f964991",
      "metadata": {
        "colab": {
          "base_uri": "https://localhost:8080/"
        },
        "id": "5f964991",
        "outputId": "292e2a80-4042-4849-972a-6672103f74ec"
      },
      "outputs": [
        {
          "output_type": "execute_result",
          "data": {
            "text/plain": [
              "np.int64(0)"
            ]
          },
          "metadata": {},
          "execution_count": 12
        }
      ],
      "source": [
        "chronic.duplicated().sum() ## there are no duplicates in our data"
      ]
    },
    {
      "cell_type": "markdown",
      "id": "cbd9c7e7",
      "metadata": {
        "id": "cbd9c7e7"
      },
      "source": [
        "We will not be checking outliers in our dataset. Our data is not a patient level data, however is aggregated data from public health ontario. There is likely minimal cases of outliers than in the patient level data, so we will skip this step."
      ]
    },
    {
      "cell_type": "markdown",
      "id": "e878f39d",
      "metadata": {
        "id": "e878f39d"
      },
      "source": [
        "##Data Preprocessing"
      ]
    },
    {
      "cell_type": "markdown",
      "id": "0ebbd426",
      "metadata": {
        "id": "0ebbd426"
      },
      "source": [
        "We have one dataset i.e. Chronic, this particular dataset has all data for our chronic disease that we are working with i.e. \"Hypertension\", \"Diabetes\" and \"COPD\". We have to differentiate these. Also We will do our statistical model analysis based on \"Age Standardized\" Measure so we will be excluding other Measures as well."
      ]
    },
    {
      "cell_type": "code",
      "execution_count": 13,
      "id": "12c9bc3a",
      "metadata": {
        "colab": {
          "base_uri": "https://localhost:8080/"
        },
        "id": "12c9bc3a",
        "outputId": "e1f77c50-302f-4765-8e85-72f7ff1fc358"
      },
      "outputs": [
        {
          "output_type": "execute_result",
          "data": {
            "text/plain": [
              "array(['Incidence of asthma', 'Prevalence of asthma',\n",
              "       'Incidence of COPD in adults 20+',\n",
              "       'Prevalence of COPD in adults 20+',\n",
              "       'Incidence of diabetes in adults 20+',\n",
              "       'Prevalence of diabetes in adults 20+',\n",
              "       'Incidence of hypertension in adults 20+',\n",
              "       'Prevalence of hypertension in adults 20+'], dtype=object)"
            ]
          },
          "metadata": {},
          "execution_count": 13
        }
      ],
      "source": [
        "chronic['Indicator'].unique()\n",
        "##Also we have Incidence and Prevalence data for each chronic disease\n",
        "##For our analysis we will be going through Prevalence Data"
      ]
    },
    {
      "cell_type": "code",
      "execution_count": 14,
      "id": "e2183f0e",
      "metadata": {
        "id": "e2183f0e"
      },
      "outputs": [],
      "source": [
        "hypertension = chronic[chronic['Indicator'] == 'Prevalence of hypertension in adults 20+']\n",
        "COPD = chronic[chronic['Indicator'] == 'Prevalence of COPD in adults 20+']\n",
        "diabetes = chronic[chronic['Indicator'] == 'Prevalence of diabetes in adults 20+']\n",
        "\n",
        "## we have successfully divided our dataset."
      ]
    },
    {
      "cell_type": "markdown",
      "id": "017d9620",
      "metadata": {
        "id": "017d9620"
      },
      "source": [
        "So that there wont be any confusion as all the datsets have same column names, lets rename those as well. We will only change the names of the columns we will be using further in our analysis."
      ]
    },
    {
      "cell_type": "code",
      "execution_count": 15,
      "id": "be25926f",
      "metadata": {
        "id": "be25926f"
      },
      "outputs": [],
      "source": [
        "hypertension = hypertension.rename(\n",
        "    columns = {\n",
        "        'Rate' : 'Hypertension_Rate',\n",
        "        'Count' : 'Hypertension_Count',\n",
        "        'Population' : 'Hypertension_Population'\n",
        "    }\n",
        ")"
      ]
    },
    {
      "cell_type": "code",
      "execution_count": 16,
      "id": "e61b2a28",
      "metadata": {
        "id": "e61b2a28"
      },
      "outputs": [],
      "source": [
        "COPD = COPD.rename(\n",
        "    columns = {\n",
        "        'Rate' : 'COPD_Rate',\n",
        "        'Count' : 'COPD_Count',\n",
        "        'Population' : 'COPD_Population'\n",
        "    }\n",
        ")"
      ]
    },
    {
      "cell_type": "code",
      "execution_count": 17,
      "id": "7f1ade63",
      "metadata": {
        "id": "7f1ade63"
      },
      "outputs": [],
      "source": [
        "diabetes = diabetes.rename(\n",
        "    columns = {\n",
        "        'Rate' : 'Diabetes_Rate',\n",
        "        'Count' : 'Diabetes_Count',\n",
        "        'Population' : 'Diabetes_Population'\n",
        "    }\n",
        ")"
      ]
    },
    {
      "cell_type": "markdown",
      "id": "3cc4bb19",
      "metadata": {
        "id": "3cc4bb19"
      },
      "source": [
        "Now creating a different dataframe for each having only the AGE STANDARDIZED data. This main data that we have created we will use this for descriptive analysis while EDA. So instead of changing the same, lets create a new Dataframe."
      ]
    },
    {
      "cell_type": "code",
      "execution_count": 18,
      "id": "15674779",
      "metadata": {
        "id": "15674779"
      },
      "outputs": [],
      "source": [
        "hypertension_as = hypertension[hypertension['Measure'] == 'Age-standardized rate (both sexes)']\n",
        "COPD_as = COPD[COPD['Measure'] == 'Age-standardized rate (both sexes)']\n",
        "diabetes_as = diabetes[diabetes['Measure'] == 'Age-standardized rate (both sexes)']"
      ]
    },
    {
      "cell_type": "markdown",
      "id": "ad7def58",
      "metadata": {
        "id": "ad7def58"
      },
      "source": [
        "Then lets create our final dataframe, merging all these  data, for our statistical model analysis that we will do after we complete out EDA."
      ]
    },
    {
      "cell_type": "code",
      "execution_count": 19,
      "id": "e40fc28b",
      "metadata": {
        "id": "e40fc28b"
      },
      "outputs": [],
      "source": [
        "df = hypertension_as.merge(COPD_as[['COPD_Rate', 'COPD_Count', 'COPD_Population', 'Year', 'Geography']], on = ['Year', 'Geography'], how = 'left')\\\n",
        "                    .merge(diabetes_as[['Diabetes_Rate', 'Diabetes_Count', 'Diabetes_Population', 'Year', 'Geography']], on = ['Year', 'Geography'], how = 'left')"
      ]
    },
    {
      "cell_type": "code",
      "execution_count": 20,
      "id": "2f3e4520",
      "metadata": {
        "colab": {
          "base_uri": "https://localhost:8080/"
        },
        "id": "2f3e4520",
        "outputId": "7fd47851-23db-4b1d-f098-9ff8dbc12ec5"
      },
      "outputs": [
        {
          "output_type": "stream",
          "name": "stdout",
          "text": [
            "<class 'pandas.core.frame.DataFrame'>\n",
            "RangeIndex: 10 entries, 0 to 9\n",
            "Data columns (total 14 columns):\n",
            " #   Column                   Non-Null Count  Dtype  \n",
            "---  ------                   --------------  -----  \n",
            " 0   Indicator                10 non-null     object \n",
            " 1   Measure                  10 non-null     object \n",
            " 2   Year                     10 non-null     int64  \n",
            " 3   Geography                10 non-null     object \n",
            " 4   Hypertension_Rate        10 non-null     float64\n",
            " 5   95% Confidence Interval  10 non-null     object \n",
            " 6   Hypertension_Count       10 non-null     float64\n",
            " 7   Hypertension_Population  10 non-null     float64\n",
            " 8   COPD_Rate                10 non-null     float64\n",
            " 9   COPD_Count               10 non-null     float64\n",
            " 10  COPD_Population          10 non-null     float64\n",
            " 11  Diabetes_Rate            10 non-null     float64\n",
            " 12  Diabetes_Count           10 non-null     float64\n",
            " 13  Diabetes_Population      10 non-null     float64\n",
            "dtypes: float64(9), int64(1), object(4)\n",
            "memory usage: 1.2+ KB\n"
          ]
        }
      ],
      "source": [
        "df.info() ## so our final dataframe that we will be working is ready"
      ]
    },
    {
      "cell_type": "markdown",
      "id": "5ef567f5",
      "metadata": {
        "id": "5ef567f5"
      },
      "source": [
        "# Exploratory Data Analysis (EDA) / Descriptive Analysis"
      ]
    },
    {
      "cell_type": "code",
      "execution_count": 21,
      "id": "ea71b91a",
      "metadata": {
        "colab": {
          "base_uri": "https://localhost:8080/",
          "height": 320
        },
        "id": "ea71b91a",
        "outputId": "cc45bf74-6bce-4075-b77d-870754383f8b"
      },
      "outputs": [
        {
          "output_type": "execute_result",
          "data": {
            "text/plain": [
              "             Year  Hypertension_Rate  Hypertension_Count  \\\n",
              "count    10.00000          10.000000        1.000000e+01   \n",
              "mean   2017.50000       25762.190000        3.170309e+06   \n",
              "std       3.02765         711.003123        1.319515e+05   \n",
              "min    2013.00000       24750.400000        2.969787e+06   \n",
              "25%    2015.25000       25242.150000        3.067032e+06   \n",
              "50%    2017.50000       25765.350000        3.181223e+06   \n",
              "75%    2019.75000       26361.600000        3.262977e+06   \n",
              "max    2022.00000       26756.800000        3.370130e+06   \n",
              "\n",
              "       Hypertension_Population    COPD_Rate     COPD_Count  COPD_Population  \\\n",
              "count             1.000000e+01    10.000000      10.000000     1.000000e+01   \n",
              "mean              1.167018e+07  7636.750000  942041.200000     1.167018e+07   \n",
              "std               5.268123e+05   321.725274   34346.421705     5.268123e+05   \n",
              "min               1.094689e+07  7002.600000  876186.000000     1.094689e+07   \n",
              "25%               1.123549e+07  7486.325000  921008.500000     1.123549e+07   \n",
              "50%               1.166757e+07  7770.000000  957630.500000     1.166757e+07   \n",
              "75%               1.200591e+07  7880.775000  967033.000000     1.200591e+07   \n",
              "max               1.252619e+07  7921.300000  977942.000000     1.252619e+07   \n",
              "\n",
              "       Diabetes_Rate  Diabetes_Count  Diabetes_Population  \n",
              "count      10.000000    1.000000e+01         1.000000e+01  \n",
              "mean    11627.390000    1.426450e+06         1.167018e+07  \n",
              "std       325.375812    1.332287e+05         5.268123e+05  \n",
              "min     11102.600000    1.228798e+06         1.094689e+07  \n",
              "25%     11421.700000    1.325031e+06         1.123549e+07  \n",
              "50%     11650.450000    1.430515e+06         1.166757e+07  \n",
              "75%     11847.175000    1.518550e+06         1.200591e+07  \n",
              "max     12112.500000    1.630037e+06         1.252619e+07  "
            ],
            "text/html": [
              "\n",
              "  <div id=\"df-f0de8c2f-5944-4efe-a271-d70562d8dae3\" class=\"colab-df-container\">\n",
              "    <div>\n",
              "<style scoped>\n",
              "    .dataframe tbody tr th:only-of-type {\n",
              "        vertical-align: middle;\n",
              "    }\n",
              "\n",
              "    .dataframe tbody tr th {\n",
              "        vertical-align: top;\n",
              "    }\n",
              "\n",
              "    .dataframe thead th {\n",
              "        text-align: right;\n",
              "    }\n",
              "</style>\n",
              "<table border=\"1\" class=\"dataframe\">\n",
              "  <thead>\n",
              "    <tr style=\"text-align: right;\">\n",
              "      <th></th>\n",
              "      <th>Year</th>\n",
              "      <th>Hypertension_Rate</th>\n",
              "      <th>Hypertension_Count</th>\n",
              "      <th>Hypertension_Population</th>\n",
              "      <th>COPD_Rate</th>\n",
              "      <th>COPD_Count</th>\n",
              "      <th>COPD_Population</th>\n",
              "      <th>Diabetes_Rate</th>\n",
              "      <th>Diabetes_Count</th>\n",
              "      <th>Diabetes_Population</th>\n",
              "    </tr>\n",
              "  </thead>\n",
              "  <tbody>\n",
              "    <tr>\n",
              "      <th>count</th>\n",
              "      <td>10.00000</td>\n",
              "      <td>10.000000</td>\n",
              "      <td>1.000000e+01</td>\n",
              "      <td>1.000000e+01</td>\n",
              "      <td>10.000000</td>\n",
              "      <td>10.000000</td>\n",
              "      <td>1.000000e+01</td>\n",
              "      <td>10.000000</td>\n",
              "      <td>1.000000e+01</td>\n",
              "      <td>1.000000e+01</td>\n",
              "    </tr>\n",
              "    <tr>\n",
              "      <th>mean</th>\n",
              "      <td>2017.50000</td>\n",
              "      <td>25762.190000</td>\n",
              "      <td>3.170309e+06</td>\n",
              "      <td>1.167018e+07</td>\n",
              "      <td>7636.750000</td>\n",
              "      <td>942041.200000</td>\n",
              "      <td>1.167018e+07</td>\n",
              "      <td>11627.390000</td>\n",
              "      <td>1.426450e+06</td>\n",
              "      <td>1.167018e+07</td>\n",
              "    </tr>\n",
              "    <tr>\n",
              "      <th>std</th>\n",
              "      <td>3.02765</td>\n",
              "      <td>711.003123</td>\n",
              "      <td>1.319515e+05</td>\n",
              "      <td>5.268123e+05</td>\n",
              "      <td>321.725274</td>\n",
              "      <td>34346.421705</td>\n",
              "      <td>5.268123e+05</td>\n",
              "      <td>325.375812</td>\n",
              "      <td>1.332287e+05</td>\n",
              "      <td>5.268123e+05</td>\n",
              "    </tr>\n",
              "    <tr>\n",
              "      <th>min</th>\n",
              "      <td>2013.00000</td>\n",
              "      <td>24750.400000</td>\n",
              "      <td>2.969787e+06</td>\n",
              "      <td>1.094689e+07</td>\n",
              "      <td>7002.600000</td>\n",
              "      <td>876186.000000</td>\n",
              "      <td>1.094689e+07</td>\n",
              "      <td>11102.600000</td>\n",
              "      <td>1.228798e+06</td>\n",
              "      <td>1.094689e+07</td>\n",
              "    </tr>\n",
              "    <tr>\n",
              "      <th>25%</th>\n",
              "      <td>2015.25000</td>\n",
              "      <td>25242.150000</td>\n",
              "      <td>3.067032e+06</td>\n",
              "      <td>1.123549e+07</td>\n",
              "      <td>7486.325000</td>\n",
              "      <td>921008.500000</td>\n",
              "      <td>1.123549e+07</td>\n",
              "      <td>11421.700000</td>\n",
              "      <td>1.325031e+06</td>\n",
              "      <td>1.123549e+07</td>\n",
              "    </tr>\n",
              "    <tr>\n",
              "      <th>50%</th>\n",
              "      <td>2017.50000</td>\n",
              "      <td>25765.350000</td>\n",
              "      <td>3.181223e+06</td>\n",
              "      <td>1.166757e+07</td>\n",
              "      <td>7770.000000</td>\n",
              "      <td>957630.500000</td>\n",
              "      <td>1.166757e+07</td>\n",
              "      <td>11650.450000</td>\n",
              "      <td>1.430515e+06</td>\n",
              "      <td>1.166757e+07</td>\n",
              "    </tr>\n",
              "    <tr>\n",
              "      <th>75%</th>\n",
              "      <td>2019.75000</td>\n",
              "      <td>26361.600000</td>\n",
              "      <td>3.262977e+06</td>\n",
              "      <td>1.200591e+07</td>\n",
              "      <td>7880.775000</td>\n",
              "      <td>967033.000000</td>\n",
              "      <td>1.200591e+07</td>\n",
              "      <td>11847.175000</td>\n",
              "      <td>1.518550e+06</td>\n",
              "      <td>1.200591e+07</td>\n",
              "    </tr>\n",
              "    <tr>\n",
              "      <th>max</th>\n",
              "      <td>2022.00000</td>\n",
              "      <td>26756.800000</td>\n",
              "      <td>3.370130e+06</td>\n",
              "      <td>1.252619e+07</td>\n",
              "      <td>7921.300000</td>\n",
              "      <td>977942.000000</td>\n",
              "      <td>1.252619e+07</td>\n",
              "      <td>12112.500000</td>\n",
              "      <td>1.630037e+06</td>\n",
              "      <td>1.252619e+07</td>\n",
              "    </tr>\n",
              "  </tbody>\n",
              "</table>\n",
              "</div>\n",
              "    <div class=\"colab-df-buttons\">\n",
              "\n",
              "  <div class=\"colab-df-container\">\n",
              "    <button class=\"colab-df-convert\" onclick=\"convertToInteractive('df-f0de8c2f-5944-4efe-a271-d70562d8dae3')\"\n",
              "            title=\"Convert this dataframe to an interactive table.\"\n",
              "            style=\"display:none;\">\n",
              "\n",
              "  <svg xmlns=\"http://www.w3.org/2000/svg\" height=\"24px\" viewBox=\"0 -960 960 960\">\n",
              "    <path d=\"M120-120v-720h720v720H120Zm60-500h600v-160H180v160Zm220 220h160v-160H400v160Zm0 220h160v-160H400v160ZM180-400h160v-160H180v160Zm440 0h160v-160H620v160ZM180-180h160v-160H180v160Zm440 0h160v-160H620v160Z\"/>\n",
              "  </svg>\n",
              "    </button>\n",
              "\n",
              "  <style>\n",
              "    .colab-df-container {\n",
              "      display:flex;\n",
              "      gap: 12px;\n",
              "    }\n",
              "\n",
              "    .colab-df-convert {\n",
              "      background-color: #E8F0FE;\n",
              "      border: none;\n",
              "      border-radius: 50%;\n",
              "      cursor: pointer;\n",
              "      display: none;\n",
              "      fill: #1967D2;\n",
              "      height: 32px;\n",
              "      padding: 0 0 0 0;\n",
              "      width: 32px;\n",
              "    }\n",
              "\n",
              "    .colab-df-convert:hover {\n",
              "      background-color: #E2EBFA;\n",
              "      box-shadow: 0px 1px 2px rgba(60, 64, 67, 0.3), 0px 1px 3px 1px rgba(60, 64, 67, 0.15);\n",
              "      fill: #174EA6;\n",
              "    }\n",
              "\n",
              "    .colab-df-buttons div {\n",
              "      margin-bottom: 4px;\n",
              "    }\n",
              "\n",
              "    [theme=dark] .colab-df-convert {\n",
              "      background-color: #3B4455;\n",
              "      fill: #D2E3FC;\n",
              "    }\n",
              "\n",
              "    [theme=dark] .colab-df-convert:hover {\n",
              "      background-color: #434B5C;\n",
              "      box-shadow: 0px 1px 3px 1px rgba(0, 0, 0, 0.15);\n",
              "      filter: drop-shadow(0px 1px 2px rgba(0, 0, 0, 0.3));\n",
              "      fill: #FFFFFF;\n",
              "    }\n",
              "  </style>\n",
              "\n",
              "    <script>\n",
              "      const buttonEl =\n",
              "        document.querySelector('#df-f0de8c2f-5944-4efe-a271-d70562d8dae3 button.colab-df-convert');\n",
              "      buttonEl.style.display =\n",
              "        google.colab.kernel.accessAllowed ? 'block' : 'none';\n",
              "\n",
              "      async function convertToInteractive(key) {\n",
              "        const element = document.querySelector('#df-f0de8c2f-5944-4efe-a271-d70562d8dae3');\n",
              "        const dataTable =\n",
              "          await google.colab.kernel.invokeFunction('convertToInteractive',\n",
              "                                                    [key], {});\n",
              "        if (!dataTable) return;\n",
              "\n",
              "        const docLinkHtml = 'Like what you see? Visit the ' +\n",
              "          '<a target=\"_blank\" href=https://colab.research.google.com/notebooks/data_table.ipynb>data table notebook</a>'\n",
              "          + ' to learn more about interactive tables.';\n",
              "        element.innerHTML = '';\n",
              "        dataTable['output_type'] = 'display_data';\n",
              "        await google.colab.output.renderOutput(dataTable, element);\n",
              "        const docLink = document.createElement('div');\n",
              "        docLink.innerHTML = docLinkHtml;\n",
              "        element.appendChild(docLink);\n",
              "      }\n",
              "    </script>\n",
              "  </div>\n",
              "\n",
              "\n",
              "    <div id=\"df-38fc986a-b510-444b-9483-e4160fd263ea\">\n",
              "      <button class=\"colab-df-quickchart\" onclick=\"quickchart('df-38fc986a-b510-444b-9483-e4160fd263ea')\"\n",
              "                title=\"Suggest charts\"\n",
              "                style=\"display:none;\">\n",
              "\n",
              "<svg xmlns=\"http://www.w3.org/2000/svg\" height=\"24px\"viewBox=\"0 0 24 24\"\n",
              "     width=\"24px\">\n",
              "    <g>\n",
              "        <path d=\"M19 3H5c-1.1 0-2 .9-2 2v14c0 1.1.9 2 2 2h14c1.1 0 2-.9 2-2V5c0-1.1-.9-2-2-2zM9 17H7v-7h2v7zm4 0h-2V7h2v10zm4 0h-2v-4h2v4z\"/>\n",
              "    </g>\n",
              "</svg>\n",
              "      </button>\n",
              "\n",
              "<style>\n",
              "  .colab-df-quickchart {\n",
              "      --bg-color: #E8F0FE;\n",
              "      --fill-color: #1967D2;\n",
              "      --hover-bg-color: #E2EBFA;\n",
              "      --hover-fill-color: #174EA6;\n",
              "      --disabled-fill-color: #AAA;\n",
              "      --disabled-bg-color: #DDD;\n",
              "  }\n",
              "\n",
              "  [theme=dark] .colab-df-quickchart {\n",
              "      --bg-color: #3B4455;\n",
              "      --fill-color: #D2E3FC;\n",
              "      --hover-bg-color: #434B5C;\n",
              "      --hover-fill-color: #FFFFFF;\n",
              "      --disabled-bg-color: #3B4455;\n",
              "      --disabled-fill-color: #666;\n",
              "  }\n",
              "\n",
              "  .colab-df-quickchart {\n",
              "    background-color: var(--bg-color);\n",
              "    border: none;\n",
              "    border-radius: 50%;\n",
              "    cursor: pointer;\n",
              "    display: none;\n",
              "    fill: var(--fill-color);\n",
              "    height: 32px;\n",
              "    padding: 0;\n",
              "    width: 32px;\n",
              "  }\n",
              "\n",
              "  .colab-df-quickchart:hover {\n",
              "    background-color: var(--hover-bg-color);\n",
              "    box-shadow: 0 1px 2px rgba(60, 64, 67, 0.3), 0 1px 3px 1px rgba(60, 64, 67, 0.15);\n",
              "    fill: var(--button-hover-fill-color);\n",
              "  }\n",
              "\n",
              "  .colab-df-quickchart-complete:disabled,\n",
              "  .colab-df-quickchart-complete:disabled:hover {\n",
              "    background-color: var(--disabled-bg-color);\n",
              "    fill: var(--disabled-fill-color);\n",
              "    box-shadow: none;\n",
              "  }\n",
              "\n",
              "  .colab-df-spinner {\n",
              "    border: 2px solid var(--fill-color);\n",
              "    border-color: transparent;\n",
              "    border-bottom-color: var(--fill-color);\n",
              "    animation:\n",
              "      spin 1s steps(1) infinite;\n",
              "  }\n",
              "\n",
              "  @keyframes spin {\n",
              "    0% {\n",
              "      border-color: transparent;\n",
              "      border-bottom-color: var(--fill-color);\n",
              "      border-left-color: var(--fill-color);\n",
              "    }\n",
              "    20% {\n",
              "      border-color: transparent;\n",
              "      border-left-color: var(--fill-color);\n",
              "      border-top-color: var(--fill-color);\n",
              "    }\n",
              "    30% {\n",
              "      border-color: transparent;\n",
              "      border-left-color: var(--fill-color);\n",
              "      border-top-color: var(--fill-color);\n",
              "      border-right-color: var(--fill-color);\n",
              "    }\n",
              "    40% {\n",
              "      border-color: transparent;\n",
              "      border-right-color: var(--fill-color);\n",
              "      border-top-color: var(--fill-color);\n",
              "    }\n",
              "    60% {\n",
              "      border-color: transparent;\n",
              "      border-right-color: var(--fill-color);\n",
              "    }\n",
              "    80% {\n",
              "      border-color: transparent;\n",
              "      border-right-color: var(--fill-color);\n",
              "      border-bottom-color: var(--fill-color);\n",
              "    }\n",
              "    90% {\n",
              "      border-color: transparent;\n",
              "      border-bottom-color: var(--fill-color);\n",
              "    }\n",
              "  }\n",
              "</style>\n",
              "\n",
              "      <script>\n",
              "        async function quickchart(key) {\n",
              "          const quickchartButtonEl =\n",
              "            document.querySelector('#' + key + ' button');\n",
              "          quickchartButtonEl.disabled = true;  // To prevent multiple clicks.\n",
              "          quickchartButtonEl.classList.add('colab-df-spinner');\n",
              "          try {\n",
              "            const charts = await google.colab.kernel.invokeFunction(\n",
              "                'suggestCharts', [key], {});\n",
              "          } catch (error) {\n",
              "            console.error('Error during call to suggestCharts:', error);\n",
              "          }\n",
              "          quickchartButtonEl.classList.remove('colab-df-spinner');\n",
              "          quickchartButtonEl.classList.add('colab-df-quickchart-complete');\n",
              "        }\n",
              "        (() => {\n",
              "          let quickchartButtonEl =\n",
              "            document.querySelector('#df-38fc986a-b510-444b-9483-e4160fd263ea button');\n",
              "          quickchartButtonEl.style.display =\n",
              "            google.colab.kernel.accessAllowed ? 'block' : 'none';\n",
              "        })();\n",
              "      </script>\n",
              "    </div>\n",
              "\n",
              "    </div>\n",
              "  </div>\n"
            ],
            "application/vnd.google.colaboratory.intrinsic+json": {
              "type": "dataframe",
              "summary": "{\n  \"name\": \"df\",\n  \"rows\": 8,\n  \"fields\": [\n    {\n      \"column\": \"Year\",\n      \"properties\": {\n        \"dtype\": \"number\",\n        \"std\": 930.9114600236358,\n        \"min\": 3.0276503540974917,\n        \"max\": 2022.0,\n        \"num_unique_values\": 7,\n        \"samples\": [\n          10.0,\n          2017.5,\n          2019.75\n        ],\n        \"semantic_type\": \"\",\n        \"description\": \"\"\n      }\n    },\n    {\n      \"column\": \"Hypertension_Rate\",\n      \"properties\": {\n        \"dtype\": \"number\",\n        \"std\": 11781.259599831561,\n        \"min\": 10.0,\n        \"max\": 26756.8,\n        \"num_unique_values\": 8,\n        \"samples\": [\n          25762.19,\n          25765.35,\n          10.0\n        ],\n        \"semantic_type\": \"\",\n        \"description\": \"\"\n      }\n    },\n    {\n      \"column\": \"Hypertension_Count\",\n      \"properties\": {\n        \"dtype\": \"number\",\n        \"std\": 1442363.14834096,\n        \"min\": 10.0,\n        \"max\": 3370130.0,\n        \"num_unique_values\": 8,\n        \"samples\": [\n          3170308.8,\n          3181223.0,\n          10.0\n        ],\n        \"semantic_type\": \"\",\n        \"description\": \"\"\n      }\n    },\n    {\n      \"column\": \"Hypertension_Population\",\n      \"properties\": {\n        \"dtype\": \"number\",\n        \"std\": 5305595.8141010655,\n        \"min\": 10.0,\n        \"max\": 12526191.0,\n        \"num_unique_values\": 8,\n        \"samples\": [\n          11670182.9,\n          11667568.5,\n          10.0\n        ],\n        \"semantic_type\": \"\",\n        \"description\": \"\"\n      }\n    },\n    {\n      \"column\": \"COPD_Rate\",\n      \"properties\": {\n        \"dtype\": \"number\",\n        \"std\": 3461.883478379954,\n        \"min\": 10.0,\n        \"max\": 7921.3,\n        \"num_unique_values\": 8,\n        \"samples\": [\n          7636.75,\n          7770.0,\n          10.0\n        ],\n        \"semantic_type\": \"\",\n        \"description\": \"\"\n      }\n    },\n    {\n      \"column\": \"COPD_Count\",\n      \"properties\": {\n        \"dtype\": \"number\",\n        \"std\": 428578.54520185,\n        \"min\": 10.0,\n        \"max\": 977942.0,\n        \"num_unique_values\": 8,\n        \"samples\": [\n          942041.2,\n          957630.5,\n          10.0\n        ],\n        \"semantic_type\": \"\",\n        \"description\": \"\"\n      }\n    },\n    {\n      \"column\": \"COPD_Population\",\n      \"properties\": {\n        \"dtype\": \"number\",\n        \"std\": 5305595.8141010655,\n        \"min\": 10.0,\n        \"max\": 12526191.0,\n        \"num_unique_values\": 8,\n        \"samples\": [\n          11670182.9,\n          11667568.5,\n          10.0\n        ],\n        \"semantic_type\": \"\",\n        \"description\": \"\"\n      }\n    },\n    {\n      \"column\": \"Diabetes_Rate\",\n      \"properties\": {\n        \"dtype\": \"number\",\n        \"std\": 5313.383402237066,\n        \"min\": 10.0,\n        \"max\": 12112.5,\n        \"num_unique_values\": 8,\n        \"samples\": [\n          11627.390000000001,\n          11650.45,\n          10.0\n        ],\n        \"semantic_type\": \"\",\n        \"description\": \"\"\n      }\n    },\n    {\n      \"column\": \"Diabetes_Count\",\n      \"properties\": {\n        \"dtype\": \"number\",\n        \"std\": 641687.977599593,\n        \"min\": 10.0,\n        \"max\": 1630037.0,\n        \"num_unique_values\": 8,\n        \"samples\": [\n          1426449.8,\n          1430515.0,\n          10.0\n        ],\n        \"semantic_type\": \"\",\n        \"description\": \"\"\n      }\n    },\n    {\n      \"column\": \"Diabetes_Population\",\n      \"properties\": {\n        \"dtype\": \"number\",\n        \"std\": 5305595.8141010655,\n        \"min\": 10.0,\n        \"max\": 12526191.0,\n        \"num_unique_values\": 8,\n        \"samples\": [\n          11670182.9,\n          11667568.5,\n          10.0\n        ],\n        \"semantic_type\": \"\",\n        \"description\": \"\"\n      }\n    }\n  ]\n}"
            }
          },
          "metadata": {},
          "execution_count": 21
        }
      ],
      "source": [
        "df.describe()"
      ]
    },
    {
      "cell_type": "markdown",
      "id": "66487727",
      "metadata": {
        "id": "66487727"
      },
      "source": [
        "Visualizing chronic disease Rates over year by Geography for each chronic disease : HYpertension, Diabeties and COPD."
      ]
    },
    {
      "cell_type": "code",
      "source": [
        "#we only need year and rate for this chart\n",
        "hypertensionchart = hypertension_as[['Year','Hypertension_Rate']]\n",
        "diabeteschart = diabetes_as[['Year','Diabetes_Rate']]\n",
        "copdchart = COPD_as[['Year','COPD_Rate']]\n",
        "\n",
        "#Combining into a single DataFrame\n",
        "combined_df = hypertensionchart.merge(diabeteschart, on='Year').merge(copdchart, on='Year')\n",
        "combined_df.set_index('Year', inplace=True)\n",
        "\n",
        "# Plotting the data into a line chart\n",
        "combined_df.plot(figsize = (15,7) ,marker='o')\n",
        "plt.title(\"Chronic Disease Hospitalization Rate Over Years\")\n",
        "plt.xlabel(\"Year\")\n",
        "plt.ylabel(\"Chronic Disease Hospitalization Rate\")\n",
        "plt.xticks(rotation=0)\n",
        "plt.legend(title=\"Chronic Disease\", bbox_to_anchor=(1.05, 1), loc='upper left')\n",
        "plt.tight_layout()\n",
        "plt.show()"
      ],
      "metadata": {
        "colab": {
          "base_uri": "https://localhost:8080/",
          "height": 413
        },
        "id": "BkalluMEEEVq",
        "outputId": "ec2c09a4-7922-4a4d-bbe9-b34abbb80bb6"
      },
      "id": "BkalluMEEEVq",
      "execution_count": 22,
      "outputs": [
        {
          "output_type": "display_data",
          "data": {
            "text/plain": [
              "<Figure size 1500x700 with 1 Axes>"
            ],
            "image/png": "[encoded data removed]"
          },
          "metadata": {}
        }
      ]
    },
    {
      "cell_type": "markdown",
      "source": [
        "As you can see in the line chart from 2013 to 2022, the age-standardized rate of hypertension and COPD showed a gradual decline, indicating potential success in public health interventions and lifestyle changes. However, the diabetes rate consistently rose, pointing toward a growing challenge that may need targeted policy responses such as nutrition education, diabetes screening programs, and physical activity promotion."
      ],
      "metadata": {
        "id": "niOMAngS59S_"
      },
      "id": "niOMAngS59S_"
    },
    {
      "cell_type": "markdown",
      "id": "21124226",
      "metadata": {
        "id": "21124226"
      },
      "source": [
        "We have Age Specific Dataset in our original dataset as well. Lets see what age people are prone to these chronic disease more."
      ]
    },
    {
      "cell_type": "code",
      "execution_count": 23,
      "id": "96eaeb45",
      "metadata": {
        "id": "96eaeb45"
      },
      "outputs": [],
      "source": [
        "hypertension_age_specific = hypertension[(hypertension['Measure'] == 'Age-specific rate (0 to 19)') |\n",
        "                               (hypertension['Measure'] == 'Age-specific rate (20 to 44)') |\n",
        "                               (hypertension['Measure'] == 'Age-specific rate (45 to 64)') |\n",
        "                               (hypertension['Measure'] == 'Age-specific rate (65 to 74)') |\n",
        "                               (hypertension['Measure'] == 'Age-specific rate (75+)')]"
      ]
    },
    {
      "cell_type": "code",
      "execution_count": 24,
      "id": "81506e20",
      "metadata": {
        "id": "81506e20"
      },
      "outputs": [],
      "source": [
        "COPD_age_specific = COPD[(COPD['Measure'] == 'Age-specific rate (0 to 19)') |\n",
        "                               (COPD['Measure'] == 'Age-specific rate (20 to 44)') |\n",
        "                               (COPD['Measure'] == 'Age-specific rate (45 to 64)') |\n",
        "                               (COPD['Measure'] == 'Age-specific rate (65 to 74)') |\n",
        "                               (COPD['Measure'] == 'Age-specific rate (75+)')]"
      ]
    },
    {
      "cell_type": "code",
      "execution_count": 25,
      "id": "19a684dd",
      "metadata": {
        "id": "19a684dd"
      },
      "outputs": [],
      "source": [
        "diabetes_age_specific = diabetes[(diabetes['Measure'] == 'Age-specific rate (0 to 19)') |\n",
        "                               (diabetes['Measure'] == 'Age-specific rate (20 to 44)') |\n",
        "                               (diabetes['Measure'] == 'Age-specific rate (45 to 64)') |\n",
        "                               (diabetes['Measure'] == 'Age-specific rate (65 to 74)') |\n",
        "                               (diabetes['Measure'] == 'Age-specific rate (75+)')]"
      ]
    },
    {
      "cell_type": "code",
      "source": [
        "hypertension_mean_age = hypertension_age_specific.groupby('Measure')['Hypertension_Rate'].mean()\n",
        "copd_mean_age = COPD_age_specific.groupby('Measure')['COPD_Rate'].mean()\n",
        "diabetes_mean_age = diabetes_age_specific.groupby('Measure')['Diabetes_Rate'].mean()"
      ],
      "metadata": {
        "id": "SIp2oGc8GsKE"
      },
      "id": "SIp2oGc8GsKE",
      "execution_count": 26,
      "outputs": []
    },
    {
      "cell_type": "code",
      "source": [
        "combined_df_age = pd.DataFrame({\n",
        "    'Hypertension Rate': hypertension_mean_age,\n",
        "    'COPD Rate': copd_mean_age,\n",
        "    'Diabetes Rate': diabetes_mean_age\n",
        "})"
      ],
      "metadata": {
        "id": "pzza7YdmKNb3"
      },
      "id": "pzza7YdmKNb3",
      "execution_count": 27,
      "outputs": []
    },
    {
      "cell_type": "code",
      "source": [
        "combined_df_age.plot(kind = 'bar', figsize = (15,7), color = ('#1b9a88','#6aa4c9','#eb5600'))  # Line plot with markers\n",
        "plt.title(\"Mean Rate Over Years by Age Specific and Chronic Disease\")\n",
        "plt.xlabel(\"Age\")\n",
        "plt.ylabel(\"Mean Age Specific Rate\")\n",
        "plt.xticks(rotation=0)\n",
        "plt.legend(title=\"Chronic Disease\", bbox_to_anchor=(1.05, 1), loc='upper left')\n",
        "plt.tight_layout()\n",
        "plt.show()"
      ],
      "metadata": {
        "colab": {
          "base_uri": "https://localhost:8080/",
          "height": 413
        },
        "id": "ZxWc-_6iKZpJ",
        "outputId": "e6bb90bf-a798-4da7-d9c2-4045c38a081f"
      },
      "id": "ZxWc-_6iKZpJ",
      "execution_count": 28,
      "outputs": [
        {
          "output_type": "display_data",
          "data": {
            "text/plain": [
              "<Figure size 1500x700 with 1 Axes>"
            ],
            "image/png": "[encoded data removed]"
          },
          "metadata": {}
        }
      ]
    },
    {
      "cell_type": "markdown",
      "source": [
        "In this figure here you can see Chronic disease rates increase significantly with age. In particular, hypertension exhibits a steep rise, reaching over 83,000 per 100,000 in those aged 75 and older. Diabetes follows a similar trajectory, nearly tripling between the 45–64 and 75+ age groups. COPD, while generally lower in absolute rate, also escalates notably in older adults. This emphasizes the need for age-targeted interventions and preventive strategies focused on middle-aged and senior populations."
      ],
      "metadata": {
        "id": "ZP-WMf_Z6CcE"
      },
      "id": "ZP-WMf_Z6CcE"
    },
    {
      "cell_type": "markdown",
      "id": "4504b9cb",
      "metadata": {
        "id": "4504b9cb"
      },
      "source": [
        "So, is there any Correlation between these three chronic diseases?"
      ]
    },
    {
      "cell_type": "code",
      "execution_count": 29,
      "id": "1f923b80",
      "metadata": {
        "colab": {
          "base_uri": "https://localhost:8080/",
          "height": 545
        },
        "id": "1f923b80",
        "outputId": "972de45a-da08-45d3-c08f-d1751a3c169b"
      },
      "outputs": [
        {
          "output_type": "display_data",
          "data": {
            "text/plain": [
              "<Figure size 800x600 with 2 Axes>"
            ],
            "image/png": "[encoded data removed]"
          },
          "metadata": {}
        }
      ],
      "source": [
        "fields = ['Hypertension_Rate', 'COPD_Rate', 'Diabetes_Rate']\n",
        "correlation_matrix = df[fields].corr()\n",
        "plt.figure(figsize=(8, 6))\n",
        "sns.heatmap(correlation_matrix, annot=True, cmap='coolwarm', fmt=\".2f\")\n",
        "plt.title(\"Correlation Heatmap\")\n",
        "plt.show()"
      ]
    },
    {
      "cell_type": "markdown",
      "source": [
        "This correlation heatmap shows the relationship between the three chronic diseases based on Ontario data. We can clearly see that Hypertension and COPD have strong positive co-relation. Hypertension and Diabetes on the other hand have strong negative co-relation. Same is for COPD and Diabetes as well."
      ],
      "metadata": {
        "id": "LPrbzWzw6J6n"
      },
      "id": "LPrbzWzw6J6n"
    },
    {
      "cell_type": "markdown",
      "id": "46223f3d",
      "metadata": {
        "id": "46223f3d"
      },
      "source": [
        "# Statistical Analysis"
      ]
    },
    {
      "cell_type": "markdown",
      "id": "7c5e9909",
      "metadata": {
        "id": "7c5e9909"
      },
      "source": [
        "##GLM (Poission Regression)"
      ]
    },
    {
      "cell_type": "markdown",
      "id": "45dc871f",
      "metadata": {
        "id": "45dc871f"
      },
      "source": [
        "###Hypertension as a dependent variable"
      ]
    },
    {
      "cell_type": "code",
      "execution_count": 30,
      "id": "7b639c33",
      "metadata": {
        "colab": {
          "base_uri": "https://localhost:8080/"
        },
        "id": "7b639c33",
        "outputId": "81a0ee35-2e3d-419d-fcab-931406f4eee0"
      },
      "outputs": [
        {
          "output_type": "stream",
          "name": "stdout",
          "text": [
            "                 Generalized Linear Model Regression Results                  \n",
            "==============================================================================\n",
            "Dep. Variable:     Hypertension_Count   No. Observations:                   10\n",
            "Model:                            GLM   Df Residuals:                        6\n",
            "Model Family:                 Poisson   Df Model:                            3\n",
            "Link Function:                    Log   Scale:                          1.0000\n",
            "Method:                          IRLS   Log-Likelihood:                -97.496\n",
            "Date:                Thu, 24 Jul 2025   Deviance:                       26.929\n",
            "Time:                        14:24:56   Pearson chi2:                     26.9\n",
            "No. Iterations:                     4   Pseudo R-squ. (CS):              1.000\n",
            "Covariance Type:            nonrobust                                         \n",
            "===============================================================================================\n",
            "                                  coef    std err          z      P>|z|      [0.025      0.975]\n",
            "-----------------------------------------------------------------------------------------------\n",
            "const                           0.4503      0.449      1.004      0.315      -0.429       1.330\n",
            "COPD_Rate                    2.181e-05   1.55e-06     14.041      0.000    1.88e-05    2.48e-05\n",
            "Diabetes_Rate                2.878e-05   3.54e-06      8.123      0.000    2.18e-05    3.57e-05\n",
            "log_Hypertension_population     0.8614      0.029     29.213      0.000       0.804       0.919\n",
            "===============================================================================================\n"
          ]
        }
      ],
      "source": [
        "# Create offset (log of population)\n",
        "df['log_Hypertension_population'] = np.log(df['Hypertension_Population'])\n",
        "\n",
        "# Poisson regression with offset and rate predictors\n",
        "modelGLM1 = sm.GLM(\n",
        "    df['Hypertension_Count'],\n",
        "    sm.add_constant(df[['COPD_Rate', 'Diabetes_Rate', 'log_Hypertension_population']]),\n",
        "    family = sm.families.Poisson()\n",
        ").fit()\n",
        "\n",
        "print(modelGLM1.summary())"
      ]
    },
    {
      "cell_type": "markdown",
      "source": [
        "The Poisson regression model for hypertension-related hospitalizations revealed statistically significant associations with both COPD and diabetes rates. Specifically, as the rates of COPD and diabetes increased, so did the expected count of hypertension hospitalizations, even after adjusting for population size."
      ],
      "metadata": {
        "id": "mfR4WQ4f6S7V"
      },
      "id": "mfR4WQ4f6S7V"
    },
    {
      "cell_type": "markdown",
      "id": "47a76c38",
      "metadata": {
        "id": "47a76c38"
      },
      "source": [
        "###COPD as dependent variable"
      ]
    },
    {
      "cell_type": "code",
      "execution_count": 31,
      "id": "66be3329",
      "metadata": {
        "colab": {
          "base_uri": "https://localhost:8080/"
        },
        "id": "66be3329",
        "outputId": "5e8484cc-197d-4a1c-ef47-d31dcedcec0d"
      },
      "outputs": [
        {
          "output_type": "stream",
          "name": "stdout",
          "text": [
            "                 Generalized Linear Model Regression Results                  \n",
            "==============================================================================\n",
            "Dep. Variable:             COPD_Count   No. Observations:                   10\n",
            "Model:                            GLM   Df Residuals:                        6\n",
            "Model Family:                 Poisson   Df Model:                            3\n",
            "Link Function:                    Log   Scale:                          1.0000\n",
            "Method:                          IRLS   Log-Likelihood:                -1434.1\n",
            "Date:                Thu, 24 Jul 2025   Deviance:                       2712.2\n",
            "Time:                        14:24:56   Pearson chi2:                 2.72e+03\n",
            "No. Iterations:                     3   Pseudo R-squ. (CS):              1.000\n",
            "Covariance Type:            nonrobust                                         \n",
            "=======================================================================================\n",
            "                          coef    std err          z      P>|z|      [0.025      0.975]\n",
            "---------------------------------------------------------------------------------------\n",
            "const                  19.5753      1.537     12.732      0.000      16.562      22.589\n",
            "Hypertension_Rate   -2.243e-05   5.76e-06     -3.894      0.000   -3.37e-05   -1.11e-05\n",
            "Diabetes_Rate           0.0001   6.75e-06     15.431      0.000    9.09e-05       0.000\n",
            "log_COPD_population    -0.3966      0.087     -4.547      0.000      -0.567      -0.226\n",
            "=======================================================================================\n"
          ]
        }
      ],
      "source": [
        "# Create offset (log of population)\n",
        "df['log_COPD_population'] = np.log(df['COPD_Population'])\n",
        "\n",
        "# Poisson regression with offset and rate predictors\n",
        "modelGLM2 = sm.GLM(\n",
        "    df['COPD_Count'],\n",
        "    sm.add_constant(df[['Hypertension_Rate', 'Diabetes_Rate', 'log_COPD_population']]),\n",
        "    family = sm.families.Poisson()\n",
        ").fit()\n",
        "\n",
        "print(modelGLM2.summary())"
      ]
    },
    {
      "cell_type": "markdown",
      "source": [
        "Here we have taken COPD Count as a dependent variable.\n",
        "Interestingly, the model showed a negative relationship between hypertension rate and COPD hospitalizations, suggesting that regions with higher hypertension rates may have lower COPD admission counts. In contrast, the diabetes rate had a strong and highly significant positive effect on COPD hospitalizations\n"
      ],
      "metadata": {
        "id": "06h3PNh_6X4Z"
      },
      "id": "06h3PNh_6X4Z"
    },
    {
      "cell_type": "markdown",
      "id": "72469749",
      "metadata": {
        "id": "72469749"
      },
      "source": [
        "###Diabetes as Dependent Variable\n"
      ]
    },
    {
      "cell_type": "code",
      "execution_count": 32,
      "id": "14938f74",
      "metadata": {
        "colab": {
          "base_uri": "https://localhost:8080/"
        },
        "id": "14938f74",
        "outputId": "06f5cbff-475a-4a2b-c179-9c06bbd4f528"
      },
      "outputs": [
        {
          "output_type": "stream",
          "name": "stdout",
          "text": [
            "                 Generalized Linear Model Regression Results                  \n",
            "==============================================================================\n",
            "Dep. Variable:         Diabetes_Count   No. Observations:                   10\n",
            "Model:                            GLM   Df Residuals:                        6\n",
            "Model Family:                 Poisson   Df Model:                            3\n",
            "Link Function:                    Log   Scale:                          1.0000\n",
            "Method:                          IRLS   Log-Likelihood:                -297.17\n",
            "Date:                Thu, 24 Jul 2025   Deviance:                       434.30\n",
            "Time:                        14:24:56   Pearson chi2:                     434.\n",
            "No. Iterations:                     4   Pseudo R-squ. (CS):              1.000\n",
            "Covariance Type:            nonrobust                                         \n",
            "===========================================================================================\n",
            "                              coef    std err          z      P>|z|      [0.025      0.975]\n",
            "-------------------------------------------------------------------------------------------\n",
            "const                      -4.2416      1.235     -3.436      0.001      -6.661      -1.822\n",
            "Hypertension_Rate       -6.966e-05   4.27e-06    -16.319      0.000    -7.8e-05   -6.13e-05\n",
            "COPD_Rate                3.726e-05   2.26e-06     16.503      0.000    3.28e-05    4.17e-05\n",
            "log_Diabetes_population     1.2241      0.069     17.724      0.000       1.089       1.359\n",
            "===========================================================================================\n"
          ]
        }
      ],
      "source": [
        "# Create offset (log of population)\n",
        "df['log_Diabetes_population'] = np.log(df['Diabetes_Population'])\n",
        "\n",
        "# Poisson regression with offset and rate predictors\n",
        "modelGLM3 = sm.GLM(\n",
        "    df['Diabetes_Count'],\n",
        "    sm.add_constant(df[['Hypertension_Rate', 'COPD_Rate', 'log_Diabetes_population']]),\n",
        "    family = sm.families.Poisson()\n",
        ").fit()\n",
        "\n",
        "print(modelGLM3.summary())"
      ]
    },
    {
      "cell_type": "markdown",
      "source": [
        "In the third model, we have taken Diabetes Count as a dependent variable. Interestingly, hypertension rate showed a significant negative association, suggesting that in regions with higher hypertension prevalence, diabetes hospitalizations were relatively lower. On the other hand, the COPD rate exhibited a strong positive effect, indicating that areas with higher COPD prevalence also experienced increased diabetes-related hospitalizations—potentially pointing to shared risk factors or overlapping patient populations."
      ],
      "metadata": {
        "id": "w7MElF_i6ePT"
      },
      "id": "w7MElF_i6ePT"
    },
    {
      "cell_type": "markdown",
      "source": [
        "If you remember the correlation heatmap that was shown earlier, what we found out is that the result we got from the correlation heatmap contradicts the result we got from the models.\n",
        "The first model is showing a strong positive relationship with diabetes, whereas our heatmap is showing a strong -ve relationship between Hypertension and Diabetes.\n",
        "Also our second model showed a negative relationship between COPD and Hypertension. However they are strongly positively related and similar other differences in the relationship between the chronic diseases can be seen.\n",
        "\n",
        "Multicolinearity is detected which can cause unstable or misleading regression coefficient and might lead to sign reversal as well, which we are seeing.\n",
        "To overcome this, we will move now with (Principal Component Analysis) PCA model to avoid the overlapping effects.\n"
      ],
      "metadata": {
        "id": "-pjQnMz06iOL"
      },
      "id": "-pjQnMz06iOL"
    },
    {
      "cell_type": "markdown",
      "source": [
        "##Principal Component Analysis (PCA)"
      ],
      "metadata": {
        "id": "miMQbD8Y5QUD"
      },
      "id": "miMQbD8Y5QUD"
    },
    {
      "cell_type": "code",
      "source": [
        "from sklearn.preprocessing import StandardScaler\n",
        "\n",
        "scaler = StandardScaler()\n",
        "X_scaled = scaler.fit_transform(df[['Hypertension_Rate', 'COPD_Rate', 'Diabetes_Rate']])"
      ],
      "metadata": {
        "id": "Ie33WGkl3Y9-"
      },
      "id": "Ie33WGkl3Y9-",
      "execution_count": 35,
      "outputs": []
    },
    {
      "cell_type": "code",
      "source": [
        "from sklearn.decomposition import PCA\n",
        "\n",
        "pca = PCA()\n",
        "X_pca = pca.fit_transform(X_scaled)\n",
        "\n",
        "# Add PC1 and PC2 to your dataframe\n",
        "df['PC1'] = X_pca[:, 0]\n",
        "df['PC2'] = X_pca[:, 1]"
      ],
      "metadata": {
        "id": "IBbRxJBQ3dSE"
      },
      "id": "IBbRxJBQ3dSE",
      "execution_count": 36,
      "outputs": []
    },
    {
      "cell_type": "markdown",
      "source": [
        "The PCA reduced the three correlated variables into uncorrelated components, making it easier to detect hidden patterns in the data without the noise of multicollinearity."
      ],
      "metadata": {
        "id": "La2GCeJM6rS6"
      },
      "id": "La2GCeJM6rS6"
    },
    {
      "cell_type": "markdown",
      "source": [
        "###Hypertension Count as Dependent Variable"
      ],
      "metadata": {
        "id": "MCP0wmbs5ZFi"
      },
      "id": "MCP0wmbs5ZFi"
    },
    {
      "cell_type": "code",
      "source": [
        "modelPCA1 = sm.GLM(\n",
        "    df['Hypertension_Count'],\n",
        "    sm.add_constant(df[['PC1', 'PC2', 'log_Hypertension_population']]),\n",
        "    family=sm.families.Poisson()\n",
        ").fit()\n",
        "\n",
        "print(modelPCA1.summary())"
      ],
      "metadata": {
        "colab": {
          "base_uri": "https://localhost:8080/"
        },
        "id": "AfqoGqbI3hK6",
        "outputId": "45908a0c-30d6-4e4e-9b4a-a66d13b3bed9"
      },
      "id": "AfqoGqbI3hK6",
      "execution_count": 38,
      "outputs": [
        {
          "output_type": "stream",
          "name": "stdout",
          "text": [
            "                 Generalized Linear Model Regression Results                  \n",
            "==============================================================================\n",
            "Dep. Variable:     Hypertension_Count   No. Observations:                   10\n",
            "Model:                            GLM   Df Residuals:                        6\n",
            "Model Family:                 Poisson   Df Model:                            3\n",
            "Link Function:                    Log   Scale:                          1.0000\n",
            "Method:                          IRLS   Log-Likelihood:                -99.129\n",
            "Date:                Thu, 24 Jul 2025   Deviance:                       30.194\n",
            "Time:                        14:38:09   Pearson chi2:                     30.2\n",
            "No. Iterations:                     4   Pseudo R-squ. (CS):              1.000\n",
            "Covariance Type:            nonrobust                                         \n",
            "===============================================================================================\n",
            "                                  coef    std err          z      P>|z|      [0.025      0.975]\n",
            "-----------------------------------------------------------------------------------------------\n",
            "const                           2.1806      0.672      3.243      0.001       0.863       3.498\n",
            "PC1                            -0.0033      0.001     -3.158      0.002      -0.005      -0.001\n",
            "PC2                             0.0107      0.001     15.208      0.000       0.009       0.012\n",
            "log_Hypertension_population     0.7859      0.041     19.019      0.000       0.705       0.867\n",
            "===============================================================================================\n"
          ]
        }
      ]
    },
    {
      "cell_type": "markdown",
      "source": [
        "The first PCA model explains the largest variance, has nearly equal positive loadings for hypertension and COPD, and a nearly equal but negative loading for diabetes. This indicates an inverse pattern—regions with higher hypertension and COPD rates tend to show lower diabetes rates."
      ],
      "metadata": {
        "id": "Q3M7qJ_m6xVs"
      },
      "id": "Q3M7qJ_m6xVs"
    },
    {
      "cell_type": "markdown",
      "source": [
        "###COPD Count as Dependent Variable"
      ],
      "metadata": {
        "id": "xVWUiCJC5eoO"
      },
      "id": "xVWUiCJC5eoO"
    },
    {
      "cell_type": "code",
      "source": [
        "modelPCA2 = sm.GLM(\n",
        "    df['COPD_Count'],\n",
        "    sm.add_constant(df[['PC1', 'PC2', 'log_COPD_population']]),\n",
        "    family=sm.families.Poisson()\n",
        ").fit()\n",
        "\n",
        "print(modelPCA2.summary())"
      ],
      "metadata": {
        "colab": {
          "base_uri": "https://localhost:8080/"
        },
        "id": "RZx30e1K3wF7",
        "outputId": "c7f0e1ef-37cc-4f0c-967d-b71ea2842521"
      },
      "id": "RZx30e1K3wF7",
      "execution_count": 40,
      "outputs": [
        {
          "output_type": "stream",
          "name": "stdout",
          "text": [
            "                 Generalized Linear Model Regression Results                  \n",
            "==============================================================================\n",
            "Dep. Variable:             COPD_Count   No. Observations:                   10\n",
            "Model:                            GLM   Df Residuals:                        6\n",
            "Model Family:                 Poisson   Df Model:                            3\n",
            "Link Function:                    Log   Scale:                          1.0000\n",
            "Method:                          IRLS   Log-Likelihood:                -106.65\n",
            "Date:                Thu, 24 Jul 2025   Deviance:                       57.378\n",
            "Time:                        14:38:37   Pearson chi2:                     57.4\n",
            "No. Iterations:                     4   Pseudo R-squ. (CS):              1.000\n",
            "Covariance Type:            nonrobust                                         \n",
            "=======================================================================================\n",
            "                          coef    std err          z      P>|z|      [0.025      0.975]\n",
            "---------------------------------------------------------------------------------------\n",
            "const                  -4.5660      1.233     -3.702      0.000      -6.983      -2.149\n",
            "PC1                     0.0116      0.002      6.076      0.000       0.008       0.015\n",
            "PC2                     0.0463      0.001     35.924      0.000       0.044       0.049\n",
            "log_COPD_population     1.1260      0.076     14.856      0.000       0.977       1.275\n",
            "=======================================================================================\n"
          ]
        }
      ]
    },
    {
      "cell_type": "markdown",
      "source": [
        "The second component emphasized COPD more strongly, suggesting a unique variability in COPD that's not fully aligned with the other two."
      ],
      "metadata": {
        "id": "9z2KLfqi6-6J"
      },
      "id": "9z2KLfqi6-6J"
    },
    {
      "cell_type": "markdown",
      "source": [
        "###Diabetes Count as Dependent Variable"
      ],
      "metadata": {
        "id": "y3n_2Fe75hjQ"
      },
      "id": "y3n_2Fe75hjQ"
    },
    {
      "cell_type": "code",
      "source": [
        "modelPCA3 = sm.GLM(\n",
        "    df['Diabetes_Count'],\n",
        "    sm.add_constant(df[['PC1', 'PC2', 'log_Diabetes_population']]),\n",
        "    family=sm.families.Poisson()\n",
        ").fit()\n",
        "\n",
        "print(modelPCA3.summary())"
      ],
      "metadata": {
        "colab": {
          "base_uri": "https://localhost:8080/"
        },
        "id": "-qnei7Om31OO",
        "outputId": "fa70ed04-99f7-486a-efa7-a4c9004dd947"
      },
      "id": "-qnei7Om31OO",
      "execution_count": 41,
      "outputs": [
        {
          "output_type": "stream",
          "name": "stdout",
          "text": [
            "                 Generalized Linear Model Regression Results                  \n",
            "==============================================================================\n",
            "Dep. Variable:         Diabetes_Count   No. Observations:                   10\n",
            "Model:                            GLM   Df Residuals:                        6\n",
            "Model Family:                 Poisson   Df Model:                            3\n",
            "Link Function:                    Log   Scale:                          1.0000\n",
            "Method:                          IRLS   Log-Likelihood:                -85.574\n",
            "Date:                Thu, 24 Jul 2025   Deviance:                       11.102\n",
            "Time:                        14:39:03   Pearson chi2:                     11.1\n",
            "No. Iterations:                     4   Pseudo R-squ. (CS):              1.000\n",
            "Covariance Type:            nonrobust                                         \n",
            "===========================================================================================\n",
            "                              coef    std err          z      P>|z|      [0.025      0.975]\n",
            "-------------------------------------------------------------------------------------------\n",
            "const                       1.0252      0.990      1.035      0.301      -0.916       2.966\n",
            "PC1                        -0.0317      0.002    -20.705      0.000      -0.035      -0.029\n",
            "PC2                         0.0325      0.001     31.078      0.000       0.030       0.035\n",
            "log_Diabetes_population     0.8076      0.061     13.271      0.000       0.688       0.927\n",
            "===========================================================================================\n"
          ]
        }
      ]
    },
    {
      "cell_type": "markdown",
      "source": [
        "The third component had a strong loading on hypertension and diabetes together, indicating another pattern of co-movement.\n"
      ],
      "metadata": {
        "id": "KOfOQ4bY7B6l"
      },
      "id": "KOfOQ4bY7B6l"
    },
    {
      "cell_type": "markdown",
      "source": [
        "Compared to the regression models, which focused on predicting individual disease counts and explained relationships pairwise, PCA gives a more holistic, dimensional view. While regression showed significant pairwise associations, PCA reveals how these diseases cluster together in terms of shared variance, highlighting latent patterns and directional contrasts not captured through traditional modeling. By removing redundancy in the data, PCA helps visualize the interconnectedness of chronic conditions more effectively, making it a valuable tool for exploratory insight and strategic public health planning.\n"
      ],
      "metadata": {
        "id": "HkIYxJHr7GAe"
      },
      "id": "HkIYxJHr7GAe"
    },
    {
      "cell_type": "markdown",
      "source": [
        "So in conclusion, Our analysis revealed strong interdependencies between these chronic diseases—especially a significant positive correlation between COPD and Hypertension, and an inverse association between Diabetes and Hypertension."
      ],
      "metadata": {
        "id": "ljzPVhey7Sse"
      },
      "id": "ljzPVhey7Sse"
    }
  ],
  "metadata": {
    "kernelspec": {
      "display_name": "Python 3",
      "language": "python",
      "name": "python3"
    },
    "language_info": {
      "codemirror_mode": {
        "name": "ipython",
        "version": 3
      },
      "file_extension": ".py",
      "mimetype": "text/x-python",
      "name": "python",
      "nbconvert_exporter": "python",
      "pygments_lexer": "ipython3",
      "version": "3.13.1"
    },
    "colab": {
      "provenance": [],
      "toc_visible": true
    }
  },
  "nbformat": 4,
  "nbformat_minor": 5
}